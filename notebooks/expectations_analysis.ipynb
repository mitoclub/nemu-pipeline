{
 "cells": [
  {
   "cell_type": "code",
   "execution_count": 4,
   "metadata": {},
   "outputs": [],
   "source": [
    "import os\n",
    "import re\n",
    "import sys\n",
    "import glob\n",
    "import random\n",
    "from collections import defaultdict\n",
    "from functools import reduce, partial\n",
    "import warnings\n",
    "warnings.filterwarnings(\"ignore\")\n",
    "\n",
    "import numpy as np\n",
    "import pandas as pd\n",
    "import matplotlib\n",
    "import matplotlib.pyplot as plt\n",
    "import matplotlib.ticker as ticker\n",
    "import seaborn as sns\n",
    "from scipy import spatial\n",
    "import ete3\n",
    "from ete3 import PhyloTree\n",
    "from Bio import SeqIO\n",
    "from Bio import pairwise2, SeqRecord, Seq\n",
    "from Bio.Data import CodonTable\n",
    "\n",
    "import pymutspec\n",
    "from pymutspec.annotation import mutations_summary, calculate_mutspec, lbl_id2lbl, lbl2lbl_id, CodonAnnotation\n",
    "from pymutspec.constants import possible_sbs192, possible_sbs12\n",
    "from pymutspec.io import GenesStates"
   ]
  },
  {
   "attachments": {},
   "cell_type": "markdown",
   "metadata": {},
   "source": [
    "## Zeros for cosine similarity"
   ]
  },
  {
   "cell_type": "code",
   "execution_count": 13,
   "metadata": {},
   "outputs": [
    {
     "name": "stdout",
     "output_type": "stream",
     "text": [
      "CosSim: 0.9621948256285112\n"
     ]
    }
   ],
   "source": [
    "a = [5,1,40,2,10]\n",
    "b = [0,2,34,4,18]\n",
    "\n",
    "print(\"CosSim:\", 1-spatial.distance.cosine(a,b))"
   ]
  },
  {
   "cell_type": "code",
   "execution_count": 16,
   "metadata": {},
   "outputs": [
    {
     "name": "stdout",
     "output_type": "stream",
     "text": [
      "CosSim: 0.9621948256285113\n"
     ]
    }
   ],
   "source": [
    "a = [0,0,0,0,0,0,0,0,0,0,0,0,0,0,0,0,0,0,0,0,0,0,0,0,0,0,0,0,0,0,0,0,0,5,1,40,2,10]\n",
    "b = [0,0,0,0,0,0,0,0,0,0,0,0,0,0,0,0,0,0,0,0,0,0,0,0,0,0,0,0,0,0,0,0,0,0,2,34,4,18]\n",
    "\n",
    "print(\"CosSim:\", 1-spatial.distance.cosine(a,b))"
   ]
  },
  {
   "attachments": {},
   "cell_type": "markdown",
   "metadata": {},
   "source": [
    "## Prepare Data"
   ]
  },
  {
   "attachments": {},
   "cell_type": "markdown",
   "metadata": {},
   "source": [
    "### Mammals outgrp mito"
   ]
  },
  {
   "cell_type": "code",
   "execution_count": 2,
   "metadata": {},
   "outputs": [
    {
     "data": {
      "text/plain": [
       "'Cociella crocodila voucher HABs-2016-007 mitochondrion, complete genome'"
      ]
     },
     "execution_count": 2,
     "metadata": {},
     "output_type": "execute_result"
    }
   ],
   "source": [
    "ref = next(SeqIO.parse(\"../data/mammals/raw/outgrp.gb\", format=\"gb\"))\n",
    "ref.description"
   ]
  },
  {
   "cell_type": "code",
   "execution_count": 46,
   "metadata": {},
   "outputs": [],
   "source": [
    "for f in ref.features:\n",
    "    if f.type == \"CDS\":\n",
    "        if f.qualifiers[\"gene\"] == ['CYTB']:\n",
    "            cytb = str(f.extract(ref.seq))\n",
    "        if f.qualifiers[\"gene\"] == ['ND1']:\n",
    "            nd1 = str(f.extract(ref.seq))"
   ]
  },
  {
   "cell_type": "code",
   "execution_count": 47,
   "metadata": {},
   "outputs": [
    {
     "name": "stdout",
     "output_type": "stream",
     "text": [
      "ATGGCCAACTTACGAAAAACCCACCCCTTACTCAAAATTGCTAACAATGCTTTAGTAGACCTCCCCGCCCCCTCCAACATCTCCGCATGATGAAACTTTGGGTCCCTTTTAGGACTATGCTTAATTATCCAAATCCTCTCAGGCTTATTTCTAGCTATACATTACACATCAGATGTCGCTACAGCCTTCTCCTCCGTTGCCCACATCTGCCGAGACGTAAATTACGGCTGGCTAATTCGCAATCTCCACGCAAACGGAGCATCATTCTTTTTTATCTGCATTTATATACACATCGGACGCGGCCTCTACTACGGATCATACCTTTTTAAAGAGACATGAAACATTGGCGTCGTGCTCTTGCTCCTCGTAATAGTCACCGCTTTCGTGGGCTACGTCCTCCCCTGAGGACAAATATCATTCTGAGGCGCCACGGTTATTACCAACCTTCTGTCCGCCGTCCCTTATATTGGTAACACCCTCGTTCAATGAATCTGAGGAGGCTTCTCAGTAGATAATGCTACATTAAACCGTTTCTTCGCGTTCCATTTCCTTTTCCCGTTCATCATCGCAGCCGCCACTATAATCCACCTTCTATTCCTTCACCAAACTGGTTCTAACAACCCGCTTGGGCTATGGCTCAACACAGACAAAATTTCCTTCCACCCCTACTTCTCATATAAAGACCTCTTAGGGTTCGCAGGCCTTCTACTGACCTTAACAGCTTTAGCACTTTTTTCTCCCAACCTCTTAGGAGATCCTGATAACTTCACCCCGGCCAACCCCCTCGTAACCCCTCCCCATATTAAACCAGAATGATACTTCTTATTTGCATACGCTATTCTCCGCTCAATCCCTAATAAACTAGGAGGCGTACTAGCCCTCCTAGCCTCAATCTTAATTCTCATACTAATCCCGATTCTTCACACATCAAAACAACGAAGTTTAACATTCCGCCCTGTCTCTCAACTCCTGTTCTGGGCCCTTATTGCAGACGTCGCAATCTTAACTTGAATTGGGGGGATACCAGTAGAGGACCCGTTTATTGTTATTGGCCAAATTGCATCCCTTCTATACTTCACCTTATTCCTGCTCTTTCACCCACTAACAGCCCTGGTAGAAAACAAAGCCTTAGGATGATCCT\n",
      "ATGTCCTCAATACTTATTATTCAAGCAGTTAGCCCCCTAACTTTTATTATCCCCGTCCTTCTAGCCGTTGCATTCCTCACATTACTTGAACGGAAAGTTCTAGGGTACATACAACTACGCAAGGCCCCAAACATCGTAGGGCCCTTTGGATTATTTCAACCTATTGCGGATGGTGTTAAACTCTTTATCAAAGAGCCCGTACGACCATCAACCGCCTCCCCCCTCCTATTTATTTTAGCCCCCATCCTCGCACTTACACTTGCACTCACCCTTTGGGCCCCCATGCCCTTACCTCACCCATTCGTTGATATAAACCTAGGAGTCCTATTTGTCCTAGCCATTTCTAGCCTAGCAGTATACTCTATTTTAGGCTCAGGATGAGCATCAAACTCAAAGTACGCACTAATAGGAGCATTACGAGCCGTAGCCCAAACCATTTCCTACGAAGTGAGCCTAGGACTTATCCTACTCAACATTATTATTTTCGTAGGAGGCTTCACACTACAAACATTCAACACTGCTCAAGAGAGCATCTGACTTATCGCCCCTGCTTGACCCCTAGCAGCAATATGATACATCTCCACCCTAGCAGAGACAAACCGAGCACCTTTTGATTTAACTGAAGGAGAATCAGAGCTAGTATCTGGGTTTAACGTAGAATATGCAGGAGGCCCCTTCGCATTGTTCTTCCTAGCAGAATACTCAAACATCTTGCTTATAAATACCCTATCAACTATCTTATTTATAGGAGCCGCTCTCATACCAACAATCCCCTTACTAACCACTATAAACCTTATAACTAAAGCAGCACTACTATCCGTTATTTTTCTTTGGGTGCGGGCCTCATACCCTCGATTCCGATACGACCAACTAATGCACTTAATCTGAAAAAACTTCCTTCCACTCGCATTAGCCCTGATTATCTGACATCTAGCTCTCCCAATCTCACTTTCAGGACTCCCCCCAAAATTATAA\n"
     ]
    }
   ],
   "source": [
    "print(cytb)\n",
    "print(nd1)"
   ]
  },
  {
   "attachments": {},
   "cell_type": "markdown",
   "metadata": {},
   "source": [
    "### Human mito"
   ]
  },
  {
   "cell_type": "code",
   "execution_count": 48,
   "metadata": {},
   "outputs": [],
   "source": [
    "ref = pymutspec.io.read_genbank_ref(\"../data/NC_012920.1.gb\")"
   ]
  },
  {
   "cell_type": "code",
   "execution_count": 49,
   "metadata": {},
   "outputs": [],
   "source": [
    "def get_gene(gname: str):\n",
    "    \"\"\"\n",
    "    ['ND1', 'ND2', 'COX1', 'COX2', 'ATP8', 'ATP6', 'COX3', 'ND3',\n",
    "       'ND4L', 'ND4', 'ND5', 'ND6', 'CYTB']\n",
    "    \"\"\"\n",
    "    seq = \"\".join(ref[ref.GeneName == gname].Nuc.values)\n",
    "    return seq "
   ]
  },
  {
   "cell_type": "code",
   "execution_count": 50,
   "metadata": {},
   "outputs": [
    {
     "name": "stdout",
     "output_type": "stream",
     "text": [
      "ND1\n",
      "MPMANLLLLIVPILIAMAFLMLTERKILGYMQLRKGPNVVGPYGLLQPFADAMKLFTKEPLKPATSTITLYITAPTLALTIALLLWTPLPMPNPLVNLNLGLLFILATSSLAVYSILWSGWASNSNYALIGALRAVAQTISYEVTLAIILLSTLLMSGSFNLSTLITTQEHLWLLLPSWPLAMMWFISTLAETNRTPFDLAEGESELVSGFNIEYAAGPFALFFMAEYTNIIMMNTLTTTIFLGTTYDALSPELYTTYFVTKTLLLTSLFLWIRTAYPRFRYDQLMHLLWKNFLPLTLALLMWYVSMPITISSIPPQT\n",
      "\n",
      "CYTB\n",
      "MTPMRKTNPLMKLINHSFIDLPTPSNISAWWNFGSLLGACLILQITTGLFLAMHYSPDASTAFSSIAHITRDVNYGWIIRYLHANGASMFFICLFLHIGRGLYYGSFLYSETWNIGIILLLATMATAFMGYVLPWGQMSFWGATVITNLLSAIPYIGTDLVQWIWGGYSVDSPTLTRFFTFHFILPFIIAALATLHLLFLHETGSNNPLGITSHSDKITFHPYYTIKDALGLLLFLLSLMTLTLFSPDLLGDPDNYTLANPLNTPPHIKPEWYFLFAYTILRSVPNKLGGVLALLLSILILAMIPILHMSKQQSMMFRPLSQSLYWLLAADLLILTWIGGQPVSYPFTIIGQVASVLYFTTILILMPTISLIENKMLKWA\n",
      "\n"
     ]
    }
   ],
   "source": [
    "ct = CodonTable.unambiguous_dna_by_id[2]\n",
    "\n",
    "for g in ['ND1', 'CYTB']:\n",
    "    s = Seq.Seq(get_gene(g))\n",
    "    print(g)\n",
    "    print(str(s.translate(2)))\n",
    "    print()"
   ]
  },
  {
   "attachments": {},
   "cell_type": "markdown",
   "metadata": {},
   "source": [
    "### Extract genes from alignment of genomes"
   ]
  },
  {
   "cell_type": "code",
   "execution_count": 51,
   "metadata": {},
   "outputs": [],
   "source": [
    "genomes = []\n",
    "genes = {}\n",
    "for rec in SeqIO.parse(\"../data/GAGP/Mitochondria_GreatApes.muscle2.fasta2line\", format=\"fasta\"):\n",
    "    if rec.id in ['ND1', 'ND2', 'COX1', 'COX2', 'ATP8', 'ATP6', 'COX3', 'ND3', 'ND4L', 'ND4', 'ND5', 'ND6', 'CYTB']:\n",
    "        genes[rec.id] = str(rec.seq)\n",
    "    else:\n",
    "        genomes.append(rec)"
   ]
  },
  {
   "cell_type": "code",
   "execution_count": 52,
   "metadata": {},
   "outputs": [],
   "source": [
    "genes_pos = {}\n",
    "for g, seq in genes.items():\n",
    "    m = re.match(\"(-+)(\\w+)(-+)\", seq)\n",
    "    n = len(seq)\n",
    "    if sum([len(x) for x in m.groups()]) == n:\n",
    "        gaps_up, _, gaps_down = m.groups()\n",
    "        p1 = len(gaps_up)\n",
    "        p2 = n - len(gaps_down)\n",
    "        genes_pos[g] = tuple((p1, p2))\n",
    "    else:\n",
    "        print(\"errror\")\n",
    "        break"
   ]
  },
  {
   "cell_type": "code",
   "execution_count": 53,
   "metadata": {},
   "outputs": [
    {
     "data": {
      "text/plain": [
       "{'ND6': (13620, 14145),\n",
       " 'COX3': (8677, 9461),\n",
       " 'ND3': (9529, 9875),\n",
       " 'ND4L': (9940, 10230),\n",
       " 'ATP6': (7997, 8677),\n",
       " 'ND5': (11808, 13620),\n",
       " 'ATP8': (7836, 7997),\n",
       " 'COX2': (7038, 7722),\n",
       " 'COX1': (5355, 6897),\n",
       " 'ND1': (2741, 3697),\n",
       " 'ND2': (3904, 4946),\n",
       " 'ND4': (10230, 11608),\n",
       " 'CYTB': (14218, 15359)}"
      ]
     },
     "execution_count": 53,
     "metadata": {},
     "output_type": "execute_result"
    }
   ],
   "source": [
    "genes_pos"
   ]
  },
  {
   "cell_type": "code",
   "execution_count": 54,
   "metadata": {},
   "outputs": [],
   "source": [
    "new_records = []\n",
    "for gene, (p1, p2) in genes_pos.items():\n",
    "    grec = []\n",
    "    for genome in genomes:\n",
    "        seq = genome.seq[p1: p2]\n",
    "        idx = genome.id + \"_\" + gene\n",
    "        r = SeqRecord.SeqRecord(seq, idx, idx, idx)\n",
    "        new_records.append(r)\n",
    "        grec.append(r)\n",
    "\n",
    "    with open(f\"../data/GAGP/genes/{gene}.fna\", \"w\") as handle:\n",
    "        SeqIO.write(grec, handle, \"fasta-2line\")\n",
    "\n",
    "# with open(\"../data/GAGP/genes.fna\", \"w\") as handle:\n",
    "#     SeqIO.write(new_records, handle, \"fasta-2line\")"
   ]
  },
  {
   "attachments": {},
   "cell_type": "markdown",
   "metadata": {},
   "source": [
    "## Site rates categories"
   ]
  },
  {
   "attachments": {},
   "cell_type": "markdown",
   "metadata": {},
   "source": [
    "### HUMAN"
   ]
  },
  {
   "cell_type": "code",
   "execution_count": 5,
   "metadata": {},
   "outputs": [],
   "source": [
    "path_to_hrates = \"../data/HOMINIDAE/human_rates/\"\n",
    "data = []\n",
    "for p in glob.glob(path_to_hrates + \"*.rate\"):\n",
    "    d = pd.read_csv(p, sep=\"\\t\", comment=\"#\")\n",
    "    d[\"Gene\"] = os.path.basename(p).replace(\".rate\", \"\")\n",
    "    data.append(d)\n",
    "hrates = pd.concat(data)"
   ]
  },
  {
   "cell_type": "code",
   "execution_count": 6,
   "metadata": {},
   "outputs": [
    {
     "data": {
      "text/html": [
       "<div>\n",
       "<style scoped>\n",
       "    .dataframe tbody tr th:only-of-type {\n",
       "        vertical-align: middle;\n",
       "    }\n",
       "\n",
       "    .dataframe tbody tr th {\n",
       "        vertical-align: top;\n",
       "    }\n",
       "\n",
       "    .dataframe thead th {\n",
       "        text-align: right;\n",
       "    }\n",
       "</style>\n",
       "<table border=\"1\" class=\"dataframe\">\n",
       "  <thead>\n",
       "    <tr style=\"text-align: right;\">\n",
       "      <th>Cat</th>\n",
       "      <th>0</th>\n",
       "      <th>1</th>\n",
       "      <th>2</th>\n",
       "      <th>3</th>\n",
       "      <th>4</th>\n",
       "      <th>5</th>\n",
       "      <th>6</th>\n",
       "    </tr>\n",
       "    <tr>\n",
       "      <th>Gene</th>\n",
       "      <th></th>\n",
       "      <th></th>\n",
       "      <th></th>\n",
       "      <th></th>\n",
       "      <th></th>\n",
       "      <th></th>\n",
       "      <th></th>\n",
       "    </tr>\n",
       "  </thead>\n",
       "  <tbody>\n",
       "    <tr>\n",
       "      <th>COX1</th>\n",
       "      <td>1031</td>\n",
       "      <td>0</td>\n",
       "      <td>64</td>\n",
       "      <td>156</td>\n",
       "      <td>54</td>\n",
       "      <td>118</td>\n",
       "      <td>128</td>\n",
       "    </tr>\n",
       "    <tr>\n",
       "      <th>CYTB</th>\n",
       "      <td>671</td>\n",
       "      <td>12</td>\n",
       "      <td>45</td>\n",
       "      <td>158</td>\n",
       "      <td>20</td>\n",
       "      <td>117</td>\n",
       "      <td>120</td>\n",
       "    </tr>\n",
       "    <tr>\n",
       "      <th>ND1</th>\n",
       "      <td>560</td>\n",
       "      <td>9</td>\n",
       "      <td>44</td>\n",
       "      <td>130</td>\n",
       "      <td>27</td>\n",
       "      <td>93</td>\n",
       "      <td>91</td>\n",
       "    </tr>\n",
       "  </tbody>\n",
       "</table>\n",
       "</div>"
      ],
      "text/plain": [
       "Cat      0   1   2    3   4    5    6\n",
       "Gene                                 \n",
       "COX1  1031   0  64  156  54  118  128\n",
       "CYTB   671  12  45  158  20  117  120\n",
       "ND1    560   9  44  130  27   93   91"
      ]
     },
     "execution_count": 6,
     "metadata": {},
     "output_type": "execute_result"
    }
   ],
   "source": [
    "hrates_cats = hrates.groupby(\"Gene\").Cat.value_counts().reset_index(name=\"N\").pivot(\"Gene\", \"Cat\", \"N\").fillna(0).astype(np.int16)\n",
    "hrates_cats"
   ]
  },
  {
   "cell_type": "code",
   "execution_count": 8,
   "metadata": {},
   "outputs": [
    {
     "data": {
      "image/png": "[encoded data removed]",
      "text/plain": [
       "<Figure size 700x100 with 2 Axes>"
      ]
     },
     "metadata": {},
     "output_type": "display_data"
    }
   ],
   "source": [
    "plt.figure(figsize=(7, 1))\n",
    "plt.title(\"Gamma-distribution category frequency for Hominidae genes\")\n",
    "sns.heatmap((hrates_cats.T / hrates_cats.sum(axis=1)).T, annot=True, cmap=\"Reds\", fmt=\".2f\", vmax=1);\n",
    "plt.vlines([2], 0, 13, 'k', linewidth=3)\n",
    "plt.savefig(\"../figures/rates_human.pdf\", bbox_inches=\"tight\")\n",
    "plt.show()"
   ]
  },
  {
   "attachments": {},
   "cell_type": "markdown",
   "metadata": {},
   "source": [
    "### MUS"
   ]
  },
  {
   "cell_type": "code",
   "execution_count": 9,
   "metadata": {},
   "outputs": [],
   "source": [
    "path_to_hrates = \"../data/MUS/mus_rates/\"\n",
    "data = []\n",
    "for p in glob.glob(path_to_hrates + \"*.rate\"):\n",
    "    d = pd.read_csv(p, sep=\"\\t\", comment=\"#\")\n",
    "    d[\"Gene\"] = os.path.basename(p).replace(\".rate\", \"\")\n",
    "    data.append(d)\n",
    "mrates = pd.concat(data)"
   ]
  },
  {
   "cell_type": "code",
   "execution_count": 10,
   "metadata": {},
   "outputs": [
    {
     "data": {
      "text/html": [
       "<div>\n",
       "<style scoped>\n",
       "    .dataframe tbody tr th:only-of-type {\n",
       "        vertical-align: middle;\n",
       "    }\n",
       "\n",
       "    .dataframe tbody tr th {\n",
       "        vertical-align: top;\n",
       "    }\n",
       "\n",
       "    .dataframe thead th {\n",
       "        text-align: right;\n",
       "    }\n",
       "</style>\n",
       "<table border=\"1\" class=\"dataframe\">\n",
       "  <thead>\n",
       "    <tr style=\"text-align: right;\">\n",
       "      <th>Cat</th>\n",
       "      <th>0</th>\n",
       "      <th>1</th>\n",
       "      <th>2</th>\n",
       "      <th>3</th>\n",
       "      <th>4</th>\n",
       "      <th>5</th>\n",
       "      <th>6</th>\n",
       "    </tr>\n",
       "    <tr>\n",
       "      <th>Gene</th>\n",
       "      <th></th>\n",
       "      <th></th>\n",
       "      <th></th>\n",
       "      <th></th>\n",
       "      <th></th>\n",
       "      <th></th>\n",
       "      <th></th>\n",
       "    </tr>\n",
       "  </thead>\n",
       "  <tbody>\n",
       "    <tr>\n",
       "      <th>COX1</th>\n",
       "      <td>1064</td>\n",
       "      <td>47</td>\n",
       "      <td>44</td>\n",
       "      <td>126</td>\n",
       "      <td>53</td>\n",
       "      <td>101</td>\n",
       "      <td>110</td>\n",
       "    </tr>\n",
       "    <tr>\n",
       "      <th>CYTB</th>\n",
       "      <td>565</td>\n",
       "      <td>74</td>\n",
       "      <td>67</td>\n",
       "      <td>79</td>\n",
       "      <td>120</td>\n",
       "      <td>133</td>\n",
       "      <td>63</td>\n",
       "    </tr>\n",
       "    <tr>\n",
       "      <th>ND1</th>\n",
       "      <td>581</td>\n",
       "      <td>36</td>\n",
       "      <td>65</td>\n",
       "      <td>76</td>\n",
       "      <td>51</td>\n",
       "      <td>75</td>\n",
       "      <td>73</td>\n",
       "    </tr>\n",
       "  </tbody>\n",
       "</table>\n",
       "</div>"
      ],
      "text/plain": [
       "Cat      0   1   2    3    4    5    6\n",
       "Gene                                  \n",
       "COX1  1064  47  44  126   53  101  110\n",
       "CYTB   565  74  67   79  120  133   63\n",
       "ND1    581  36  65   76   51   75   73"
      ]
     },
     "execution_count": 10,
     "metadata": {},
     "output_type": "execute_result"
    }
   ],
   "source": [
    "mrates_cats = mrates.groupby(\"Gene\").Cat.value_counts().reset_index(name=\"N\").pivot(\"Gene\", \"Cat\", \"N\").fillna(0).astype(np.int16)\n",
    "mrates_cats"
   ]
  },
  {
   "cell_type": "code",
   "execution_count": 11,
   "metadata": {},
   "outputs": [
    {
     "data": {
      "image/png": "[encoded data removed]",
      "text/plain": [
       "<Figure size 700x100 with 2 Axes>"
      ]
     },
     "metadata": {},
     "output_type": "display_data"
    }
   ],
   "source": [
    "plt.figure(figsize=(7, 1))\n",
    "plt.title(\"Gamma-distribution category frequency for MUS genes\")\n",
    "sns.heatmap((mrates_cats.T / mrates_cats.sum(axis=1)).T, annot=True, cmap=\"Reds\", fmt=\".2f\", vmax=1);\n",
    "plt.vlines([2], 0, 13, 'k', linewidth=3)\n",
    "plt.savefig(\"../figures/rates_mus.pdf\", dpi=300,bbox_inches=\"tight\")\n",
    "plt.show()"
   ]
  },
  {
   "attachments": {},
   "cell_type": "markdown",
   "metadata": {},
   "source": [
    "### Mammals"
   ]
  },
  {
   "cell_type": "code",
   "execution_count": 27,
   "metadata": {},
   "outputs": [],
   "source": [
    "data = []\n",
    "d = pd.read_csv(\"../data/exposure/mammals_nd1/iqtree.rate\", sep=\"\\t\", comment=\"#\")\n",
    "d[\"Gene\"] = \"ND1\"\n",
    "data.append(d)\n",
    "d = pd.read_csv(\"../data/exposure/mammals_cytb/iqtree.rate\", sep=\"\\t\", comment=\"#\")\n",
    "d[\"Gene\"] = \"CYTB\"\n",
    "data.append(d)\n",
    "mam_rates = pd.concat(data)"
   ]
  },
  {
   "cell_type": "code",
   "execution_count": 28,
   "metadata": {},
   "outputs": [
    {
     "data": {
      "text/html": [
       "<div>\n",
       "<style scoped>\n",
       "    .dataframe tbody tr th:only-of-type {\n",
       "        vertical-align: middle;\n",
       "    }\n",
       "\n",
       "    .dataframe tbody tr th {\n",
       "        vertical-align: top;\n",
       "    }\n",
       "\n",
       "    .dataframe thead th {\n",
       "        text-align: right;\n",
       "    }\n",
       "</style>\n",
       "<table border=\"1\" class=\"dataframe\">\n",
       "  <thead>\n",
       "    <tr style=\"text-align: right;\">\n",
       "      <th>Cat</th>\n",
       "      <th>0</th>\n",
       "      <th>1</th>\n",
       "      <th>2</th>\n",
       "      <th>3</th>\n",
       "      <th>4</th>\n",
       "      <th>5</th>\n",
       "    </tr>\n",
       "    <tr>\n",
       "      <th>Gene</th>\n",
       "      <th></th>\n",
       "      <th></th>\n",
       "      <th></th>\n",
       "      <th></th>\n",
       "      <th></th>\n",
       "      <th></th>\n",
       "    </tr>\n",
       "  </thead>\n",
       "  <tbody>\n",
       "    <tr>\n",
       "      <th>CYTB</th>\n",
       "      <td>499</td>\n",
       "      <td>106</td>\n",
       "      <td>81</td>\n",
       "      <td>121</td>\n",
       "      <td>207</td>\n",
       "      <td>126</td>\n",
       "    </tr>\n",
       "    <tr>\n",
       "      <th>ND1</th>\n",
       "      <td>402</td>\n",
       "      <td>85</td>\n",
       "      <td>84</td>\n",
       "      <td>110</td>\n",
       "      <td>150</td>\n",
       "      <td>123</td>\n",
       "    </tr>\n",
       "  </tbody>\n",
       "</table>\n",
       "</div>"
      ],
      "text/plain": [
       "Cat     0    1   2    3    4    5\n",
       "Gene                             \n",
       "CYTB  499  106  81  121  207  126\n",
       "ND1   402   85  84  110  150  123"
      ]
     },
     "execution_count": 28,
     "metadata": {},
     "output_type": "execute_result"
    }
   ],
   "source": [
    "mam_rates_cats = mam_rates.groupby(\"Gene\").Cat.value_counts().reset_index(name=\"N\").pivot(\"Gene\", \"Cat\", \"N\").fillna(0).astype(np.int16)\n",
    "mam_rates_cats"
   ]
  },
  {
   "cell_type": "code",
   "execution_count": 29,
   "metadata": {},
   "outputs": [
    {
     "data": {
      "image/png": "[encoded data removed]",
      "text/plain": [
       "<Figure size 600x100 with 2 Axes>"
      ]
     },
     "metadata": {},
     "output_type": "display_data"
    }
   ],
   "source": [
    "plt.figure(figsize=(6, 1))\n",
    "plt.title(\"Gamma-distribution category frequency for Mammals genes\")\n",
    "sns.heatmap((mam_rates_cats.T / mam_rates_cats.sum(axis=1)).T, annot=True, cmap=\"Reds\", fmt=\".2f\", vmax=1);\n",
    "plt.vlines([2], 0, 13, 'k', linewidth=3)\n",
    "plt.savefig(\"../figures/rates_mammals.pdf\", bbox_inches=\"tight\")\n",
    "plt.show()"
   ]
  },
  {
   "cell_type": "code",
   "execution_count": null,
   "metadata": {},
   "outputs": [],
   "source": []
  },
  {
   "attachments": {},
   "cell_type": "markdown",
   "metadata": {},
   "source": [
    "## Expected mutations excluding invariant positions"
   ]
  },
  {
   "cell_type": "code",
   "execution_count": 25,
   "metadata": {},
   "outputs": [],
   "source": [
    "coda = CodonAnnotation(2)"
   ]
  },
  {
   "cell_type": "code",
   "execution_count": 84,
   "metadata": {},
   "outputs": [],
   "source": [
    "human_cytb = [str(x.seq) for x in SeqIO.parse(\"../data/exposure/human_cytb/alignment_checked.fasta\", format=\"fasta\")]\n",
    "human_nd1 = [str(x.seq) for x in SeqIO.parse(\"../data/exposure/human_nd1/alignment_checked.fasta\", format=\"fasta\")]\n",
    "human_cytb_mask = GenesStates.get_mask(GenesStates.read_rates(\"../data/exposure/human_cytb/CYTB.rate\"))[1]\n",
    "human_nd1_mask = GenesStates.get_mask(GenesStates.read_rates(\"../data/exposure/human_nd1/ND1.rate\"))[1]\n",
    "human_cytb_rate = pd.read_csv(\"../data/exposure/human_cytb/CYTB.rate\", comment=\"#\", sep=\"\\t\")\n",
    "human_nd1_rate  = pd.read_csv(\"../data/exposure/human_nd1/ND1.rate\", comment=\"#\", sep=\"\\t\")\n",
    "\n",
    "mus_cytb = [str(x.seq) for x in SeqIO.parse(\"../data/exposure/mus_cytb/alignment_checked.fasta\", format=\"fasta\")]\n",
    "mus_nd1 = [str(x.seq) for x in SeqIO.parse(\"../data/exposure/mus_nd1/alignment_checked.fasta\", format=\"fasta\")]\n",
    "mus_cytb_mask = GenesStates.get_mask(GenesStates.read_rates(\"../data/exposure/mus_cytb/CYTB.rate\"))[1]\n",
    "mus_nd1_mask = GenesStates.get_mask(GenesStates.read_rates(\"../data/exposure/mus_nd1/ND1.rate\"))[1]\n",
    "mus_cytb_rate = pd.read_csv(\"../data/exposure/mus_cytb/CYTB.rate\", comment=\"#\", sep=\"\\t\")\n",
    "mus_nd1_rate  = pd.read_csv(\"../data/exposure/mus_nd1/ND1.rate\", comment=\"#\", sep=\"\\t\")\n",
    "\n",
    "for _df in [human_cytb_rate, human_nd1_rate, mus_cytb_rate, mus_nd1_rate]:\n",
    "    _df[\"Pos\"] = np.arange(len(_df)) + 1\n",
    "\n",
    "mammals_cytb = [str(x.seq) for x in SeqIO.parse(\"../data/exposure/mammals_cytb/alignment_checked.fasta\", format=\"fasta\")]\n",
    "mammals_nd1 = [str(x.seq) for x in SeqIO.parse(\"../data/exposure/mammals_nd1/alignment_checked.fasta\", format=\"fasta\")]\n",
    "mammals_cytb_mask = GenesStates.get_mask(GenesStates.read_rates(\"../data/exposure/mammals_cytb/iqtree.rate\"))[1]\n",
    "mammals_nd1_mask = GenesStates.get_mask(GenesStates.read_rates(\"../data/exposure/mammals_nd1/iqtree.rate\"))[1]"
   ]
  },
  {
   "cell_type": "code",
   "execution_count": 51,
   "metadata": {},
   "outputs": [],
   "source": [
    "lbl = \"syn\"\n",
    "full_exp_summary = []"
   ]
  },
  {
   "attachments": {},
   "cell_type": "markdown",
   "metadata": {},
   "source": [
    "### Human CYTB"
   ]
  },
  {
   "cell_type": "code",
   "execution_count": 52,
   "metadata": {},
   "outputs": [],
   "source": [
    "exp12, exp192 = defaultdict(int), defaultdict(int)\n",
    "exp_masked12, exp_masked192 = defaultdict(int), defaultdict(int)\n",
    "n = 500\n",
    "for seq in random.sample(human_cytb, n):\n",
    "    e12, e192  =  coda.collect_exp_mut_freqs(seq, None, [lbl])\n",
    "    em12, em192 = coda.collect_exp_mut_freqs(seq, human_cytb_mask, [lbl])\n",
    "\n",
    "    for sbs in e12[lbl]:\n",
    "        exp12[sbs] += e12[lbl][sbs] / n\n",
    "        exp_masked12[sbs] += em12[lbl][sbs] / n\n",
    "\n",
    "    for sbs in e192[lbl]:\n",
    "        exp192[sbs] += e192[lbl][sbs] / n\n",
    "        exp_masked192[sbs] += em192[lbl][sbs] / n\n"
   ]
  },
  {
   "cell_type": "code",
   "execution_count": 54,
   "metadata": {},
   "outputs": [
    {
     "data": {
      "text/html": [
       "<div>\n",
       "<style scoped>\n",
       "    .dataframe tbody tr th:only-of-type {\n",
       "        vertical-align: middle;\n",
       "    }\n",
       "\n",
       "    .dataframe tbody tr th {\n",
       "        vertical-align: top;\n",
       "    }\n",
       "\n",
       "    .dataframe thead th {\n",
       "        text-align: right;\n",
       "    }\n",
       "</style>\n",
       "<table border=\"1\" class=\"dataframe\">\n",
       "  <thead>\n",
       "    <tr style=\"text-align: right;\">\n",
       "      <th></th>\n",
       "      <th>A&gt;C</th>\n",
       "      <th>A&gt;G</th>\n",
       "      <th>A&gt;T</th>\n",
       "      <th>C&gt;A</th>\n",
       "      <th>C&gt;G</th>\n",
       "      <th>C&gt;T</th>\n",
       "      <th>G&gt;A</th>\n",
       "      <th>G&gt;C</th>\n",
       "      <th>G&gt;T</th>\n",
       "      <th>T&gt;A</th>\n",
       "      <th>T&gt;C</th>\n",
       "      <th>T&gt;G</th>\n",
       "    </tr>\n",
       "  </thead>\n",
       "  <tbody>\n",
       "    <tr>\n",
       "      <th>exp</th>\n",
       "      <td>88.264</td>\n",
       "      <td>138.320</td>\n",
       "      <td>88.264</td>\n",
       "      <td>88.082</td>\n",
       "      <td>88.082</td>\n",
       "      <td>207.972</td>\n",
       "      <td>13.270</td>\n",
       "      <td>6.782</td>\n",
       "      <td>6.782</td>\n",
       "      <td>15.128</td>\n",
       "      <td>54.722</td>\n",
       "      <td>15.128</td>\n",
       "    </tr>\n",
       "    <tr>\n",
       "      <th>exp_masked</th>\n",
       "      <td>61.076</td>\n",
       "      <td>88.428</td>\n",
       "      <td>61.076</td>\n",
       "      <td>61.124</td>\n",
       "      <td>61.124</td>\n",
       "      <td>146.118</td>\n",
       "      <td>12.236</td>\n",
       "      <td>6.764</td>\n",
       "      <td>6.764</td>\n",
       "      <td>15.092</td>\n",
       "      <td>54.656</td>\n",
       "      <td>15.092</td>\n",
       "    </tr>\n",
       "  </tbody>\n",
       "</table>\n",
       "</div>"
      ],
      "text/plain": [
       "               A>C      A>G     A>T     C>A     C>G      C>T     G>A    G>C  \\\n",
       "exp         88.264  138.320  88.264  88.082  88.082  207.972  13.270  6.782   \n",
       "exp_masked  61.076   88.428  61.076  61.124  61.124  146.118  12.236  6.764   \n",
       "\n",
       "              G>T     T>A     T>C     T>G  \n",
       "exp         6.782  15.128  54.722  15.128  \n",
       "exp_masked  6.764  15.092  54.656  15.092  "
      ]
     },
     "execution_count": 54,
     "metadata": {},
     "output_type": "execute_result"
    }
   ],
   "source": [
    "full_exp_summary.append(pd.DataFrame([exp12, exp_masked12], index=[\"exp\", \"exp_masked\"]))\n",
    "full_exp_summary[0][possible_sbs12]"
   ]
  },
  {
   "cell_type": "code",
   "execution_count": 55,
   "metadata": {},
   "outputs": [],
   "source": [
    "dct = dict()\n",
    "for sbs in possible_sbs12:\n",
    "    dct[sbs] = exp_masked12[sbs]\n",
    "for sbs in possible_sbs192:\n",
    "    dct[sbs] = exp_masked192.get(sbs, 0.)\n",
    "\n",
    "exp_muts = pd.Series(dct).reset_index(name=\"Count\").rename(columns={\"index\": \"Mut\"})\n",
    "exp_muts[\"Label\"] = \"syn\"\n",
    "\n",
    "exp_muts[[\"Label\", \"Mut\", \"Count\"]].to_csv(\"../data/exposure/human_cytb/exp_muts_invariant.tsv\", sep=\"\\t\", index=False)"
   ]
  },
  {
   "attachments": {},
   "cell_type": "markdown",
   "metadata": {},
   "source": [
    "### Human ND1"
   ]
  },
  {
   "cell_type": "code",
   "execution_count": 57,
   "metadata": {},
   "outputs": [],
   "source": [
    "exp12, exp192 = defaultdict(int), defaultdict(int)\n",
    "exp_masked12, exp_masked192 = defaultdict(int), defaultdict(int)\n",
    "n = 500\n",
    "for seq in random.sample(human_nd1, n):\n",
    "    e12, e192  =  coda.collect_exp_mut_freqs(seq, None, [lbl])\n",
    "    em12, em192 = coda.collect_exp_mut_freqs(seq, human_nd1_mask, [lbl])\n",
    "\n",
    "    for sbs in e12[lbl]:\n",
    "        exp12[sbs] += e12[lbl][sbs] / n\n",
    "        exp_masked12[sbs] += em12[lbl][sbs] / n\n",
    "\n",
    "    for sbs in e192[lbl]:\n",
    "        exp192[sbs] += e192[lbl][sbs] / n\n",
    "        exp_masked192[sbs] += em192[lbl][sbs] / n\n"
   ]
  },
  {
   "cell_type": "code",
   "execution_count": 58,
   "metadata": {},
   "outputs": [
    {
     "data": {
      "text/html": [
       "<div>\n",
       "<style scoped>\n",
       "    .dataframe tbody tr th:only-of-type {\n",
       "        vertical-align: middle;\n",
       "    }\n",
       "\n",
       "    .dataframe tbody tr th {\n",
       "        vertical-align: top;\n",
       "    }\n",
       "\n",
       "    .dataframe thead th {\n",
       "        text-align: right;\n",
       "    }\n",
       "</style>\n",
       "<table border=\"1\" class=\"dataframe\">\n",
       "  <thead>\n",
       "    <tr style=\"text-align: right;\">\n",
       "      <th></th>\n",
       "      <th>A&gt;C</th>\n",
       "      <th>A&gt;G</th>\n",
       "      <th>A&gt;T</th>\n",
       "      <th>C&gt;A</th>\n",
       "      <th>C&gt;G</th>\n",
       "      <th>C&gt;T</th>\n",
       "      <th>G&gt;A</th>\n",
       "      <th>G&gt;C</th>\n",
       "      <th>G&gt;T</th>\n",
       "      <th>T&gt;A</th>\n",
       "      <th>T&gt;C</th>\n",
       "      <th>T&gt;G</th>\n",
       "    </tr>\n",
       "  </thead>\n",
       "  <tbody>\n",
       "    <tr>\n",
       "      <th>exp</th>\n",
       "      <td>69.910</td>\n",
       "      <td>116.682</td>\n",
       "      <td>69.910</td>\n",
       "      <td>91.436</td>\n",
       "      <td>91.436</td>\n",
       "      <td>178.300</td>\n",
       "      <td>17.124</td>\n",
       "      <td>9.036</td>\n",
       "      <td>9.036</td>\n",
       "      <td>16.210</td>\n",
       "      <td>42.080</td>\n",
       "      <td>16.210</td>\n",
       "    </tr>\n",
       "    <tr>\n",
       "      <th>exp_masked</th>\n",
       "      <td>48.942</td>\n",
       "      <td>77.782</td>\n",
       "      <td>48.942</td>\n",
       "      <td>73.486</td>\n",
       "      <td>73.486</td>\n",
       "      <td>134.374</td>\n",
       "      <td>16.094</td>\n",
       "      <td>9.026</td>\n",
       "      <td>9.026</td>\n",
       "      <td>15.184</td>\n",
       "      <td>39.048</td>\n",
       "      <td>15.184</td>\n",
       "    </tr>\n",
       "  </tbody>\n",
       "</table>\n",
       "</div>"
      ],
      "text/plain": [
       "               A>C      A>G     A>T     C>A     C>G      C>T     G>A    G>C  \\\n",
       "exp         69.910  116.682  69.910  91.436  91.436  178.300  17.124  9.036   \n",
       "exp_masked  48.942   77.782  48.942  73.486  73.486  134.374  16.094  9.026   \n",
       "\n",
       "              G>T     T>A     T>C     T>G  \n",
       "exp         9.036  16.210  42.080  16.210  \n",
       "exp_masked  9.026  15.184  39.048  15.184  "
      ]
     },
     "execution_count": 58,
     "metadata": {},
     "output_type": "execute_result"
    }
   ],
   "source": [
    "full_exp_summary.append(pd.DataFrame([exp12, exp_masked12], index=[\"exp\", \"exp_masked\"]))\n",
    "full_exp_summary[1][possible_sbs12]"
   ]
  },
  {
   "cell_type": "code",
   "execution_count": 59,
   "metadata": {},
   "outputs": [],
   "source": [
    "dct = dict()\n",
    "for sbs in possible_sbs12:\n",
    "    dct[sbs] = exp_masked12.get(sbs, 0.)\n",
    "for sbs in possible_sbs192:\n",
    "    dct[sbs] = exp_masked192.get(sbs, 0.)\n",
    "\n",
    "exp_muts = pd.Series(dct).reset_index(name=\"Count\").rename(columns={\"index\": \"Mut\"})\n",
    "exp_muts[\"Label\"] = \"syn\"\n",
    "\n",
    "exp_muts[[\"Label\", \"Mut\", \"Count\"]].to_csv(\"../data/exposure/human_nd1/exp_muts_invariant.tsv\", sep=\"\\t\", index=False)"
   ]
  },
  {
   "attachments": {},
   "cell_type": "markdown",
   "metadata": {},
   "source": [
    "### Mus CYTB"
   ]
  },
  {
   "cell_type": "code",
   "execution_count": 61,
   "metadata": {},
   "outputs": [],
   "source": [
    "exp12, exp192 = defaultdict(int), defaultdict(int)\n",
    "exp_masked12, exp_masked192 = defaultdict(int), defaultdict(int)\n",
    "for seq in mus_cytb:\n",
    "    e12, e192  =  coda.collect_exp_mut_freqs(seq, None, [lbl])\n",
    "    em12, em192 = coda.collect_exp_mut_freqs(seq, mus_cytb_mask, [lbl])\n",
    "\n",
    "    for sbs in e12[lbl]:\n",
    "        exp12[sbs] += e12[lbl][sbs] / len(mus_cytb)\n",
    "        exp_masked12[sbs] += em12[lbl][sbs] / len(mus_cytb)\n",
    "\n",
    "    for sbs in e192[lbl]:\n",
    "        exp192[sbs] += e192[lbl][sbs] / len(mus_cytb)\n",
    "        exp_masked192[sbs] += em192[lbl][sbs] / len(mus_cytb)\n",
    "\n",
    "dct = dict()\n",
    "for sbs in possible_sbs12:\n",
    "    dct[sbs] = exp_masked12[sbs]\n",
    "for sbs in possible_sbs192:\n",
    "    dct[sbs] = exp_masked192.get(sbs, 0.)\n",
    "\n",
    "exp_muts = pd.Series(dct).reset_index(name=\"Count\").rename(columns={\"index\": \"Mut\"})\n",
    "exp_muts[\"Label\"] = \"syn\"\n",
    "\n",
    "exp_muts[[\"Label\", \"Mut\", \"Count\"]].to_csv(\"../data/exposure/mus_cytb/exp_muts_invariant.tsv\", sep=\"\\t\", index=False)"
   ]
  },
  {
   "cell_type": "code",
   "execution_count": 62,
   "metadata": {},
   "outputs": [
    {
     "data": {
      "text/html": [
       "<div>\n",
       "<style scoped>\n",
       "    .dataframe tbody tr th:only-of-type {\n",
       "        vertical-align: middle;\n",
       "    }\n",
       "\n",
       "    .dataframe tbody tr th {\n",
       "        vertical-align: top;\n",
       "    }\n",
       "\n",
       "    .dataframe thead th {\n",
       "        text-align: right;\n",
       "    }\n",
       "</style>\n",
       "<table border=\"1\" class=\"dataframe\">\n",
       "  <thead>\n",
       "    <tr style=\"text-align: right;\">\n",
       "      <th></th>\n",
       "      <th>A&gt;C</th>\n",
       "      <th>A&gt;G</th>\n",
       "      <th>A&gt;T</th>\n",
       "      <th>C&gt;A</th>\n",
       "      <th>C&gt;G</th>\n",
       "      <th>C&gt;T</th>\n",
       "      <th>G&gt;A</th>\n",
       "      <th>G&gt;C</th>\n",
       "      <th>G&gt;T</th>\n",
       "      <th>T&gt;A</th>\n",
       "      <th>T&gt;C</th>\n",
       "      <th>T&gt;G</th>\n",
       "    </tr>\n",
       "  </thead>\n",
       "  <tbody>\n",
       "    <tr>\n",
       "      <th>exp</th>\n",
       "      <td>99.881818</td>\n",
       "      <td>153.127273</td>\n",
       "      <td>99.881818</td>\n",
       "      <td>44.336364</td>\n",
       "      <td>44.336364</td>\n",
       "      <td>145.437662</td>\n",
       "      <td>10.094805</td>\n",
       "      <td>5.801299</td>\n",
       "      <td>5.801299</td>\n",
       "      <td>18.941558</td>\n",
       "      <td>79.871429</td>\n",
       "      <td>18.941558</td>\n",
       "    </tr>\n",
       "    <tr>\n",
       "      <th>exp_masked</th>\n",
       "      <td>94.044156</td>\n",
       "      <td>141.323377</td>\n",
       "      <td>94.044156</td>\n",
       "      <td>44.336364</td>\n",
       "      <td>44.336364</td>\n",
       "      <td>144.519481</td>\n",
       "      <td>10.087013</td>\n",
       "      <td>5.796104</td>\n",
       "      <td>5.796104</td>\n",
       "      <td>18.929870</td>\n",
       "      <td>78.864935</td>\n",
       "      <td>18.929870</td>\n",
       "    </tr>\n",
       "  </tbody>\n",
       "</table>\n",
       "</div>"
      ],
      "text/plain": [
       "                  A>C         A>G        A>T        C>A        C>G  \\\n",
       "exp         99.881818  153.127273  99.881818  44.336364  44.336364   \n",
       "exp_masked  94.044156  141.323377  94.044156  44.336364  44.336364   \n",
       "\n",
       "                   C>T        G>A       G>C       G>T        T>A        T>C  \\\n",
       "exp         145.437662  10.094805  5.801299  5.801299  18.941558  79.871429   \n",
       "exp_masked  144.519481  10.087013  5.796104  5.796104  18.929870  78.864935   \n",
       "\n",
       "                  T>G  \n",
       "exp         18.941558  \n",
       "exp_masked  18.929870  "
      ]
     },
     "execution_count": 62,
     "metadata": {},
     "output_type": "execute_result"
    }
   ],
   "source": [
    "full_exp_summary.append(pd.DataFrame([exp12, exp_masked12], index=[\"exp\", \"exp_masked\"]))\n",
    "full_exp_summary[2][possible_sbs12]"
   ]
  },
  {
   "attachments": {},
   "cell_type": "markdown",
   "metadata": {},
   "source": [
    "### Mus ND1"
   ]
  },
  {
   "cell_type": "code",
   "execution_count": 63,
   "metadata": {},
   "outputs": [],
   "source": [
    "# import re\n",
    "\n",
    "# from Bio import SeqIO\n",
    "# import pandas as pd\n",
    "\n",
    "# rates = pd.read_csv(\"data/MUS/mus_rates/ND1.rate\", sep='\\t', comment=\"#\")\n",
    "\n",
    "# non_letters_positions = set()  # 1-BASED\n",
    "# for rec in SeqIO.parse(\"data/exposure/mus_nd1/raw_aln.fna\", format=\"fasta\"):\n",
    "#     seq = str(rec.seq)\n",
    "#     for i in range(0, len(seq), 3):\n",
    "#         codon = seq[i: i+3]\n",
    "#         if not re.match(\"[A-Za-z]{3}\", codon):\n",
    "#             non_letters_positions.add(i+1)\n",
    "#             non_letters_positions.add(i+2)\n",
    "#             non_letters_positions.add(i+3)\n",
    "\n",
    "# print(sorted(non_letters_positions))\n",
    "\n",
    "# df = rates[~rates.Site.isin(non_letters_positions)]\n",
    "# df.to_csv(\"data/exposure/mus_nd1/ND1.rate\", index=False, sep=\"\\t\")"
   ]
  },
  {
   "cell_type": "code",
   "execution_count": 64,
   "metadata": {},
   "outputs": [],
   "source": [
    "exp12, exp192 = defaultdict(int), defaultdict(int)\n",
    "exp_masked12, exp_masked192 = defaultdict(int), defaultdict(int)\n",
    "for seq in mus_nd1:\n",
    "    e12, e192  =  coda.collect_exp_mut_freqs(seq, None, [lbl])\n",
    "    em12, em192 = coda.collect_exp_mut_freqs(seq, mus_nd1_mask, [lbl])\n",
    "\n",
    "    for sbs in e12[lbl]:\n",
    "        exp12[sbs] += e12[lbl][sbs] / len(mus_nd1)\n",
    "        exp_masked12[sbs] += em12[lbl][sbs] / len(mus_nd1)\n",
    "\n",
    "    for sbs in e192[lbl]:\n",
    "        exp192[sbs] += e192[lbl][sbs] / len(mus_nd1)\n",
    "        exp_masked192[sbs] += em192[lbl][sbs] / len(mus_nd1)\n",
    "\n",
    "dct = dict()\n",
    "for sbs in possible_sbs12:\n",
    "    dct[sbs] = exp_masked12.get(sbs, 0.)\n",
    "for sbs in possible_sbs192:\n",
    "    dct[sbs] = exp_masked192.get(sbs, 0.)\n",
    "\n",
    "exp_muts = pd.Series(dct).reset_index(name=\"Count\").rename(columns={\"index\": \"Mut\"})\n",
    "exp_muts[\"Label\"] = \"syn\"\n",
    "\n",
    "exp_muts[[\"Label\", \"Mut\", \"Count\"]].to_csv(\"../data/exposure/mus_nd1/exp_muts_invariant.tsv\", sep=\"\\t\", index=False)"
   ]
  },
  {
   "cell_type": "code",
   "execution_count": 65,
   "metadata": {},
   "outputs": [
    {
     "data": {
      "text/html": [
       "<div>\n",
       "<style scoped>\n",
       "    .dataframe tbody tr th:only-of-type {\n",
       "        vertical-align: middle;\n",
       "    }\n",
       "\n",
       "    .dataframe tbody tr th {\n",
       "        vertical-align: top;\n",
       "    }\n",
       "\n",
       "    .dataframe thead th {\n",
       "        text-align: right;\n",
       "    }\n",
       "</style>\n",
       "<table border=\"1\" class=\"dataframe\">\n",
       "  <thead>\n",
       "    <tr style=\"text-align: right;\">\n",
       "      <th></th>\n",
       "      <th>A&gt;C</th>\n",
       "      <th>A&gt;G</th>\n",
       "      <th>A&gt;T</th>\n",
       "      <th>C&gt;A</th>\n",
       "      <th>C&gt;G</th>\n",
       "      <th>C&gt;T</th>\n",
       "      <th>G&gt;A</th>\n",
       "      <th>G&gt;C</th>\n",
       "      <th>G&gt;T</th>\n",
       "      <th>T&gt;A</th>\n",
       "      <th>T&gt;C</th>\n",
       "      <th>T&gt;G</th>\n",
       "    </tr>\n",
       "  </thead>\n",
       "  <tbody>\n",
       "    <tr>\n",
       "      <th>exp</th>\n",
       "      <td>93.265957</td>\n",
       "      <td>162.074468</td>\n",
       "      <td>93.265957</td>\n",
       "      <td>39.946809</td>\n",
       "      <td>39.946809</td>\n",
       "      <td>113.776596</td>\n",
       "      <td>10.978723</td>\n",
       "      <td>7.765957</td>\n",
       "      <td>7.765957</td>\n",
       "      <td>21.074468</td>\n",
       "      <td>79.829787</td>\n",
       "      <td>21.074468</td>\n",
       "    </tr>\n",
       "    <tr>\n",
       "      <th>exp_masked</th>\n",
       "      <td>67.361702</td>\n",
       "      <td>109.085106</td>\n",
       "      <td>67.361702</td>\n",
       "      <td>39.946809</td>\n",
       "      <td>39.946809</td>\n",
       "      <td>101.510638</td>\n",
       "      <td>9.989362</td>\n",
       "      <td>6.776596</td>\n",
       "      <td>6.776596</td>\n",
       "      <td>21.063830</td>\n",
       "      <td>75.031915</td>\n",
       "      <td>21.063830</td>\n",
       "    </tr>\n",
       "  </tbody>\n",
       "</table>\n",
       "</div>"
      ],
      "text/plain": [
       "                  A>C         A>G        A>T        C>A        C>G  \\\n",
       "exp         93.265957  162.074468  93.265957  39.946809  39.946809   \n",
       "exp_masked  67.361702  109.085106  67.361702  39.946809  39.946809   \n",
       "\n",
       "                   C>T        G>A       G>C       G>T        T>A        T>C  \\\n",
       "exp         113.776596  10.978723  7.765957  7.765957  21.074468  79.829787   \n",
       "exp_masked  101.510638   9.989362  6.776596  6.776596  21.063830  75.031915   \n",
       "\n",
       "                  T>G  \n",
       "exp         21.074468  \n",
       "exp_masked  21.063830  "
      ]
     },
     "execution_count": 65,
     "metadata": {},
     "output_type": "execute_result"
    }
   ],
   "source": [
    "full_exp_summary.append(pd.DataFrame([exp12, exp_masked12], index=[\"exp\", \"exp_masked\"]))\n",
    "full_exp_summary[3][possible_sbs12]"
   ]
  },
  {
   "attachments": {},
   "cell_type": "markdown",
   "metadata": {},
   "source": [
    "### Mammals CYTB"
   ]
  },
  {
   "cell_type": "code",
   "execution_count": 41,
   "metadata": {},
   "outputs": [],
   "source": [
    "# exp12, exp192 = defaultdict(int), defaultdict(int)\n",
    "# exp_masked12, exp_masked192 = defaultdict(int), defaultdict(int)\n",
    "# for seq in mammals_cytb:\n",
    "#     e12, e192  =  coda.collect_exp_mut_freqs(seq, None, [lbl])\n",
    "#     em12, em192 = coda.collect_exp_mut_freqs(seq, mammals_cytb_mask, [lbl])\n",
    "\n",
    "#     for sbs in e12[lbl]:\n",
    "#         exp12[sbs] += e12[lbl][sbs] / len(mammals_cytb)\n",
    "#         exp_masked12[sbs] += em12[lbl][sbs] / len(mammals_cytb)\n",
    "\n",
    "#     for sbs in e192[lbl]:\n",
    "#         exp192[sbs] += e192[lbl][sbs] / len(mammals_cytb)\n",
    "#         exp_masked192[sbs] += em192[lbl][sbs] / len(mammals_cytb)\n",
    "\n",
    "# dct = dict()\n",
    "# for sbs in possible_sbs12:\n",
    "#     dct[sbs] = exp_masked12[sbs]\n",
    "# for sbs in possible_sbs192:\n",
    "#     dct[sbs] = exp_masked192.get(sbs, 0.)\n",
    "\n",
    "# exp_muts = pd.Series(dct).reset_index(name=\"Count\").rename(columns={\"index\": \"Mut\"})\n",
    "# exp_muts[\"Label\"] = \"syn\"\n",
    "\n",
    "# # exp_muts[[\"Label\", \"Mut\", \"Count\"]].to_csv(\"../data/exposure/mammals_cytb/exp_muts_invariant.tsv\", sep=\"\\t\", index=False)"
   ]
  },
  {
   "cell_type": "code",
   "execution_count": 42,
   "metadata": {},
   "outputs": [
    {
     "data": {
      "text/html": [
       "<div>\n",
       "<style scoped>\n",
       "    .dataframe tbody tr th:only-of-type {\n",
       "        vertical-align: middle;\n",
       "    }\n",
       "\n",
       "    .dataframe tbody tr th {\n",
       "        vertical-align: top;\n",
       "    }\n",
       "\n",
       "    .dataframe thead th {\n",
       "        text-align: right;\n",
       "    }\n",
       "</style>\n",
       "<table border=\"1\" class=\"dataframe\">\n",
       "  <thead>\n",
       "    <tr style=\"text-align: right;\">\n",
       "      <th></th>\n",
       "      <th>A&gt;C</th>\n",
       "      <th>A&gt;G</th>\n",
       "      <th>A&gt;T</th>\n",
       "      <th>C&gt;A</th>\n",
       "      <th>C&gt;G</th>\n",
       "      <th>C&gt;T</th>\n",
       "      <th>G&gt;A</th>\n",
       "      <th>G&gt;C</th>\n",
       "      <th>G&gt;T</th>\n",
       "      <th>T&gt;A</th>\n",
       "      <th>T&gt;C</th>\n",
       "      <th>T&gt;G</th>\n",
       "    </tr>\n",
       "  </thead>\n",
       "  <tbody>\n",
       "    <tr>\n",
       "      <th>exp</th>\n",
       "      <td>100.181543</td>\n",
       "      <td>153.391831</td>\n",
       "      <td>100.181543</td>\n",
       "      <td>55.793495</td>\n",
       "      <td>55.793495</td>\n",
       "      <td>167.981089</td>\n",
       "      <td>13.710287</td>\n",
       "      <td>7.647504</td>\n",
       "      <td>7.647504</td>\n",
       "      <td>28.459909</td>\n",
       "      <td>83.393343</td>\n",
       "      <td>28.459909</td>\n",
       "    </tr>\n",
       "    <tr>\n",
       "      <th>exp_masked</th>\n",
       "      <td>100.181543</td>\n",
       "      <td>153.391831</td>\n",
       "      <td>100.181543</td>\n",
       "      <td>55.793495</td>\n",
       "      <td>55.793495</td>\n",
       "      <td>167.660363</td>\n",
       "      <td>12.711800</td>\n",
       "      <td>7.647504</td>\n",
       "      <td>7.647504</td>\n",
       "      <td>28.459909</td>\n",
       "      <td>83.272315</td>\n",
       "      <td>28.459909</td>\n",
       "    </tr>\n",
       "  </tbody>\n",
       "</table>\n",
       "</div>"
      ],
      "text/plain": [
       "                   A>C         A>G         A>T        C>A        C>G  \\\n",
       "exp         100.181543  153.391831  100.181543  55.793495  55.793495   \n",
       "exp_masked  100.181543  153.391831  100.181543  55.793495  55.793495   \n",
       "\n",
       "                   C>T        G>A       G>C       G>T        T>A        T>C  \\\n",
       "exp         167.981089  13.710287  7.647504  7.647504  28.459909  83.393343   \n",
       "exp_masked  167.660363  12.711800  7.647504  7.647504  28.459909  83.272315   \n",
       "\n",
       "                  T>G  \n",
       "exp         28.459909  \n",
       "exp_masked  28.459909  "
      ]
     },
     "execution_count": 42,
     "metadata": {},
     "output_type": "execute_result"
    }
   ],
   "source": [
    "# full_exp_summary.append(pd.DataFrame([exp12, exp_masked12], index=[\"exp\", \"exp_masked\"]))\n",
    "# full_exp_summary[4][possible_sbs12]"
   ]
  },
  {
   "attachments": {},
   "cell_type": "markdown",
   "metadata": {},
   "source": [
    "### Mammals ND1"
   ]
  },
  {
   "cell_type": "code",
   "execution_count": 43,
   "metadata": {},
   "outputs": [],
   "source": [
    "# exp12, exp192 = defaultdict(int), defaultdict(int)\n",
    "# exp_masked12, exp_masked192 = defaultdict(int), defaultdict(int)\n",
    "# for seq in mammals_nd1:\n",
    "#     e12, e192  =  coda.collect_exp_mut_freqs(seq, None, [lbl])\n",
    "#     em12, em192 = coda.collect_exp_mut_freqs(seq, mammals_nd1_mask, [lbl])\n",
    "\n",
    "#     for sbs in e12[lbl]:\n",
    "#         exp12[sbs] += e12[lbl][sbs] / len(mammals_nd1)\n",
    "#         exp_masked12[sbs] += em12[lbl][sbs] / len(mammals_nd1)\n",
    "\n",
    "#     for sbs in e192[lbl]:\n",
    "#         exp192[sbs] += e192[lbl][sbs] / len(mammals_nd1)\n",
    "#         exp_masked192[sbs] += em192[lbl][sbs] / len(mammals_nd1)\n",
    "\n",
    "# dct = dict()\n",
    "# for sbs in possible_sbs12:\n",
    "#     dct[sbs] = exp_masked12[sbs]\n",
    "# for sbs in possible_sbs192:\n",
    "#     dct[sbs] = exp_masked192.get(sbs, 0.)\n",
    "\n",
    "# exp_muts = pd.Series(dct).reset_index(name=\"Count\").rename(columns={\"index\": \"Mut\"})\n",
    "# exp_muts[\"Label\"] = \"syn\"\n",
    "\n",
    "# # exp_muts[[\"Label\", \"Mut\", \"Count\"]].to_csv(\"../data/exposure/mammals_nd1/exp_muts_invariant.tsv\", sep=\"\\t\", index=False)"
   ]
  },
  {
   "cell_type": "code",
   "execution_count": 44,
   "metadata": {},
   "outputs": [
    {
     "data": {
      "text/html": [
       "<div>\n",
       "<style scoped>\n",
       "    .dataframe tbody tr th:only-of-type {\n",
       "        vertical-align: middle;\n",
       "    }\n",
       "\n",
       "    .dataframe tbody tr th {\n",
       "        vertical-align: top;\n",
       "    }\n",
       "\n",
       "    .dataframe thead th {\n",
       "        text-align: right;\n",
       "    }\n",
       "</style>\n",
       "<table border=\"1\" class=\"dataframe\">\n",
       "  <thead>\n",
       "    <tr style=\"text-align: right;\">\n",
       "      <th></th>\n",
       "      <th>A&gt;C</th>\n",
       "      <th>A&gt;G</th>\n",
       "      <th>A&gt;T</th>\n",
       "      <th>C&gt;A</th>\n",
       "      <th>C&gt;G</th>\n",
       "      <th>C&gt;T</th>\n",
       "      <th>G&gt;A</th>\n",
       "      <th>G&gt;C</th>\n",
       "      <th>G&gt;T</th>\n",
       "      <th>T&gt;A</th>\n",
       "      <th>T&gt;C</th>\n",
       "      <th>T&gt;G</th>\n",
       "    </tr>\n",
       "  </thead>\n",
       "  <tbody>\n",
       "    <tr>\n",
       "      <th>exp</th>\n",
       "      <td>89.97432</td>\n",
       "      <td>147.533988</td>\n",
       "      <td>89.97432</td>\n",
       "      <td>49.350453</td>\n",
       "      <td>49.350453</td>\n",
       "      <td>127.271903</td>\n",
       "      <td>12.555891</td>\n",
       "      <td>6.604985</td>\n",
       "      <td>6.604985</td>\n",
       "      <td>25.165408</td>\n",
       "      <td>71.724320</td>\n",
       "      <td>25.165408</td>\n",
       "    </tr>\n",
       "    <tr>\n",
       "      <th>exp_masked</th>\n",
       "      <td>89.97281</td>\n",
       "      <td>146.519637</td>\n",
       "      <td>89.97281</td>\n",
       "      <td>49.350453</td>\n",
       "      <td>49.350453</td>\n",
       "      <td>127.057402</td>\n",
       "      <td>11.577795</td>\n",
       "      <td>6.466767</td>\n",
       "      <td>6.466767</td>\n",
       "      <td>25.165408</td>\n",
       "      <td>71.642749</td>\n",
       "      <td>25.165408</td>\n",
       "    </tr>\n",
       "  </tbody>\n",
       "</table>\n",
       "</div>"
      ],
      "text/plain": [
       "                 A>C         A>G       A>T        C>A        C>G         C>T  \\\n",
       "exp         89.97432  147.533988  89.97432  49.350453  49.350453  127.271903   \n",
       "exp_masked  89.97281  146.519637  89.97281  49.350453  49.350453  127.057402   \n",
       "\n",
       "                  G>A       G>C       G>T        T>A        T>C        T>G  \n",
       "exp         12.555891  6.604985  6.604985  25.165408  71.724320  25.165408  \n",
       "exp_masked  11.577795  6.466767  6.466767  25.165408  71.642749  25.165408  "
      ]
     },
     "execution_count": 44,
     "metadata": {},
     "output_type": "execute_result"
    }
   ],
   "source": [
    "# full_exp_summary.append(pd.DataFrame([exp12, exp_masked12], index=[\"exp\", \"exp_masked\"]))\n",
    "# full_exp_summary[5][possible_sbs12]"
   ]
  },
  {
   "attachments": {},
   "cell_type": "markdown",
   "metadata": {},
   "source": [
    "### Merge Human, Mouse and Mammals"
   ]
  },
  {
   "cell_type": "code",
   "execution_count": 68,
   "metadata": {},
   "outputs": [
    {
     "data": {
      "text/html": [
       "<div>\n",
       "<style scoped>\n",
       "    .dataframe tbody tr th:only-of-type {\n",
       "        vertical-align: middle;\n",
       "    }\n",
       "\n",
       "    .dataframe tbody tr th {\n",
       "        vertical-align: top;\n",
       "    }\n",
       "\n",
       "    .dataframe thead th {\n",
       "        text-align: right;\n",
       "    }\n",
       "</style>\n",
       "<table border=\"1\" class=\"dataframe\">\n",
       "  <thead>\n",
       "    <tr style=\"text-align: right;\">\n",
       "      <th></th>\n",
       "      <th></th>\n",
       "      <th></th>\n",
       "      <th>G&gt;A</th>\n",
       "      <th>C&gt;T</th>\n",
       "      <th>C&gt;A</th>\n",
       "      <th>C&gt;G</th>\n",
       "      <th>A&gt;G</th>\n",
       "      <th>A&gt;C</th>\n",
       "      <th>A&gt;T</th>\n",
       "      <th>T&gt;C</th>\n",
       "      <th>T&gt;G</th>\n",
       "      <th>T&gt;A</th>\n",
       "      <th>G&gt;C</th>\n",
       "      <th>G&gt;T</th>\n",
       "    </tr>\n",
       "    <tr>\n",
       "      <th>Species</th>\n",
       "      <th>Gene</th>\n",
       "      <th>Label</th>\n",
       "      <th></th>\n",
       "      <th></th>\n",
       "      <th></th>\n",
       "      <th></th>\n",
       "      <th></th>\n",
       "      <th></th>\n",
       "      <th></th>\n",
       "      <th></th>\n",
       "      <th></th>\n",
       "      <th></th>\n",
       "      <th></th>\n",
       "      <th></th>\n",
       "    </tr>\n",
       "  </thead>\n",
       "  <tbody>\n",
       "    <tr>\n",
       "      <th rowspan=\"4\" valign=\"top\">Human</th>\n",
       "      <th rowspan=\"2\" valign=\"top\">CYTB</th>\n",
       "      <th>exp</th>\n",
       "      <td>13.27</td>\n",
       "      <td>207.97</td>\n",
       "      <td>88.08</td>\n",
       "      <td>88.08</td>\n",
       "      <td>138.32</td>\n",
       "      <td>88.26</td>\n",
       "      <td>88.26</td>\n",
       "      <td>54.72</td>\n",
       "      <td>15.13</td>\n",
       "      <td>15.13</td>\n",
       "      <td>6.78</td>\n",
       "      <td>6.78</td>\n",
       "    </tr>\n",
       "    <tr>\n",
       "      <th>exp_masked</th>\n",
       "      <td>12.24</td>\n",
       "      <td>146.12</td>\n",
       "      <td>61.12</td>\n",
       "      <td>61.12</td>\n",
       "      <td>88.43</td>\n",
       "      <td>61.08</td>\n",
       "      <td>61.08</td>\n",
       "      <td>54.66</td>\n",
       "      <td>15.09</td>\n",
       "      <td>15.09</td>\n",
       "      <td>6.76</td>\n",
       "      <td>6.76</td>\n",
       "    </tr>\n",
       "    <tr>\n",
       "      <th rowspan=\"2\" valign=\"top\">ND1</th>\n",
       "      <th>exp</th>\n",
       "      <td>17.12</td>\n",
       "      <td>178.30</td>\n",
       "      <td>91.44</td>\n",
       "      <td>91.44</td>\n",
       "      <td>116.68</td>\n",
       "      <td>69.91</td>\n",
       "      <td>69.91</td>\n",
       "      <td>42.08</td>\n",
       "      <td>16.21</td>\n",
       "      <td>16.21</td>\n",
       "      <td>9.04</td>\n",
       "      <td>9.04</td>\n",
       "    </tr>\n",
       "    <tr>\n",
       "      <th>exp_masked</th>\n",
       "      <td>16.09</td>\n",
       "      <td>134.37</td>\n",
       "      <td>73.49</td>\n",
       "      <td>73.49</td>\n",
       "      <td>77.78</td>\n",
       "      <td>48.94</td>\n",
       "      <td>48.94</td>\n",
       "      <td>39.05</td>\n",
       "      <td>15.18</td>\n",
       "      <td>15.18</td>\n",
       "      <td>9.03</td>\n",
       "      <td>9.03</td>\n",
       "    </tr>\n",
       "    <tr>\n",
       "      <th rowspan=\"4\" valign=\"top\">Mouse</th>\n",
       "      <th rowspan=\"2\" valign=\"top\">CYTB</th>\n",
       "      <th>exp</th>\n",
       "      <td>10.09</td>\n",
       "      <td>145.44</td>\n",
       "      <td>44.34</td>\n",
       "      <td>44.34</td>\n",
       "      <td>153.13</td>\n",
       "      <td>99.88</td>\n",
       "      <td>99.88</td>\n",
       "      <td>79.87</td>\n",
       "      <td>18.94</td>\n",
       "      <td>18.94</td>\n",
       "      <td>5.80</td>\n",
       "      <td>5.80</td>\n",
       "    </tr>\n",
       "    <tr>\n",
       "      <th>exp_masked</th>\n",
       "      <td>10.09</td>\n",
       "      <td>144.52</td>\n",
       "      <td>44.34</td>\n",
       "      <td>44.34</td>\n",
       "      <td>141.32</td>\n",
       "      <td>94.04</td>\n",
       "      <td>94.04</td>\n",
       "      <td>78.86</td>\n",
       "      <td>18.93</td>\n",
       "      <td>18.93</td>\n",
       "      <td>5.80</td>\n",
       "      <td>5.80</td>\n",
       "    </tr>\n",
       "    <tr>\n",
       "      <th rowspan=\"2\" valign=\"top\">ND1</th>\n",
       "      <th>exp</th>\n",
       "      <td>10.98</td>\n",
       "      <td>113.78</td>\n",
       "      <td>39.95</td>\n",
       "      <td>39.95</td>\n",
       "      <td>162.07</td>\n",
       "      <td>93.27</td>\n",
       "      <td>93.27</td>\n",
       "      <td>79.83</td>\n",
       "      <td>21.07</td>\n",
       "      <td>21.07</td>\n",
       "      <td>7.77</td>\n",
       "      <td>7.77</td>\n",
       "    </tr>\n",
       "    <tr>\n",
       "      <th>exp_masked</th>\n",
       "      <td>9.99</td>\n",
       "      <td>101.51</td>\n",
       "      <td>39.95</td>\n",
       "      <td>39.95</td>\n",
       "      <td>109.09</td>\n",
       "      <td>67.36</td>\n",
       "      <td>67.36</td>\n",
       "      <td>75.03</td>\n",
       "      <td>21.06</td>\n",
       "      <td>21.06</td>\n",
       "      <td>6.78</td>\n",
       "      <td>6.78</td>\n",
       "    </tr>\n",
       "  </tbody>\n",
       "</table>\n",
       "</div>"
      ],
      "text/plain": [
       "                           G>A     C>T    C>A    C>G     A>G    A>C    A>T  \\\n",
       "Species Gene Label                                                           \n",
       "Human   CYTB exp         13.27  207.97  88.08  88.08  138.32  88.26  88.26   \n",
       "             exp_masked  12.24  146.12  61.12  61.12   88.43  61.08  61.08   \n",
       "        ND1  exp         17.12  178.30  91.44  91.44  116.68  69.91  69.91   \n",
       "             exp_masked  16.09  134.37  73.49  73.49   77.78  48.94  48.94   \n",
       "Mouse   CYTB exp         10.09  145.44  44.34  44.34  153.13  99.88  99.88   \n",
       "             exp_masked  10.09  144.52  44.34  44.34  141.32  94.04  94.04   \n",
       "        ND1  exp         10.98  113.78  39.95  39.95  162.07  93.27  93.27   \n",
       "             exp_masked   9.99  101.51  39.95  39.95  109.09  67.36  67.36   \n",
       "\n",
       "                           T>C    T>G    T>A   G>C   G>T  \n",
       "Species Gene Label                                        \n",
       "Human   CYTB exp         54.72  15.13  15.13  6.78  6.78  \n",
       "             exp_masked  54.66  15.09  15.09  6.76  6.76  \n",
       "        ND1  exp         42.08  16.21  16.21  9.04  9.04  \n",
       "             exp_masked  39.05  15.18  15.18  9.03  9.03  \n",
       "Mouse   CYTB exp         79.87  18.94  18.94  5.80  5.80  \n",
       "             exp_masked  78.86  18.93  18.93  5.80  5.80  \n",
       "        ND1  exp         79.83  21.07  21.07  7.77  7.77  \n",
       "             exp_masked  75.03  21.06  21.06  6.78  6.78  "
      ]
     },
     "execution_count": 68,
     "metadata": {},
     "output_type": "execute_result"
    }
   ],
   "source": [
    "# a = pd.concat(full_exp_summary)\n",
    "# a[\"Species\"] = np.repeat([\"Human\", \"Mouse\", \"Mammals\"], 4)\n",
    "# a[\"Gene\"] = np.repeat(np.tile([\"CYTB\", \"ND1\"], 3), 2)\n",
    "\n",
    "a = pd.concat(full_exp_summary)\n",
    "a[\"Species\"] = np.repeat([\"Human\", \"Mouse\"], 4)\n",
    "a[\"Gene\"] = np.repeat(np.tile([\"CYTB\", \"ND1\"], 2), 2)\n",
    "\n",
    "a.reset_index().rename(columns={\"index\": \"Label\"}).set_index([\"Species\", \"Gene\", \"Label\"]).round(2)"
   ]
  },
  {
   "attachments": {},
   "cell_type": "markdown",
   "metadata": {},
   "source": [
    "## Intersection of invariant and synonymous positions"
   ]
  },
  {
   "cell_type": "code",
   "execution_count": 96,
   "metadata": {},
   "outputs": [],
   "source": [
    "# for each gene in alignment get expected mutations,\n",
    "# assign invariativity to each position\n",
    "# and calculate how many positions are invariant\n",
    "\n",
    "n = 500\n",
    "em_total = []\n",
    "for lbl, aln, mask, rates in zip(\n",
    "    ['human_cytb', 'human_nd1', 'mus_cytb', 'mus_nd1', ], \n",
    "    [human_cytb, human_nd1, mus_cytb, mus_nd1, ], \n",
    "    [human_cytb_mask, human_nd1_mask, mus_cytb_mask, mus_nd1_mask, ],\n",
    "    [human_cytb_rate, human_nd1_rate, mus_cytb_rate, mus_nd1_rate, ]\n",
    "    ):\n",
    "    em = []\n",
    "    aln = random.sample(aln, n) if len(aln) > n else aln\n",
    "    for seq in aln:\n",
    "        em.append(coda.collect_exp_muts(seq))\n",
    "    em = pd.concat(em).merge(rates, on=\"Pos\")\n",
    "    em[\"Gene\"] = lbl\n",
    "    em_total.append(em)\n",
    "\n",
    "em_total_df = pd.concat(em_total)\n",
    "em_total_df[\"Invariant\"] = (em_total_df.Cat < 2).astype(np.int8)"
   ]
  },
  {
   "cell_type": "code",
   "execution_count": 101,
   "metadata": {},
   "outputs": [
    {
     "name": "stdout",
     "output_type": "stream",
     "text": [
      "<class 'pandas.core.frame.DataFrame'>\n",
      "Int64Index: 1197801 entries, 0 to 64931\n",
      "Data columns (total 12 columns):\n",
      " #   Column     Non-Null Count    Dtype  \n",
      "---  ------     --------------    -----  \n",
      " 0   Pos        1197801 non-null  int64  \n",
      " 1   Pic        1197801 non-null  int64  \n",
      " 2   Mut        1197801 non-null  object \n",
      " 3   MutBase    1197801 non-null  object \n",
      " 4   Cdn        1197801 non-null  object \n",
      " 5   Label      1197801 non-null  object \n",
      " 6   Site       1197801 non-null  int64  \n",
      " 7   Rate       1197801 non-null  float64\n",
      " 8   Cat        1197801 non-null  int64  \n",
      " 9   C_Rate     1197801 non-null  float64\n",
      " 10  Gene       1197801 non-null  object \n",
      " 11  Invariant  1197801 non-null  int8   \n",
      "dtypes: float64(2), int64(4), int8(1), object(5)\n",
      "memory usage: 110.8+ MB\n"
     ]
    }
   ],
   "source": [
    "em_total_df.info()"
   ]
  },
  {
   "cell_type": "code",
   "execution_count": 102,
   "metadata": {},
   "outputs": [
    {
     "data": {
      "text/html": [
       "<div>\n",
       "<style scoped>\n",
       "    .dataframe tbody tr th:only-of-type {\n",
       "        vertical-align: middle;\n",
       "    }\n",
       "\n",
       "    .dataframe tbody tr th {\n",
       "        vertical-align: top;\n",
       "    }\n",
       "\n",
       "    .dataframe thead th {\n",
       "        text-align: right;\n",
       "    }\n",
       "</style>\n",
       "<table border=\"1\" class=\"dataframe\">\n",
       "  <thead>\n",
       "    <tr style=\"text-align: right;\">\n",
       "      <th></th>\n",
       "      <th>Pos</th>\n",
       "      <th>Pic</th>\n",
       "      <th>Mut</th>\n",
       "      <th>MutBase</th>\n",
       "      <th>Cdn</th>\n",
       "      <th>Label</th>\n",
       "      <th>Site</th>\n",
       "      <th>Rate</th>\n",
       "      <th>Cat</th>\n",
       "      <th>C_Rate</th>\n",
       "      <th>Gene</th>\n",
       "      <th>Invariant</th>\n",
       "    </tr>\n",
       "  </thead>\n",
       "  <tbody>\n",
       "    <tr>\n",
       "      <th>0</th>\n",
       "      <td>3</td>\n",
       "      <td>3</td>\n",
       "      <td>T[G&gt;A]A</td>\n",
       "      <td>G&gt;A</td>\n",
       "      <td>ATG</td>\n",
       "      <td>syn</td>\n",
       "      <td>3</td>\n",
       "      <td>0.05365</td>\n",
       "      <td>0</td>\n",
       "      <td>0.0</td>\n",
       "      <td>human_cytb</td>\n",
       "      <td>1</td>\n",
       "    </tr>\n",
       "    <tr>\n",
       "      <th>1</th>\n",
       "      <td>3</td>\n",
       "      <td>3</td>\n",
       "      <td>T[G&gt;A]A</td>\n",
       "      <td>G&gt;A</td>\n",
       "      <td>ATG</td>\n",
       "      <td>syn</td>\n",
       "      <td>3</td>\n",
       "      <td>0.05365</td>\n",
       "      <td>0</td>\n",
       "      <td>0.0</td>\n",
       "      <td>human_cytb</td>\n",
       "      <td>1</td>\n",
       "    </tr>\n",
       "    <tr>\n",
       "      <th>2</th>\n",
       "      <td>3</td>\n",
       "      <td>3</td>\n",
       "      <td>T[G&gt;A]A</td>\n",
       "      <td>G&gt;A</td>\n",
       "      <td>ATG</td>\n",
       "      <td>syn</td>\n",
       "      <td>3</td>\n",
       "      <td>0.05365</td>\n",
       "      <td>0</td>\n",
       "      <td>0.0</td>\n",
       "      <td>human_cytb</td>\n",
       "      <td>1</td>\n",
       "    </tr>\n",
       "    <tr>\n",
       "      <th>3</th>\n",
       "      <td>3</td>\n",
       "      <td>3</td>\n",
       "      <td>T[G&gt;A]A</td>\n",
       "      <td>G&gt;A</td>\n",
       "      <td>ATG</td>\n",
       "      <td>syn</td>\n",
       "      <td>3</td>\n",
       "      <td>0.05365</td>\n",
       "      <td>0</td>\n",
       "      <td>0.0</td>\n",
       "      <td>human_cytb</td>\n",
       "      <td>1</td>\n",
       "    </tr>\n",
       "    <tr>\n",
       "      <th>4</th>\n",
       "      <td>3</td>\n",
       "      <td>3</td>\n",
       "      <td>T[G&gt;A]A</td>\n",
       "      <td>G&gt;A</td>\n",
       "      <td>ATG</td>\n",
       "      <td>syn</td>\n",
       "      <td>3</td>\n",
       "      <td>0.05365</td>\n",
       "      <td>0</td>\n",
       "      <td>0.0</td>\n",
       "      <td>human_cytb</td>\n",
       "      <td>1</td>\n",
       "    </tr>\n",
       "  </tbody>\n",
       "</table>\n",
       "</div>"
      ],
      "text/plain": [
       "   Pos  Pic      Mut MutBase  Cdn Label  Site     Rate  Cat  C_Rate  \\\n",
       "0    3    3  T[G>A]A     G>A  ATG   syn     3  0.05365    0     0.0   \n",
       "1    3    3  T[G>A]A     G>A  ATG   syn     3  0.05365    0     0.0   \n",
       "2    3    3  T[G>A]A     G>A  ATG   syn     3  0.05365    0     0.0   \n",
       "3    3    3  T[G>A]A     G>A  ATG   syn     3  0.05365    0     0.0   \n",
       "4    3    3  T[G>A]A     G>A  ATG   syn     3  0.05365    0     0.0   \n",
       "\n",
       "         Gene  Invariant  \n",
       "0  human_cytb          1  \n",
       "1  human_cytb          1  \n",
       "2  human_cytb          1  \n",
       "3  human_cytb          1  \n",
       "4  human_cytb          1  "
      ]
     },
     "execution_count": 102,
     "metadata": {},
     "output_type": "execute_result"
    }
   ],
   "source": [
    "em_total_df.head()"
   ]
  },
  {
   "cell_type": "code",
   "execution_count": 100,
   "metadata": {},
   "outputs": [
    {
     "data": {
      "text/html": [
       "<div>\n",
       "<style scoped>\n",
       "    .dataframe tbody tr th:only-of-type {\n",
       "        vertical-align: middle;\n",
       "    }\n",
       "\n",
       "    .dataframe tbody tr th {\n",
       "        vertical-align: top;\n",
       "    }\n",
       "\n",
       "    .dataframe thead th {\n",
       "        text-align: right;\n",
       "    }\n",
       "</style>\n",
       "<table border=\"1\" class=\"dataframe\">\n",
       "  <thead>\n",
       "    <tr style=\"text-align: right;\">\n",
       "      <th>Cat</th>\n",
       "      <th>0</th>\n",
       "      <th>1</th>\n",
       "      <th>2</th>\n",
       "      <th>3</th>\n",
       "      <th>4</th>\n",
       "      <th>5</th>\n",
       "      <th>6</th>\n",
       "    </tr>\n",
       "    <tr>\n",
       "      <th>Gene</th>\n",
       "      <th></th>\n",
       "      <th></th>\n",
       "      <th></th>\n",
       "      <th></th>\n",
       "      <th></th>\n",
       "      <th></th>\n",
       "      <th></th>\n",
       "    </tr>\n",
       "  </thead>\n",
       "  <tbody>\n",
       "    <tr>\n",
       "      <th>human_cytb</th>\n",
       "      <td>27.29</td>\n",
       "      <td>NaN</td>\n",
       "      <td>1.85</td>\n",
       "      <td>25.87</td>\n",
       "      <td>2.47</td>\n",
       "      <td>19.02</td>\n",
       "      <td>23.50</td>\n",
       "    </tr>\n",
       "    <tr>\n",
       "      <th>human_nd1</th>\n",
       "      <td>22.79</td>\n",
       "      <td>0.14</td>\n",
       "      <td>3.43</td>\n",
       "      <td>24.64</td>\n",
       "      <td>5.50</td>\n",
       "      <td>20.19</td>\n",
       "      <td>23.32</td>\n",
       "    </tr>\n",
       "    <tr>\n",
       "      <th>mus_cytb</th>\n",
       "      <td>3.22</td>\n",
       "      <td>0.28</td>\n",
       "      <td>7.54</td>\n",
       "      <td>14.27</td>\n",
       "      <td>23.49</td>\n",
       "      <td>30.42</td>\n",
       "      <td>20.77</td>\n",
       "    </tr>\n",
       "    <tr>\n",
       "      <th>mus_nd1</th>\n",
       "      <td>15.75</td>\n",
       "      <td>2.32</td>\n",
       "      <td>11.43</td>\n",
       "      <td>17.86</td>\n",
       "      <td>9.20</td>\n",
       "      <td>18.23</td>\n",
       "      <td>25.21</td>\n",
       "    </tr>\n",
       "  </tbody>\n",
       "</table>\n",
       "</div>"
      ],
      "text/plain": [
       "Cat             0     1      2      3      4      5      6\n",
       "Gene                                                      \n",
       "human_cytb  27.29   NaN   1.85  25.87   2.47  19.02  23.50\n",
       "human_nd1   22.79  0.14   3.43  24.64   5.50  20.19  23.32\n",
       "mus_cytb     3.22  0.28   7.54  14.27  23.49  30.42  20.77\n",
       "mus_nd1     15.75  2.32  11.43  17.86   9.20  18.23  25.21"
      ]
     },
     "execution_count": 100,
     "metadata": {},
     "output_type": "execute_result"
    }
   ],
   "source": [
    "(em_total_df.groupby(\"Gene\").Cat.value_counts(normalize=True).unstack() * 100).round(2)\n",
    "# Category frequency for SYN mutations"
   ]
  },
  {
   "cell_type": "code",
   "execution_count": null,
   "metadata": {},
   "outputs": [],
   "source": []
  },
  {
   "cell_type": "code",
   "execution_count": null,
   "metadata": {},
   "outputs": [],
   "source": []
  }
 ],
 "metadata": {
  "kernelspec": {
   "display_name": "env_bio",
   "language": "python",
   "name": "python3"
  },
  "language_info": {
   "codemirror_mode": {
    "name": "ipython",
    "version": 3
   },
   "file_extension": ".py",
   "mimetype": "text/x-python",
   "name": "python",
   "nbconvert_exporter": "python",
   "pygments_lexer": "ipython3",
   "version": "3.9.13"
  },
  "orig_nbformat": 4,
  "vscode": {
   "interpreter": {
    "hash": "1f8ac943a1f0a360cafdaeb78858a37fec7c1ca02fbfb34f84d0516267577085"
   }
  }
 },
 "nbformat": 4,
 "nbformat_minor": 2
}
