{
 "cells": [
  {
   "cell_type": "code",
   "execution_count": 1,
   "metadata": {},
   "outputs": [],
   "source": [
    "import numpy as np\n",
    "import pandas as pd\n",
    "import matplotlib.pyplot as plt"
   ]
  },
  {
   "cell_type": "markdown",
   "metadata": {},
   "source": [
    "## DATA"
   ]
  },
  {
   "cell_type": "code",
   "execution_count": 2,
   "metadata": {},
   "outputs": [
    {
     "name": "stdout",
     "output_type": "stream",
     "text": [
      "(1423266, 8)\n"
     ]
    },
    {
     "data": {
      "text/html": [
       "<div>\n",
       "<style scoped>\n",
       "    .dataframe tbody tr th:only-of-type {\n",
       "        vertical-align: middle;\n",
       "    }\n",
       "\n",
       "    .dataframe tbody tr th {\n",
       "        vertical-align: top;\n",
       "    }\n",
       "\n",
       "    .dataframe thead th {\n",
       "        text-align: right;\n",
       "    }\n",
       "</style>\n",
       "<table border=\"1\" class=\"dataframe\">\n",
       "  <thead>\n",
       "    <tr style=\"text-align: right;\">\n",
       "      <th></th>\n",
       "      <th>Node</th>\n",
       "      <th>Part</th>\n",
       "      <th>Site</th>\n",
       "      <th>State</th>\n",
       "      <th>p_A</th>\n",
       "      <th>p_C</th>\n",
       "      <th>p_G</th>\n",
       "      <th>p_T</th>\n",
       "    </tr>\n",
       "  </thead>\n",
       "  <tbody>\n",
       "    <tr>\n",
       "      <th>1413243</th>\n",
       "      <td>Node1</td>\n",
       "      <td>1</td>\n",
       "      <td>1</td>\n",
       "      <td>A</td>\n",
       "      <td>0.56753</td>\n",
       "      <td>0.00222</td>\n",
       "      <td>0.02273</td>\n",
       "      <td>0.40751</td>\n",
       "    </tr>\n",
       "    <tr>\n",
       "      <th>1413244</th>\n",
       "      <td>Node1</td>\n",
       "      <td>1</td>\n",
       "      <td>2</td>\n",
       "      <td>T</td>\n",
       "      <td>0.00001</td>\n",
       "      <td>0.00003</td>\n",
       "      <td>0.00000</td>\n",
       "      <td>0.99996</td>\n",
       "    </tr>\n",
       "    <tr>\n",
       "      <th>1413245</th>\n",
       "      <td>Node1</td>\n",
       "      <td>1</td>\n",
       "      <td>3</td>\n",
       "      <td>T</td>\n",
       "      <td>0.17456</td>\n",
       "      <td>0.05253</td>\n",
       "      <td>0.16762</td>\n",
       "      <td>0.60528</td>\n",
       "    </tr>\n",
       "    <tr>\n",
       "      <th>1413246</th>\n",
       "      <td>Node1</td>\n",
       "      <td>1</td>\n",
       "      <td>4</td>\n",
       "      <td>T</td>\n",
       "      <td>0.10452</td>\n",
       "      <td>0.01489</td>\n",
       "      <td>0.07249</td>\n",
       "      <td>0.80810</td>\n",
       "    </tr>\n",
       "    <tr>\n",
       "      <th>1413247</th>\n",
       "      <td>Node1</td>\n",
       "      <td>1</td>\n",
       "      <td>5</td>\n",
       "      <td>T</td>\n",
       "      <td>0.00014</td>\n",
       "      <td>0.00067</td>\n",
       "      <td>0.00007</td>\n",
       "      <td>0.99912</td>\n",
       "    </tr>\n",
       "  </tbody>\n",
       "</table>\n",
       "</div>"
      ],
      "text/plain": [
       "          Node  Part  Site State      p_A      p_C      p_G      p_T\n",
       "1413243  Node1     1     1     A  0.56753  0.00222  0.02273  0.40751\n",
       "1413244  Node1     1     2     T  0.00001  0.00003  0.00000  0.99996\n",
       "1413245  Node1     1     3     T  0.17456  0.05253  0.16762  0.60528\n",
       "1413246  Node1     1     4     T  0.10452  0.01489  0.07249  0.80810\n",
       "1413247  Node1     1     5     T  0.00014  0.00067  0.00007  0.99912"
      ]
     },
     "execution_count": 2,
     "metadata": {},
     "output_type": "execute_result"
    }
   ],
   "source": [
    "dtype = {\n",
    "    \"Part\": np.int8,\n",
    "    \"Site\": np.int32,\n",
    "    \"p_A\": np.float32,\n",
    "    \"p_C\": np.float32,\n",
    "    \"p_G\": np.float32,\n",
    "    \"p_T\": np.float32,\n",
    "}\n",
    "states = pd.read_csv(\"../data/example_nematoda/anc.state\", sep=\"\\t\", comment=\"#\", dtype=dtype)\n",
    "states = states.sort_values([\"Node\", \"Part\", \"Site\"])\n",
    "print(states.shape)\n",
    "states.head()"
   ]
  },
  {
   "cell_type": "markdown",
   "metadata": {},
   "source": [
    "## SCHEMES"
   ]
  },
  {
   "cell_type": "code",
   "execution_count": 3,
   "metadata": {},
   "outputs": [],
   "source": [
    "def load_scheme(path: str):\n",
    "    \"\"\"\n",
    "    parse files like scheme_birds_genes.nex (just separated genes)\n",
    "\n",
    "    return dict(charset_lbl: gene_fp)\n",
    "    \"\"\"\n",
    "    import re, os\n",
    "\n",
    "    with open(path) as handle:\n",
    "        raw_file = handle.read()\n",
    "    charsets = re.findall(\"charset\\s(\\w+)\\s?=\\s?([\\w_\\.]+)(\\s?:.+)?;\", raw_file)\n",
    "    scheme = {i: os.path.basename(fp) for i, (_, fp, _) in enumerate(charsets, 1)}\n",
    "    return scheme"
   ]
  },
  {
   "cell_type": "code",
   "execution_count": 4,
   "metadata": {},
   "outputs": [
    {
     "data": {
      "text/plain": [
       "5    417480\n",
       "2    315666\n",
       "3    280734\n",
       "4    273066\n",
       "1    136320\n",
       "Name: Part, dtype: int64"
      ]
     },
     "execution_count": 4,
     "metadata": {},
     "output_type": "execute_result"
    }
   ],
   "source": [
    "states.Part.value_counts()"
   ]
  },
  {
   "cell_type": "code",
   "execution_count": 5,
   "metadata": {},
   "outputs": [
    {
     "name": "stdout",
     "output_type": "stream",
     "text": [
      "{'ATP6': 1, 'COX1': 2, 'COX2': 3, 'COX3': 4, 'CYTB': 5, 'ND1': 6, 'ND2': 7, 'ND3': 8, 'ND4': 9, 'ND4L': 10, 'ND5': 11, 'ND6': 12}\n"
     ]
    }
   ],
   "source": [
    "iqtree_scheme = [\n",
    "    [\"ATP6\", \"ND6\"], \n",
    "    [\"COX1\", \"COX2\"],\n",
    "    [\"COX3\", \"ND4\"],\n",
    "    [\"CYTB\", \"ND1\"],\n",
    "    [\"ND2\", \"ND3\", \"ND4L\", \"ND5\"],\n",
    "]\n",
    "universal_scheme = load_scheme(\"../data/example_nematoda/scheme_devilworm.nex\")\n",
    "universal_scheme_rev = {y.split(\".\")[0]: x for x, y in universal_scheme.items()}\n",
    "print(universal_scheme_rev)"
   ]
  },
  {
   "cell_type": "markdown",
   "metadata": {},
   "source": [
    "## GENES LENGTH"
   ]
  },
  {
   "cell_type": "code",
   "execution_count": 6,
   "metadata": {},
   "outputs": [
    {
     "name": "stdout",
     "output_type": "stream",
     "text": [
      "{'COX2': 684, 'ND5': 1569, 'ND3': 324, 'COX3': 765, 'ATP6': 543, 'CYTB': 1065, 'COX1': 1539, 'ND2': 819, 'ND4L': 228, 'ND6': 417, 'ND1': 858, 'ND4': 1212}\n"
     ]
    }
   ],
   "source": [
    "import glob\n",
    "\n",
    "gene_lens = dict()\n",
    "for path in glob.glob(\"../data/example_nematoda/aln/*\"):\n",
    "    gname = path.split(\"/\")[-1].split(\".\")[0]\n",
    "    with open(path) as fin:\n",
    "        fin.readline()\n",
    "        glen = len(fin.readline().strip())\n",
    "        gene_lens[gname] = glen\n",
    "\n",
    "print(gene_lens)\n",
    "# plus one\n",
    "# ATP6,544\n",
    "# COX1,1540\n",
    "# COX2,685\n",
    "# CYTB,1066\n",
    "# COX3,766\n",
    "# ND1,859\n",
    "# ND2,820\n",
    "# ND3,325\n",
    "# ND4,1213\n",
    "# ND4L,229\n",
    "# ND6,418\n",
    "# ND5,1570"
   ]
  },
  {
   "cell_type": "markdown",
   "metadata": {},
   "source": [
    "## REPARTING"
   ]
  },
  {
   "cell_type": "code",
   "execution_count": 7,
   "metadata": {},
   "outputs": [
    {
     "name": "stdout",
     "output_type": "stream",
     "text": [
      "1 ['ATP6', 'ND6'] [543, 417]\n",
      "2 ['COX1', 'COX2'] [1539, 684]\n",
      "3 ['COX3', 'ND4'] [765, 1212]\n",
      "4 ['CYTB', 'ND1'] [1065, 858]\n",
      "5 ['ND2', 'ND3', 'ND4L', 'ND5'] [819, 324, 228, 1569]\n"
     ]
    }
   ],
   "source": [
    "for part, genes in enumerate(iqtree_scheme, 1):\n",
    "    print(part, genes, [gene_lens[g] for g in genes])\n",
    "    part_len = ((states.Node == states.Node.sample().values[0]) & (states.Part == part)).sum()\n",
    "    _gl = sum((gene_lens[g] for g in genes))\n",
    "    assert part_len == _gl\n",
    "\n",
    "    rf = states.Node.nunique()\n",
    "\n",
    "    full_part_len = 0\n",
    "    for g in genes:\n",
    "        gl = gene_lens[g]\n",
    "        sites = np.arange(1, gl + 1) + full_part_len\n",
    "        \n",
    "        where = (states.Part == part) & (states.Site.isin(sites)) # TODO\n",
    "        states.loc[where, \"NewPart\"] = universal_scheme_rev[g]\n",
    "        states.loc[where, \"NewSite\"] = np.tile(np.arange(1, gl + 1), rf)\n",
    "        full_part_len += gl"
   ]
  },
  {
   "cell_type": "code",
   "execution_count": 8,
   "metadata": {},
   "outputs": [],
   "source": [
    "states[\"Part\"] = states[\"NewPart\"].astype(np.int8)\n",
    "states[\"Site\"] = states[\"NewSite\"].astype(np.int32)\n",
    "states.drop([\"NewPart\", \"NewSite\"], axis=1, inplace=True)"
   ]
  },
  {
   "cell_type": "code",
   "execution_count": 9,
   "metadata": {},
   "outputs": [
    {
     "name": "stdout",
     "output_type": "stream",
     "text": [
      "{'COX2': 684, 'ND5': 1569, 'ND3': 324, 'COX3': 765, 'ATP6': 543, 'CYTB': 1065, 'COX1': 1539, 'ND2': 819, 'ND4L': 228, 'ND6': 417, 'ND1': 858, 'ND4': 1212}\n",
      "{'ATP6': 1, 'COX1': 2, 'COX2': 3, 'COX3': 4, 'CYTB': 5, 'ND1': 6, 'ND2': 7, 'ND3': 8, 'ND4': 9, 'ND4L': 10, 'ND5': 11, 'ND6': 12}\n"
     ]
    }
   ],
   "source": [
    "print(gene_lens)\n",
    "print(universal_scheme_rev)"
   ]
  },
  {
   "cell_type": "code",
   "execution_count": 10,
   "metadata": {},
   "outputs": [
    {
     "name": "stdout",
     "output_type": "stream",
     "text": [
      "1 543\n",
      "2 1539\n",
      "3 684\n",
      "4 765\n",
      "5 1065\n",
      "6 858\n",
      "7 819\n",
      "8 324\n",
      "9 1212\n",
      "10 228\n",
      "11 1569\n",
      "12 417\n"
     ]
    }
   ],
   "source": [
    "for part in universal_scheme:\n",
    "    print(part, gene_lens[universal_scheme[part].split('.')[0]])"
   ]
  },
  {
   "cell_type": "code",
   "execution_count": 11,
   "metadata": {},
   "outputs": [
    {
     "data": {
      "text/plain": [
       "Part\n",
       "1      543\n",
       "2     1539\n",
       "3      684\n",
       "4      765\n",
       "5     1065\n",
       "6      858\n",
       "7      819\n",
       "8      324\n",
       "9     1212\n",
       "10     228\n",
       "11    1569\n",
       "12     417\n",
       "Name: Site, dtype: int32"
      ]
     },
     "execution_count": 11,
     "metadata": {},
     "output_type": "execute_result"
    }
   ],
   "source": [
    "states.groupby(\"Part\").Site.max()"
   ]
  },
  {
   "cell_type": "code",
   "execution_count": 73,
   "metadata": {},
   "outputs": [],
   "source": [
    "states.to_csv(\"../data/example_nematoda/genes_states.tsv\", sep='\\t', index=None)"
   ]
  },
  {
   "cell_type": "code",
   "execution_count": null,
   "metadata": {},
   "outputs": [],
   "source": []
  }
 ],
 "metadata": {
  "interpreter": {
   "hash": "168b15c321dd2602d32e2364c101fbe6179fdcd135a3910c88de948ab6dc8da5"
  },
  "kernelspec": {
   "display_name": "Python 3.9.5 ('env_ms': venv)",
   "language": "python",
   "name": "python3"
  },
  "language_info": {
   "codemirror_mode": {
    "name": "ipython",
    "version": 3
   },
   "file_extension": ".py",
   "mimetype": "text/x-python",
   "name": "python",
   "nbconvert_exporter": "python",
   "pygments_lexer": "ipython3",
   "version": "3.9.5"
  },
  "orig_nbformat": 4
 },
 "nbformat": 4,
 "nbformat_minor": 2
}
