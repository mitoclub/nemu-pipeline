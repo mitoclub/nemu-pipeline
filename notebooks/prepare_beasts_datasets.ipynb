{
 "cells": [
  {
   "cell_type": "code",
   "execution_count": 1,
   "metadata": {},
   "outputs": [],
   "source": [
    "import glob, os, sys, re, random\n",
    "from collections import defaultdict, Counter\n",
    "\n",
    "import numpy as np\n",
    "import pandas as pd\n",
    "import matplotlib.pyplot as plt\n",
    "import seaborn as sns\n",
    "import ete3\n",
    "from ete3 import PhyloTree\n",
    "from Bio import SeqIO\n",
    "import tqdm"
   ]
  },
  {
   "cell_type": "code",
   "execution_count": 2,
   "metadata": {},
   "outputs": [],
   "source": [
    "def collect_seqs(pattern: str, label: str, genes: list, sp=False):\n",
    "    directory = \"../data/MIDORI2/fasta/\"\n",
    "    file = \"MIDORI2_{}_NUC_SP_GB253_{}_BLAST.fasta\" if sp else \"MIDORI2_{}_NUC_GB253_{}_BLAST.fasta\"\n",
    "    path_to_fasta = directory + file\n",
    "    seqs = defaultdict(list)\n",
    "    for gene in tqdm.tqdm(genes):\n",
    "        inp = path_to_fasta.format(label, gene)\n",
    "        for rec in SeqIO.parse(inp, \"fasta\"):\n",
    "            header = rec.description\n",
    "            \n",
    "            if pattern not in header:\n",
    "                continue\n",
    "\n",
    "            raw_acc, taxa = header.split(\"###\")\n",
    "            acc, place = re.match(\"(\\w+\\.\\d)\\.(.+)\", raw_acc).groups()\n",
    "            taxa = taxa.removeprefix(\"root_1;Eukaryota_2759;\")\n",
    "            species = \" \".join(taxa.split(\";\")[-1].split(\"_\")[:-1])\n",
    "            rec.id = acc\n",
    "            rec.description = f\"{species} {place} ###{taxa}\"\n",
    "            seqs[gene + \"__\" + species.replace(\" \", \"_\")].append(rec)\n",
    "    return seqs\n",
    "\n",
    "\n",
    "def filter_seqs(recs: list, var_gene_len=0.2, Nshare=0.2):\n",
    "    assert isinstance(recs, list)\n",
    "    seq_len_mean = np.median([len(x) for x in recs])\n",
    "    min_seq_len = seq_len_mean * (1 - var_gene_len)\n",
    "    max_seq_len = seq_len_mean * (1 + var_gene_len)\n",
    "\n",
    "    recs_filtered = []\n",
    "    for rec in recs:\n",
    "        acgt_share = sum(rec.seq.count(x) for x in \"ACGT\") / len(rec)\n",
    "        if min_seq_len < len(rec) < max_seq_len and 1 - acgt_share < Nshare:\n",
    "            recs_filtered.append(rec)\n",
    "\n",
    "    return recs_filtered\n",
    "\n",
    "\n",
    "def filter_seqs_dict(seqs, nseqs_min=10, var_gene_len=0.2, Nshare=0.2):\n",
    "    assert isinstance(seqs, dict)\n",
    "    seqs_filtered = dict()\n",
    "    for gene_species, recs in seqs.items():\n",
    "        if len(recs) < nseqs_min:\n",
    "            continue\n",
    "\n",
    "        recs_filtered = filter_seqs(recs, var_gene_len, Nshare)\n",
    "        if len(recs_filtered) >= nseqs_min:\n",
    "            seqs_filtered[gene_species] = recs_filtered\n",
    "    \n",
    "    return seqs_filtered"
   ]
  },
  {
   "attachments": {},
   "cell_type": "markdown",
   "metadata": {},
   "source": [
    "## *Hominidae*"
   ]
  },
  {
   "attachments": {},
   "cell_type": "markdown",
   "metadata": {},
   "source": [
    "### CYTB"
   ]
  },
  {
   "cell_type": "code",
   "execution_count": 3,
   "metadata": {},
   "outputs": [
    {
     "name": "stderr",
     "output_type": "stream",
     "text": [
      "100%|██████████| 1/1 [00:04<00:00,  4.35s/it]"
     ]
    },
    {
     "name": "stdout",
     "output_type": "stream",
     "text": [
      "['Cytb__Gorilla_beringei', 'Cytb__Gorilla_gorilla', 'Cytb__Homo_heidelbergensis', 'Cytb__Homo_sapiens', 'Cytb__Pan_paniscus', 'Cytb__Pan_troglodytes', 'Cytb__Pongo_abelii', 'Cytb__Pongo_pygmaeus']\n",
      "Cytb__Gorilla_beringei 8\n",
      "Cytb__Gorilla_gorilla 1\n",
      "Cytb__Homo_heidelbergensis 1\n",
      "Cytb__Homo_sapiens 5703\n",
      "Sample 600 seqs\n",
      "Cytb__Pan_paniscus 19\n",
      "Cytb__Pan_troglodytes 10\n",
      "Cytb__Pongo_abelii 10\n",
      "Cytb__Pongo_pygmaeus 9\n"
     ]
    },
    {
     "name": "stderr",
     "output_type": "stream",
     "text": [
      "\n"
     ]
    }
   ],
   "source": [
    "pattern = \"Hominidae_9604\"\n",
    "seqs = collect_seqs(pattern, \"UNIQ\", ['Cytb'])\n",
    "seqs_filtered = filter_seqs_dict(seqs, 1, 0.05)\n",
    "print(list(seqs_filtered.keys()))\n",
    "\n",
    "MAX_SP_NSEQS = 600\n",
    "cytb_recs = []\n",
    "for gene_sp, recs in seqs_filtered.items():\n",
    "    print(gene_sp, len(recs))\n",
    "    if len(recs) > MAX_SP_NSEQS:\n",
    "        print(f\"Sample {MAX_SP_NSEQS} seqs\")\n",
    "        recs = random.sample(recs, MAX_SP_NSEQS)\n",
    "    cytb_recs.extend(recs)\n",
    "\n",
    "cytb_recs_filtered = filter_seqs(cytb_recs, 0.1)"
   ]
  },
  {
   "cell_type": "code",
   "execution_count": 4,
   "metadata": {},
   "outputs": [],
   "source": [
    "gagp_cytb = filter_seqs([x for x in SeqIO.parse(\"../data/GAGP/genes/CYTB.fna\", \"fasta\")], 0.1)"
   ]
  },
  {
   "cell_type": "code",
   "execution_count": 5,
   "metadata": {},
   "outputs": [
    {
     "name": "stdout",
     "output_type": "stream",
     "text": [
      "45\n"
     ]
    },
    {
     "data": {
      "text/plain": [
       "(665, 628)"
      ]
     },
     "execution_count": 5,
     "metadata": {},
     "output_type": "execute_result"
    }
   ],
   "source": [
    "cytb_collection = []\n",
    "visited = set()\n",
    "ndropped = 0\n",
    "for rec in cytb_recs_filtered + gagp_cytb:\n",
    "    h = hash(rec.seq)\n",
    "    if h not in visited:\n",
    "        cytb_collection.append(rec)\n",
    "        visited.add(h)\n",
    "    else:\n",
    "        ndropped += 1\n",
    "\n",
    "print(ndropped)\n",
    "len(cytb_collection), len(cytb_recs_filtered)"
   ]
  },
  {
   "cell_type": "code",
   "execution_count": 6,
   "metadata": {},
   "outputs": [
    {
     "data": {
      "text/plain": [
       "665"
      ]
     },
     "execution_count": 6,
     "metadata": {},
     "output_type": "execute_result"
    }
   ],
   "source": [
    "SeqIO.write(cytb_collection, \"../data/HOMINIDAE/genes/CYTB.fna\", \"fasta-2line\")"
   ]
  },
  {
   "cell_type": "code",
   "execution_count": 7,
   "metadata": {},
   "outputs": [
    {
     "data": {
      "image/png": "[encoded data removed]",
      "text/plain": [
       "<Figure size 400x200 with 1 Axes>"
      ]
     },
     "metadata": {},
     "output_type": "display_data"
    }
   ],
   "source": [
    "plt.figure(figsize=(4, 2))\n",
    "plt.hist([len(x) for x in cytb_collection], bins=50);"
   ]
  },
  {
   "attachments": {},
   "cell_type": "markdown",
   "metadata": {},
   "source": [
    "### ND1"
   ]
  },
  {
   "cell_type": "code",
   "execution_count": 8,
   "metadata": {},
   "outputs": [
    {
     "name": "stderr",
     "output_type": "stream",
     "text": [
      "100%|██████████| 1/1 [00:00<00:00,  1.15it/s]"
     ]
    },
    {
     "name": "stdout",
     "output_type": "stream",
     "text": [
      "['ND1__Gorilla_beringei', 'ND1__Gorilla_gorilla', 'ND1__Homo_heidelbergensis', 'ND1__Homo_sapiens', 'ND1__Pan_paniscus', 'ND1__Pan_troglodytes', 'ND1__Pongo_abelii', 'ND1__Pongo_pygmaeus']\n",
      "ND1__Gorilla_beringei 4\n",
      "ND1__Gorilla_gorilla 6\n",
      "ND1__Homo_heidelbergensis 1\n",
      "ND1__Homo_sapiens 3771\n",
      "Sample 600 seqs\n",
      "ND1__Pan_paniscus 31\n",
      "ND1__Pan_troglodytes 96\n",
      "ND1__Pongo_abelii 3\n",
      "ND1__Pongo_pygmaeus 4\n"
     ]
    },
    {
     "name": "stderr",
     "output_type": "stream",
     "text": [
      "\n"
     ]
    }
   ],
   "source": [
    "pattern = \"Hominidae_9604\"\n",
    "seqs = collect_seqs(pattern, \"UNIQ\", ['ND1'])\n",
    "seqs_filtered = filter_seqs_dict(seqs, 1, 0.1)\n",
    "print(list(seqs_filtered.keys()))\n",
    "\n",
    "nd1_recs = []\n",
    "for gene_sp, recs in seqs_filtered.items():\n",
    "    print(gene_sp, len(recs))\n",
    "    if len(recs) > MAX_SP_NSEQS:\n",
    "        print(f\"Sample {MAX_SP_NSEQS} seqs\")\n",
    "        recs = random.sample(recs, MAX_SP_NSEQS)\n",
    "    nd1_recs.extend(recs)\n",
    "\n",
    "nd1_recs_filtered = filter_seqs(nd1_recs, 0.1)"
   ]
  },
  {
   "cell_type": "code",
   "execution_count": 9,
   "metadata": {},
   "outputs": [],
   "source": [
    "gagp_nd1 = filter_seqs([x for x in SeqIO.parse(\"../data/GAGP/genes/ND1.fna\", \"fasta\")], 0.1)"
   ]
  },
  {
   "cell_type": "code",
   "execution_count": 10,
   "metadata": {},
   "outputs": [
    {
     "name": "stdout",
     "output_type": "stream",
     "text": [
      "58\n"
     ]
    },
    {
     "data": {
      "text/plain": [
       "(769, 745)"
      ]
     },
     "execution_count": 10,
     "metadata": {},
     "output_type": "execute_result"
    }
   ],
   "source": [
    "nd1_collection = []\n",
    "visited = set()\n",
    "ndropped = 0\n",
    "for rec in nd1_recs_filtered + gagp_nd1:\n",
    "    h = hash(rec.seq)\n",
    "    if h not in visited:\n",
    "        nd1_collection.append(rec)\n",
    "        visited.add(h)\n",
    "    else:\n",
    "        ndropped += 1\n",
    "\n",
    "print(ndropped)\n",
    "len(nd1_collection), len(nd1_recs_filtered)"
   ]
  },
  {
   "cell_type": "code",
   "execution_count": 11,
   "metadata": {},
   "outputs": [
    {
     "data": {
      "text/plain": [
       "769"
      ]
     },
     "execution_count": 11,
     "metadata": {},
     "output_type": "execute_result"
    }
   ],
   "source": [
    "SeqIO.write(nd1_collection, \"../data/HOMINIDAE/genes/ND1.fna\", \"fasta-2line\")"
   ]
  },
  {
   "cell_type": "code",
   "execution_count": 12,
   "metadata": {},
   "outputs": [
    {
     "data": {
      "image/png": "[encoded data removed]",
      "text/plain": [
       "<Figure size 400x200 with 1 Axes>"
      ]
     },
     "metadata": {},
     "output_type": "display_data"
    }
   ],
   "source": [
    "plt.figure(figsize=(4, 2))\n",
    "plt.hist([len(x) for x in nd1_collection], bins=50);"
   ]
  },
  {
   "attachments": {},
   "cell_type": "markdown",
   "metadata": {},
   "source": [
    "### COX1"
   ]
  },
  {
   "cell_type": "code",
   "execution_count": 13,
   "metadata": {},
   "outputs": [
    {
     "name": "stderr",
     "output_type": "stream",
     "text": [
      "100%|██████████| 1/1 [00:14<00:00, 14.17s/it]"
     ]
    },
    {
     "name": "stdout",
     "output_type": "stream",
     "text": [
      "['CO1__Gorilla_beringei', 'CO1__Gorilla_gorilla', 'CO1__Homo_heidelbergensis', 'CO1__Homo_sapiens', 'CO1__Pan_paniscus', 'CO1__Pan_troglodytes', 'CO1__Pongo_abelii', 'CO1__Pongo_pygmaeus']\n",
      "CO1__Gorilla_beringei 3\n",
      "CO1__Gorilla_gorilla 19\n",
      "CO1__Homo_heidelbergensis 1\n",
      "CO1__Homo_sapiens 4518\n",
      "Sample 600 seqs\n",
      "CO1__Pan_paniscus 17\n",
      "CO1__Pan_troglodytes 96\n",
      "CO1__Pongo_abelii 7\n",
      "CO1__Pongo_pygmaeus 8\n"
     ]
    },
    {
     "name": "stderr",
     "output_type": "stream",
     "text": [
      "\n"
     ]
    }
   ],
   "source": [
    "pattern = \"Hominidae_9604\"\n",
    "seqs = collect_seqs(pattern, \"UNIQ\", ['CO1'])\n",
    "seqs_filtered = filter_seqs_dict(seqs, 1, 0.1)\n",
    "print(list(seqs_filtered.keys()))\n",
    "\n",
    "cox1_recs = []\n",
    "for gene_sp, recs in seqs_filtered.items():\n",
    "    print(gene_sp, len(recs))\n",
    "    if len(recs) > MAX_SP_NSEQS:\n",
    "        print(f\"Sample {MAX_SP_NSEQS} seqs\")\n",
    "        recs = random.sample(recs, MAX_SP_NSEQS)\n",
    "    cox1_recs.extend(recs)\n",
    "\n",
    "cox1_recs_filtered = filter_seqs(cox1_recs, 0.1)"
   ]
  },
  {
   "cell_type": "code",
   "execution_count": 14,
   "metadata": {},
   "outputs": [],
   "source": [
    "gagp_cox1 = filter_seqs([x for x in SeqIO.parse(\"../data/GAGP/genes/COX1.fna\", \"fasta\")], 0.1)"
   ]
  },
  {
   "cell_type": "code",
   "execution_count": 15,
   "metadata": {},
   "outputs": [
    {
     "name": "stdout",
     "output_type": "stream",
     "text": [
      "48\n"
     ]
    },
    {
     "data": {
      "text/plain": [
       "(655, 621)"
      ]
     },
     "execution_count": 15,
     "metadata": {},
     "output_type": "execute_result"
    }
   ],
   "source": [
    "cox1_collection = []\n",
    "visited = set()\n",
    "ndropped = 0\n",
    "for rec in cox1_recs_filtered + gagp_cox1:\n",
    "    h = hash(rec.seq)\n",
    "    if h not in visited:\n",
    "        cox1_collection.append(rec)\n",
    "        visited.add(h)\n",
    "    else:\n",
    "        ndropped += 1\n",
    "\n",
    "print(ndropped)\n",
    "len(cox1_collection), len(cox1_recs_filtered)"
   ]
  },
  {
   "cell_type": "code",
   "execution_count": 16,
   "metadata": {},
   "outputs": [
    {
     "data": {
      "text/plain": [
       "655"
      ]
     },
     "execution_count": 16,
     "metadata": {},
     "output_type": "execute_result"
    }
   ],
   "source": [
    "SeqIO.write(cox1_collection, \"../data/HOMINIDAE/genes/COX1.fna\", \"fasta-2line\")"
   ]
  },
  {
   "cell_type": "code",
   "execution_count": 17,
   "metadata": {},
   "outputs": [
    {
     "data": {
      "image/png": "[encoded data removed]",
      "text/plain": [
       "<Figure size 400x200 with 1 Axes>"
      ]
     },
     "metadata": {},
     "output_type": "display_data"
    }
   ],
   "source": [
    "plt.figure(figsize=(4, 2))\n",
    "plt.hist([len(x) for x in cox1_collection], bins=50);"
   ]
  },
  {
   "attachments": {},
   "cell_type": "markdown",
   "metadata": {},
   "source": [
    "### Homo sapiens COX1"
   ]
  },
  {
   "cell_type": "code",
   "execution_count": 22,
   "metadata": {},
   "outputs": [
    {
     "name": "stderr",
     "output_type": "stream",
     "text": [
      "100%|██████████| 1/1 [00:14<00:00, 14.34s/it]"
     ]
    },
    {
     "name": "stdout",
     "output_type": "stream",
     "text": [
      "['CO1__Homo_sapiens']\n"
     ]
    },
    {
     "name": "stderr",
     "output_type": "stream",
     "text": [
      "\n"
     ]
    }
   ],
   "source": [
    "pattern = \"Homo_sapiens\"\n",
    "seqs = collect_seqs(pattern, \"UNIQ\", ['CO1'])\n",
    "seqs_filtered = filter_seqs_dict(seqs, 1, 0.05)\n",
    "print(list(seqs_filtered.keys()))"
   ]
  },
  {
   "cell_type": "code",
   "execution_count": 23,
   "metadata": {},
   "outputs": [
    {
     "data": {
      "text/plain": [
       "4515"
      ]
     },
     "execution_count": 23,
     "metadata": {},
     "output_type": "execute_result"
    }
   ],
   "source": [
    "SeqIO.write(seqs_filtered[\"CO1__Homo_sapiens\"], \"../data/exposure_run/human_cox1_raw.fna\", \"fasta-2line\")"
   ]
  },
  {
   "cell_type": "code",
   "execution_count": 24,
   "metadata": {},
   "outputs": [
    {
     "data": {
      "image/png": "[encoded data removed]",
      "text/plain": [
       "<Figure size 400x200 with 1 Axes>"
      ]
     },
     "metadata": {},
     "output_type": "display_data"
    }
   ],
   "source": [
    "plt.figure(figsize=(4, 2))\n",
    "plt.hist([len(x) for x in seqs_filtered[\"CO1__Homo_sapiens\"]], bins=50);"
   ]
  },
  {
   "attachments": {},
   "cell_type": "markdown",
   "metadata": {},
   "source": [
    "## *Mus* genus"
   ]
  },
  {
   "attachments": {},
   "cell_type": "markdown",
   "metadata": {},
   "source": [
    "### CYTB"
   ]
  },
  {
   "cell_type": "code",
   "execution_count": 80,
   "metadata": {},
   "outputs": [
    {
     "name": "stderr",
     "output_type": "stream",
     "text": [
      "100%|██████████| 1/1 [00:04<00:00,  4.33s/it]"
     ]
    },
    {
     "name": "stdout",
     "output_type": "stream",
     "text": [
      "['Cytb__Mus_crociduroides', 'Cytb__Mus_mayori', 'Cytb__Mus_pahari', 'Cytb__Mus_booduga', 'Cytb__Mus_caroli', 'Cytb__Mus_cervicolor', 'Cytb__Mus_cookii', 'Cytb__Mus_cypriacus', 'Cytb__Mus_famulus', 'Cytb__Mus_fragilicauda', 'Cytb__Mus_lepidoides', 'Cytb__Mus_macedonicus', 'Cytb__Mus_musculus', 'Cytb__Mus_nitidulus', 'Cytb__Mus_poschiavinus', 'Cytb__Mus_spicilegus', 'Cytb__Mus_spretus', 'Cytb__Mus_terricolor', 'Cytb__Mus_triton', 'Cytb__Mus_baoulei', 'Cytb__Mus_callewaerti', 'Cytb__Mus_harennensis', 'Cytb__Mus_haussa', 'Cytb__Mus_indutus', 'Cytb__Mus_mahomet', 'Cytb__Mus_mattheyi', 'Cytb__Mus_minutoides', 'Cytb__Mus_musculoides', 'Cytb__Mus_neavei', 'Cytb__Mus_setulosus', 'Cytb__Mus_sorella', 'Cytb__Mus_tenellus', 'Cytb__Mus_fernandoni', 'Cytb__Mus_platythrix', 'Cytb__Mus_saxicola']\n",
      "Cytb__Mus_musculus\n",
      "Cytb__Mus_spretus\n"
     ]
    },
    {
     "name": "stderr",
     "output_type": "stream",
     "text": [
      "\n"
     ]
    },
    {
     "data": {
      "text/plain": [
       "445"
      ]
     },
     "execution_count": 80,
     "metadata": {},
     "output_type": "execute_result"
    }
   ],
   "source": [
    "pattern = \"Mus_10088\"\n",
    "seqs = collect_seqs(pattern, \"UNIQ\", ['Cytb'])\n",
    "seqs_filtered = filter_seqs_dict(seqs, 1, 0.05)\n",
    "print(list(seqs_filtered.keys()))\n",
    "\n",
    "MAX_SP_NSEQS = 100\n",
    "cytb_recs = []\n",
    "for gene_sp, recs in seqs_filtered.items():\n",
    "    if len(recs) > MAX_SP_NSEQS:\n",
    "        print(gene_sp)\n",
    "        recs = random.sample(recs, MAX_SP_NSEQS)\n",
    "    cytb_recs.extend(recs)\n",
    "\n",
    "cytb_recs_filtered = filter_seqs(cytb_recs, 0.1)\n",
    "\n",
    "SeqIO.write(cytb_recs_filtered, \"../data/MUS/genes/CYTB.fna\", \"fasta-2line\")"
   ]
  },
  {
   "cell_type": "code",
   "execution_count": 78,
   "metadata": {},
   "outputs": [
    {
     "data": {
      "image/png": "[encoded data removed]",
      "text/plain": [
       "<Figure size 400x200 with 1 Axes>"
      ]
     },
     "metadata": {},
     "output_type": "display_data"
    }
   ],
   "source": [
    "plt.figure(figsize=(4, 2))\n",
    "plt.hist([len(x) for x in cytb_recs], bins=50);"
   ]
  },
  {
   "attachments": {},
   "cell_type": "markdown",
   "metadata": {},
   "source": [
    "### ND1"
   ]
  },
  {
   "cell_type": "code",
   "execution_count": 75,
   "metadata": {},
   "outputs": [
    {
     "name": "stderr",
     "output_type": "stream",
     "text": [
      "100%|██████████| 1/1 [00:00<00:00,  1.30it/s]"
     ]
    },
    {
     "name": "stdout",
     "output_type": "stream",
     "text": [
      "['ND1__Mus_pahari', 'ND1__Mus_caroli', 'ND1__Mus_cervicolor', 'ND1__Mus_cookii', 'ND1__Mus_famulus', 'ND1__Mus_fragilicauda', 'ND1__Mus_musculus', 'ND1__Mus_spretus', 'ND1__Mus_terricolor', 'ND1__Mus_baoulei', 'ND1__Mus_saxicola']\n"
     ]
    },
    {
     "name": "stderr",
     "output_type": "stream",
     "text": [
      "\n"
     ]
    },
    {
     "data": {
      "text/plain": [
       "106"
      ]
     },
     "execution_count": 75,
     "metadata": {},
     "output_type": "execute_result"
    }
   ],
   "source": [
    "pattern = \"Mus_10088\"\n",
    "seqs = collect_seqs(pattern, \"UNIQ\", ['ND1'])\n",
    "seqs_filtered = filter_seqs_dict(seqs, 1, 0.1)\n",
    "print(list(seqs_filtered.keys()))\n",
    "\n",
    "MAX_SP_NSEQS = 100\n",
    "cytb_recs = []\n",
    "for gene_sp, recs in seqs_filtered.items():\n",
    "    if len(recs) > MAX_SP_NSEQS:\n",
    "        print(gene_sp)\n",
    "        recs = random.sample(recs, MAX_SP_NSEQS)\n",
    "    cytb_recs.extend(recs)\n",
    "\n",
    "cytb_recs_filtered = filter_seqs(cytb_recs, 0.1)\n",
    "\n",
    "SeqIO.write(cytb_recs_filtered, \"../data/MUS/genes/ND1.fna\", \"fasta-2line\")"
   ]
  },
  {
   "cell_type": "code",
   "execution_count": 76,
   "metadata": {},
   "outputs": [
    {
     "data": {
      "image/png": "[encoded data removed]",
      "text/plain": [
       "<Figure size 400x200 with 1 Axes>"
      ]
     },
     "metadata": {},
     "output_type": "display_data"
    }
   ],
   "source": [
    "plt.figure(figsize=(4, 2))\n",
    "plt.hist([len(x) for x in cytb_recs], bins=50);"
   ]
  },
  {
   "attachments": {},
   "cell_type": "markdown",
   "metadata": {},
   "source": [
    "### COX1"
   ]
  },
  {
   "cell_type": "code",
   "execution_count": 9,
   "metadata": {},
   "outputs": [
    {
     "name": "stderr",
     "output_type": "stream",
     "text": [
      "100%|██████████| 1/1 [00:15<00:00, 15.46s/it]"
     ]
    },
    {
     "name": "stdout",
     "output_type": "stream",
     "text": [
      "['CO1__Mus_pahari', 'CO1__Mus_caroli', 'CO1__Mus_cookii', 'CO1__Mus_famulus', 'CO1__Mus_fragilicauda', 'CO1__Mus_macedonicus', 'CO1__Mus_musculus_domesticus_x_Mus_spretus', 'CO1__Mus_musculus', 'CO1__Mus_spicilegus', 'CO1__Mus_spretus', 'CO1__Mus_terricolor', 'CO1__Mus_baoulei', 'CO1__Mus_minutoides', 'CO1__Mus_setulosus', 'CO1__Mus_sorella', 'CO1__Mus_saxicola']\n",
      "CO1__Mus_musculus\n"
     ]
    },
    {
     "name": "stderr",
     "output_type": "stream",
     "text": [
      "\n"
     ]
    },
    {
     "data": {
      "text/plain": [
       "114"
      ]
     },
     "execution_count": 9,
     "metadata": {},
     "output_type": "execute_result"
    }
   ],
   "source": [
    "pattern = \"Mus_10088\"\n",
    "seqs = collect_seqs(pattern, \"UNIQ\", ['CO1'])\n",
    "seqs_filtered = filter_seqs_dict(seqs, 1, 0.1)\n",
    "print(list(seqs_filtered.keys()))\n",
    "\n",
    "MAX_SP_NSEQS = 100\n",
    "cytb_recs = []\n",
    "for gene_sp, recs in seqs_filtered.items():\n",
    "    if len(recs) > MAX_SP_NSEQS:\n",
    "        print(gene_sp)\n",
    "        recs = random.sample(recs, MAX_SP_NSEQS)\n",
    "    cytb_recs.extend(recs)\n",
    "\n",
    "cytb_recs_filtered = filter_seqs(cytb_recs, 0.1)\n",
    "\n",
    "SeqIO.write(cytb_recs_filtered, \"../data/MUS/genes/COX1.fna\", \"fasta-2line\")"
   ]
  },
  {
   "cell_type": "code",
   "execution_count": 10,
   "metadata": {},
   "outputs": [
    {
     "data": {
      "image/png": "[encoded data removed]",
      "text/plain": [
       "<Figure size 400x200 with 1 Axes>"
      ]
     },
     "metadata": {},
     "output_type": "display_data"
    }
   ],
   "source": [
    "plt.figure(figsize=(4, 2))\n",
    "plt.hist([len(x) for x in cytb_recs], bins=50);"
   ]
  },
  {
   "cell_type": "code",
   "execution_count": null,
   "metadata": {},
   "outputs": [],
   "source": []
  },
  {
   "attachments": {},
   "cell_type": "markdown",
   "metadata": {},
   "source": [
    "## *Mus musculus* & *Mus spretus*"
   ]
  },
  {
   "cell_type": "code",
   "execution_count": 44,
   "metadata": {},
   "outputs": [
    {
     "name": "stderr",
     "output_type": "stream",
     "text": [
      "100%|██████████| 2/2 [00:05<00:00,  2.53s/it]\n",
      "100%|██████████| 2/2 [00:05<00:00,  2.53s/it]\n"
     ]
    }
   ],
   "source": [
    "genes = ['Cytb', 'ND1']\n",
    "pattern1 = \"Mus_musculus\"\n",
    "seqs1 = collect_seqs(pattern1, \"UNIQ\", genes)\n",
    "seqs1_filtered = filter_seqs(seqs1, 1)\n",
    "\n",
    "pattern2 = \"Mus_spretus\"\n",
    "seqs2 = collect_seqs(pattern2, \"UNIQ\", genes)\n",
    "seqs2_filtered = filter_seqs(seqs2, 1)"
   ]
  },
  {
   "cell_type": "code",
   "execution_count": 55,
   "metadata": {},
   "outputs": [
    {
     "data": {
      "text/plain": [
       "[SeqRecord(seq=Seq('GTGTTCTTTATCAACATTTTAACACTCCTCCTACCTATCCTAATCGCTATGGCT...TAT'), id='MW209725.1', name='MW209725.1.2746.3700###root_1;Eukaryota_2759;Chordata_7711;Mammalia_40674;Rodentia_9989;Muridae_10066;Mus_10088;Mus_spretus_10096', description='Mus spretus 2746.3700 ###Chordata_7711;Mammalia_40674;Rodentia_9989;Muridae_10066;Mus_10088;Mus_spretus_10096', dbxrefs=[]),\n",
       " SeqRecord(seq=Seq('GTGTTCTTTATCAACATTTTAACACTCCTCCTACCTATCCTAATCGCTATGGCT...TAT'), id='KY018921.1', name='KY018921.1.2749.3703###root_1;Eukaryota_2759;Chordata_7711;Mammalia_40674;Rodentia_9989;Muridae_10066;Mus_10088;Mus_spretus_10096', description='Mus spretus 2749.3703 ###Chordata_7711;Mammalia_40674;Rodentia_9989;Muridae_10066;Mus_10088;Mus_spretus_10096', dbxrefs=[])]"
      ]
     },
     "execution_count": 55,
     "metadata": {},
     "output_type": "execute_result"
    }
   ],
   "source": [
    "seqs2_filtered[\"ND1__Mus_spretus\"]"
   ]
  },
  {
   "cell_type": "code",
   "execution_count": 53,
   "metadata": {},
   "outputs": [
    {
     "data": {
      "text/plain": [
       "dict_keys(['Cytb__Mus_spretus', 'ND1__Mus_spretus'])"
      ]
     },
     "execution_count": 53,
     "metadata": {},
     "output_type": "execute_result"
    }
   ],
   "source": [
    "seqs2_filtered.keys()"
   ]
  },
  {
   "cell_type": "code",
   "execution_count": 56,
   "metadata": {},
   "outputs": [],
   "source": [
    "nd1 = []\n",
    "g = \"ND1\"\n",
    "for p, s in zip([pattern1, pattern2], [seqs1_filtered, seqs2_filtered]):\n",
    "    for r in s[g+ \"__\" + p]:\n",
    "        nd1.append(r)\n",
    "\n",
    "cytb = []\n",
    "g = \"Cytb\"\n",
    "for p, s in zip([pattern1, pattern2], [seqs1_filtered, seqs2_filtered]):\n",
    "    for r in s[g+ \"__\" + p]:\n",
    "        cytb.append(r)"
   ]
  },
  {
   "cell_type": "code",
   "execution_count": 60,
   "metadata": {},
   "outputs": [
    {
     "name": "stdout",
     "output_type": "stream",
     "text": [
      "nseqs = 769\n",
      "nseqs = 93\n"
     ]
    }
   ],
   "source": [
    "print(f\"nseqs = {len(cytb)}\")\n",
    "print(f\"nseqs = {len(nd1)}\")"
   ]
  },
  {
   "cell_type": "code",
   "execution_count": 61,
   "metadata": {},
   "outputs": [
    {
     "data": {
      "text/plain": [
       "769"
      ]
     },
     "execution_count": 61,
     "metadata": {},
     "output_type": "execute_result"
    }
   ],
   "source": [
    "SeqIO.write(nd1, \"../data/exposure/mus_nd1/seqs.fasta\", \"fasta-2line\")\n",
    "SeqIO.write(cytb, \"../data/exposure/mus_cytb/seqs.fasta\", \"fasta-2line\")"
   ]
  },
  {
   "attachments": {},
   "cell_type": "markdown",
   "metadata": {},
   "source": [
    "## *Arthropoda*"
   ]
  },
  {
   "cell_type": "code",
   "execution_count": null,
   "metadata": {},
   "outputs": [],
   "source": [
    "genes = ['A6', 'A8', 'CO1', 'CO2', 'CO3', 'Cytb', 'ND1', 'ND2', 'ND3', 'ND4', 'ND4L', 'ND5', 'ND6']\n",
    "phylum = \"Arthropoda\"\n",
    "seqs_arth = collect_seqs(phylum, \"UNIQ\", genes)\n",
    "len(seqs_arth)"
   ]
  },
  {
   "cell_type": "code",
   "execution_count": 26,
   "metadata": {},
   "outputs": [
    {
     "name": "stdout",
     "output_type": "stream",
     "text": [
      "nseqs = 19172, nspecies: 17676\n",
      "\n",
      "A6         65\n",
      "A8         24\n",
      "CO1     17116\n",
      "CO2       723\n",
      "CO3        73\n",
      "Cytb      549\n",
      "ND1       151\n",
      "ND2        83\n",
      "ND3        28\n",
      "ND4        82\n",
      "ND4L       22\n",
      "ND5       211\n",
      "ND6        45\n",
      "dtype: int64\n"
     ]
    }
   ],
   "source": [
    "seqs_arth_filtered = filter_seqs(seqs_arth)\n",
    "print(f\"nseqs = {len(seqs_arth_filtered)}, nspecies: {len(set([x.split('__')[1] for x in seqs_arth_filtered.keys()]))}\", end=\"\\n\\n\")\n",
    "print(pd.Series(Counter([x.split(\"__\")[0] for x in seqs_arth_filtered.keys()])))"
   ]
  },
  {
   "cell_type": "code",
   "execution_count": 29,
   "metadata": {},
   "outputs": [
    {
     "data": {
      "image/png": "[encoded data removed]",
      "text/plain": [
       "<Figure size 1200x400 with 2 Axes>"
      ]
     },
     "metadata": {},
     "output_type": "display_data"
    }
   ],
   "source": [
    "plt.figure(figsize=(12, 4))\n",
    "plt.subplot(121)\n",
    "plt.hist([len(v) for v in seqs_arth.values()], bins=100, alpha=0.7, label=\"all\", color=\"blue\")\n",
    "plt.hist([len(v) for v in seqs_arth_filtered.values()], bins=70, alpha=0.7, label=\"filtered\", color=\"orange\")\n",
    "plt.yscale(\"log\")\n",
    "plt.xlabel(\"species nseqs\")\n",
    "plt.legend()\n",
    "\n",
    "plt.subplot(122)\n",
    "plt.hist([len(v) for v in seqs_arth.values() if len(v) < 500], bins=100, alpha=0.7, label=\"all\", color=\"blue\")\n",
    "plt.hist([len(v) for v in seqs_arth_filtered.values() if len(v) < 500], bins=70, alpha=0.7, label=\"filtered\", color=\"orange\")\n",
    "plt.yscale(\"log\")\n",
    "plt.xlabel(\"species nseqs\")\n",
    "plt.legend()\n",
    "\n",
    "plt.show()"
   ]
  },
  {
   "attachments": {},
   "cell_type": "markdown",
   "metadata": {},
   "source": [
    "### Prepare dataset for CO1 alignment (outgrp selection)"
   ]
  },
  {
   "cell_type": "code",
   "execution_count": 20,
   "metadata": {},
   "outputs": [
    {
     "name": "stderr",
     "output_type": "stream",
     "text": [
      "100%|██████████| 1/1 [00:03<00:00,  3.12s/it]\n"
     ]
    }
   ],
   "source": [
    "arth_aln = collect_seqs(phylum, \"LONGEST\", [\"CO1\"])"
   ]
  },
  {
   "cell_type": "code",
   "execution_count": 32,
   "metadata": {},
   "outputs": [
    {
     "name": "stdout",
     "output_type": "stream",
     "text": [
      "136 species without CO1 seq\n"
     ]
    }
   ],
   "source": [
    "print(len(set([x.split(\"__\")[1] for x in seqs_arth_filtered.keys()]).difference([x.split(\"__\")[1] for x in arth_aln.keys()])), \"species without CO1 seq\")"
   ]
  },
  {
   "cell_type": "code",
   "execution_count": null,
   "metadata": {},
   "outputs": [],
   "source": []
  },
  {
   "attachments": {},
   "cell_type": "markdown",
   "metadata": {},
   "source": [
    "## Chordata"
   ]
  },
  {
   "cell_type": "code",
   "execution_count": 3,
   "metadata": {},
   "outputs": [
    {
     "name": "stderr",
     "output_type": "stream",
     "text": [
      "100%|██████████| 13/13 [00:38<00:00,  2.97s/it]\n"
     ]
    },
    {
     "data": {
      "text/plain": [
       "192350"
      ]
     },
     "execution_count": 3,
     "metadata": {},
     "output_type": "execute_result"
    }
   ],
   "source": [
    "genes = ['A6', 'A8', 'CO1', 'CO2', 'CO3', 'Cytb', 'ND1', 'ND2', 'ND3', 'ND4', 'ND4L', 'ND5', 'ND6']\n",
    "phylum = \"Chordata\"\n",
    "seqs_uniq = collect_seqs(phylum, \"UNIQ\", genes)\n",
    "len(seqs_uniq)"
   ]
  },
  {
   "cell_type": "code",
   "execution_count": 4,
   "metadata": {},
   "outputs": [
    {
     "name": "stdout",
     "output_type": "stream",
     "text": [
      "ngenes = 15496, nspecies: 10163\n",
      "\n",
      "A6       501\n",
      "A8       185\n",
      "CO1     5447\n",
      "CO2      200\n",
      "CO3      207\n",
      "Cytb    4963\n",
      "ND1      389\n",
      "ND2     1902\n",
      "ND3      250\n",
      "ND4      831\n",
      "ND4L     119\n",
      "ND5      306\n",
      "ND6      196\n",
      "dtype: int64\n"
     ]
    }
   ],
   "source": [
    "seqs_uniq_filtered = filter_seqs_dict(seqs_uniq)\n",
    "print(f\"ngenes = {len(seqs_uniq_filtered)}, nspecies: {len(set([x.split('__')[1] for x in seqs_uniq_filtered.keys()]))}\", end=\"\\n\\n\")\n",
    "print(pd.Series(Counter([x.split(\"__\")[0] for x in seqs_uniq_filtered.keys()])))"
   ]
  },
  {
   "cell_type": "code",
   "execution_count": 5,
   "metadata": {},
   "outputs": [
    {
     "data": {
      "text/plain": [
       "1750"
      ]
     },
     "execution_count": 5,
     "metadata": {},
     "output_type": "execute_result"
    }
   ],
   "source": [
    "co1_sp = [x.split(\"__\")[1] for x in seqs_uniq_filtered.keys() if x.startswith(\"CO1\")]\n",
    "cytb_sp = [x.split(\"__\")[1] for x in seqs_uniq_filtered.keys() if x.startswith(\"Cytb\")]\n",
    "len(set(co1_sp).intersection(cytb_sp))"
   ]
  },
  {
   "cell_type": "code",
   "execution_count": 6,
   "metadata": {},
   "outputs": [
    {
     "data": {
      "image/png": "[encoded data removed]",
      "text/plain": [
       "<Figure size 1200x400 with 2 Axes>"
      ]
     },
     "metadata": {},
     "output_type": "display_data"
    }
   ],
   "source": [
    "plt.figure(figsize=(12, 4))\n",
    "plt.subplot(121)\n",
    "plt.hist([len(v) for v in seqs_uniq.values()], bins=100, alpha=0.7, label=\"all\", color=\"blue\")\n",
    "plt.hist([len(v) for v in seqs_uniq_filtered.values()], bins=70, alpha=0.7, label=\"filtered\", color=\"orange\")\n",
    "plt.yscale(\"log\")\n",
    "plt.xlabel(\"species nseqs\")\n",
    "plt.legend()\n",
    "\n",
    "plt.subplot(122)\n",
    "plt.hist([len(v) for v in seqs_uniq.values() if len(v) < 500], bins=100, alpha=0.7, label=\"all\", color=\"blue\")\n",
    "plt.hist([len(v) for v in seqs_uniq_filtered.values() if len(v) < 500], bins=70, alpha=0.7, label=\"filtered\", color=\"orange\")\n",
    "plt.yscale(\"log\")\n",
    "plt.xlabel(\"species nseqs\")\n",
    "plt.legend()\n",
    "\n",
    "plt.show()"
   ]
  },
  {
   "attachments": {},
   "cell_type": "markdown",
   "metadata": {},
   "source": [
    "### Check genus-wise species distribution"
   ]
  },
  {
   "cell_type": "code",
   "execution_count": 7,
   "metadata": {},
   "outputs": [
    {
     "name": "stderr",
     "output_type": "stream",
     "text": [
      "100%|██████████| 13/13 [00:15<00:00,  1.19s/it]\n"
     ]
    }
   ],
   "source": [
    "genes = ['A6', 'A8', 'CO1', 'CO2', 'CO3', 'Cytb', 'ND1', 'ND2', 'ND3', 'ND4', 'ND4L', 'ND5', 'ND6']\n",
    "phylum = \"Chordata\"\n",
    "seqs_longest = collect_seqs(phylum, \"LONGEST\", genes, sp=True)"
   ]
  },
  {
   "cell_type": "code",
   "execution_count": 8,
   "metadata": {},
   "outputs": [
    {
     "data": {
      "text/plain": [
       "'Branchiostoma belcheri 8821.9504 ###Chordata_7711;Leptocardii_2682552;Amphioxiformes_2682553;Branchiostomatidae_7736;Branchiostoma_7737;Branchiostoma_belcheri_7741'"
      ]
     },
     "execution_count": 8,
     "metadata": {},
     "output_type": "execute_result"
    }
   ],
   "source": [
    "seqs_longest[\"A6__Branchiostoma_belcheri\"][0].description"
   ]
  },
  {
   "cell_type": "code",
   "execution_count": 9,
   "metadata": {},
   "outputs": [],
   "source": [
    "data_taxa = []\n",
    "for gene_sp, seqs in seqs_uniq_filtered.items():\n",
    "    raw_taxonomy = seqs[0].description.split(\"###\")[1]\n",
    "    phyl, clss, order, fam, genus, sp = [\"_\".join(x.split(\"_\")[:-1]) for x in raw_taxonomy.split(\";\")]\n",
    "    data_taxa.append(dict(gene=gene_sp.split('__')[0], clss=clss, order=order, fam=fam, genus=genus, species=sp, nseqs=len(seqs)))\n",
    "genes_taxa_uniq = pd.DataFrame(data_taxa)\n",
    "\n",
    "data_taxa = []\n",
    "for gene_sp, seqs in seqs_longest.items():\n",
    "    raw_taxonomy = seqs[0].description.split(\"###\")[1]\n",
    "    phyl, clss, order, fam, genus, sp = [\"_\".join(x.split(\"_\")[:-1]) for x in raw_taxonomy.split(\";\")]\n",
    "    data_taxa.append(dict(gene=gene_sp.split('__')[0], clss=clss, order=order, fam=fam, genus=genus, species=sp))\n",
    "genes_taxa_longest = pd.DataFrame(data_taxa)\n",
    "del data_taxa"
   ]
  },
  {
   "cell_type": "code",
   "execution_count": 10,
   "metadata": {},
   "outputs": [
    {
     "data": {
      "text/html": [
       "<div>\n",
       "<style scoped>\n",
       "    .dataframe tbody tr th:only-of-type {\n",
       "        vertical-align: middle;\n",
       "    }\n",
       "\n",
       "    .dataframe tbody tr th {\n",
       "        vertical-align: top;\n",
       "    }\n",
       "\n",
       "    .dataframe thead th {\n",
       "        text-align: right;\n",
       "    }\n",
       "</style>\n",
       "<table border=\"1\" class=\"dataframe\">\n",
       "  <thead>\n",
       "    <tr style=\"text-align: right;\">\n",
       "      <th></th>\n",
       "      <th>gene</th>\n",
       "      <th>clss</th>\n",
       "      <th>order</th>\n",
       "      <th>fam</th>\n",
       "      <th>genus</th>\n",
       "      <th>species</th>\n",
       "      <th>nseqs</th>\n",
       "    </tr>\n",
       "  </thead>\n",
       "  <tbody>\n",
       "    <tr>\n",
       "      <th>0</th>\n",
       "      <td>A6</td>\n",
       "      <td>Leptocardii</td>\n",
       "      <td>Amphioxiformes</td>\n",
       "      <td>Branchiostomatidae</td>\n",
       "      <td>Branchiostoma</td>\n",
       "      <td>Branchiostoma_belcheri</td>\n",
       "      <td>15</td>\n",
       "    </tr>\n",
       "    <tr>\n",
       "      <th>1</th>\n",
       "      <td>A6</td>\n",
       "      <td>Leptocardii</td>\n",
       "      <td>Amphioxiformes</td>\n",
       "      <td>Branchiostomatidae</td>\n",
       "      <td>Branchiostoma</td>\n",
       "      <td>Branchiostoma_floridae</td>\n",
       "      <td>20</td>\n",
       "    </tr>\n",
       "    <tr>\n",
       "      <th>2</th>\n",
       "      <td>A6</td>\n",
       "      <td>Leptocardii</td>\n",
       "      <td>Amphioxiformes</td>\n",
       "      <td>Branchiostomatidae</td>\n",
       "      <td>Branchiostoma</td>\n",
       "      <td>Branchiostoma_lanceolatum</td>\n",
       "      <td>10</td>\n",
       "    </tr>\n",
       "    <tr>\n",
       "      <th>3</th>\n",
       "      <td>A6</td>\n",
       "      <td>Hyperoartia</td>\n",
       "      <td>Petromyzontiformes</td>\n",
       "      <td>Petromyzontidae</td>\n",
       "      <td>Lampetra</td>\n",
       "      <td>Lampetra_fluviatilis</td>\n",
       "      <td>37</td>\n",
       "    </tr>\n",
       "    <tr>\n",
       "      <th>4</th>\n",
       "      <td>A6</td>\n",
       "      <td>Hyperoartia</td>\n",
       "      <td>Petromyzontiformes</td>\n",
       "      <td>Petromyzontidae</td>\n",
       "      <td>Lampetra</td>\n",
       "      <td>Lampetra_planeri</td>\n",
       "      <td>28</td>\n",
       "    </tr>\n",
       "    <tr>\n",
       "      <th>...</th>\n",
       "      <td>...</td>\n",
       "      <td>...</td>\n",
       "      <td>...</td>\n",
       "      <td>...</td>\n",
       "      <td>...</td>\n",
       "      <td>...</td>\n",
       "      <td>...</td>\n",
       "    </tr>\n",
       "    <tr>\n",
       "      <th>15491</th>\n",
       "      <td>ND6</td>\n",
       "      <td>Amphibia</td>\n",
       "      <td>Caudata</td>\n",
       "      <td>Cryptobranchidae</td>\n",
       "      <td>Andrias</td>\n",
       "      <td>Andrias_davidianus</td>\n",
       "      <td>25</td>\n",
       "    </tr>\n",
       "    <tr>\n",
       "      <th>15492</th>\n",
       "      <td>ND6</td>\n",
       "      <td>Amphibia</td>\n",
       "      <td>Caudata</td>\n",
       "      <td>Hynobiidae</td>\n",
       "      <td>Pachyhynobius</td>\n",
       "      <td>Pachyhynobius_shangchengensis</td>\n",
       "      <td>22</td>\n",
       "    </tr>\n",
       "    <tr>\n",
       "      <th>15493</th>\n",
       "      <td>ND6</td>\n",
       "      <td>Amphibia</td>\n",
       "      <td>Caudata</td>\n",
       "      <td>Hynobiidae</td>\n",
       "      <td>Salamandrella</td>\n",
       "      <td>Salamandrella_keyserlingii</td>\n",
       "      <td>15</td>\n",
       "    </tr>\n",
       "    <tr>\n",
       "      <th>15494</th>\n",
       "      <td>ND6</td>\n",
       "      <td>Amphibia</td>\n",
       "      <td>Caudata</td>\n",
       "      <td>Plethodontidae</td>\n",
       "      <td>Eurycea</td>\n",
       "      <td>Eurycea_spelaea</td>\n",
       "      <td>10</td>\n",
       "    </tr>\n",
       "    <tr>\n",
       "      <th>15495</th>\n",
       "      <td>ND6</td>\n",
       "      <td>Amphibia</td>\n",
       "      <td>Caudata</td>\n",
       "      <td>Salamandridae</td>\n",
       "      <td>Cynops</td>\n",
       "      <td>Cynops_pyrrhogaster</td>\n",
       "      <td>88</td>\n",
       "    </tr>\n",
       "  </tbody>\n",
       "</table>\n",
       "<p>15496 rows × 7 columns</p>\n",
       "</div>"
      ],
      "text/plain": [
       "      gene         clss               order                 fam  \\\n",
       "0       A6  Leptocardii      Amphioxiformes  Branchiostomatidae   \n",
       "1       A6  Leptocardii      Amphioxiformes  Branchiostomatidae   \n",
       "2       A6  Leptocardii      Amphioxiformes  Branchiostomatidae   \n",
       "3       A6  Hyperoartia  Petromyzontiformes     Petromyzontidae   \n",
       "4       A6  Hyperoartia  Petromyzontiformes     Petromyzontidae   \n",
       "...    ...          ...                 ...                 ...   \n",
       "15491  ND6     Amphibia             Caudata    Cryptobranchidae   \n",
       "15492  ND6     Amphibia             Caudata          Hynobiidae   \n",
       "15493  ND6     Amphibia             Caudata          Hynobiidae   \n",
       "15494  ND6     Amphibia             Caudata      Plethodontidae   \n",
       "15495  ND6     Amphibia             Caudata       Salamandridae   \n",
       "\n",
       "               genus                        species  nseqs  \n",
       "0      Branchiostoma         Branchiostoma_belcheri     15  \n",
       "1      Branchiostoma         Branchiostoma_floridae     20  \n",
       "2      Branchiostoma      Branchiostoma_lanceolatum     10  \n",
       "3           Lampetra           Lampetra_fluviatilis     37  \n",
       "4           Lampetra               Lampetra_planeri     28  \n",
       "...              ...                            ...    ...  \n",
       "15491        Andrias             Andrias_davidianus     25  \n",
       "15492  Pachyhynobius  Pachyhynobius_shangchengensis     22  \n",
       "15493  Salamandrella     Salamandrella_keyserlingii     15  \n",
       "15494        Eurycea                Eurycea_spelaea     10  \n",
       "15495         Cynops            Cynops_pyrrhogaster     88  \n",
       "\n",
       "[15496 rows x 7 columns]"
      ]
     },
     "execution_count": 10,
     "metadata": {},
     "output_type": "execute_result"
    }
   ],
   "source": [
    "genes_taxa_uniq"
   ]
  },
  {
   "cell_type": "code",
   "execution_count": 11,
   "metadata": {},
   "outputs": [
    {
     "data": {
      "text/plain": [
       "(54, 7)"
      ]
     },
     "execution_count": 11,
     "metadata": {},
     "output_type": "execute_result"
    }
   ],
   "source": [
    "nonstandart_names = genes_taxa_uniq[genes_taxa_uniq.species.str.count(\"_\") > 1].species.str.split(\"_\")\\\n",
    "    .apply(lambda x: x[:2]).str.join(\"_\").unique()\n",
    "\n",
    "genes_taxa_uniq[genes_taxa_uniq.species.isin(nonstandart_names)].shape\n",
    "# So, drop these broken species names"
   ]
  },
  {
   "cell_type": "code",
   "execution_count": 12,
   "metadata": {},
   "outputs": [
    {
     "data": {
      "text/plain": [
       "(15463, 7)"
      ]
     },
     "execution_count": 12,
     "metadata": {},
     "output_type": "execute_result"
    }
   ],
   "source": [
    "genes_taxa_uniq = genes_taxa_uniq[genes_taxa_uniq.species.str.count(\"_\") == 1]\n",
    "genes_taxa_uniq.shape"
   ]
  },
  {
   "cell_type": "code",
   "execution_count": 13,
   "metadata": {},
   "outputs": [
    {
     "data": {
      "text/plain": [
       "590"
      ]
     },
     "execution_count": 13,
     "metadata": {},
     "output_type": "execute_result"
    }
   ],
   "source": [
    "(genes_taxa_longest[genes_taxa_longest.genus.isin(genes_taxa_uniq.genus)].groupby(\"genus\").species.unique().apply(len) == 1).sum()"
   ]
  },
  {
   "attachments": {},
   "cell_type": "markdown",
   "metadata": {},
   "source": [
    "### Derive TimeTree"
   ]
  },
  {
   "attachments": {},
   "cell_type": "markdown",
   "metadata": {},
   "source": [
    "#### Rename broken leaf names"
   ]
  },
  {
   "cell_type": "code",
   "execution_count": 15,
   "metadata": {},
   "outputs": [],
   "source": [
    "tt_species = pd.read_csv(\"../data/chordata/timetree_species.txt\", header=None, sep=\"\\t\", names=[\"species\"])\n",
    "tt_species[\"new\"] = tt_species.species\n",
    "tt_species.loc[tt_species.new.str.contains(\"[^a-zA-Z_]\"), \"new\"] = \"None\"\n",
    "tt_species.to_csv(\"../data/chordata/species_mapper.txt\", header=None, index=None, sep=\"\\t\")"
   ]
  },
  {
   "cell_type": "code",
   "execution_count": 16,
   "metadata": {},
   "outputs": [],
   "source": [
    "!nw_rename ../data/chordata/chordates_species_total.txt ../data/chordata/species_mapper.txt > ../data/chordata/chordates_species_total_filtered.nwk"
   ]
  },
  {
   "attachments": {},
   "cell_type": "markdown",
   "metadata": {},
   "source": [
    "#### Read trees"
   ]
  },
  {
   "cell_type": "code",
   "execution_count": 14,
   "metadata": {},
   "outputs": [
    {
     "name": "stdout",
     "output_type": "stream",
     "text": [
      "Number of leaf nodes:\t38620\n",
      "Total number of nodes:\t77234\n",
      "Rooted:\tYes\n",
      "Most distant node:\tSitta_whiteheadi\n",
      "Max. distance:\t588.455150\n"
     ]
    }
   ],
   "source": [
    "timetree_genus = PhyloTree(\"../data/chordata/chordates_genus.nwk\", format=1)\n",
    "timetree_species = PhyloTree(\"../data/chordata/chordates_species_total_filtered.nwk\", format=1)\n",
    "\n",
    "timetree_species.search_nodes(name=\"Tenebrosternarchus_preto\")[0].delete() # have dublicat\n",
    "timetree_species.describe()"
   ]
  },
  {
   "cell_type": "code",
   "execution_count": 15,
   "metadata": {},
   "outputs": [
    {
     "name": "stdout",
     "output_type": "stream",
     "text": [
      "Number of leaf nodes:\t32481\n",
      "Total number of nodes:\t64961\n",
      "Rooted:\tYes\n",
      "Most distant node:\tMyioborus_cardonai\n",
      "Max. distance:\t588.455150\n"
     ]
    }
   ],
   "source": [
    "timetree_species.prune(set(genes_taxa_longest.species.unique()).intersection(timetree_species.get_leaf_names()), True)\n",
    "timetree_species.describe()"
   ]
  },
  {
   "cell_type": "code",
   "execution_count": 48,
   "metadata": {},
   "outputs": [],
   "source": [
    "timetree_species.write(outfile=\"../data/chordata/chordates_species_total_filtered_twice.nwk\", format=1)"
   ]
  },
  {
   "cell_type": "code",
   "execution_count": 99,
   "metadata": {},
   "outputs": [
    {
     "name": "stdout",
     "output_type": "stream",
     "text": [
      "\n",
      "                            /-Gorilla, 8.6\n",
      "                /'17045', 6.6\n",
      "               |           |            /-Homo, 6.4\n",
      "-'17044', 4.25714           \\'17047', 2.2\n",
      "               |                        \\-Pan, 6.4\n",
      "               |\n",
      "                \\-Pongo, 15.2\n"
     ]
    }
   ],
   "source": [
    "hs = timetree_genus.search_nodes(name=\"Homo\")[0]\n",
    "print(hs.up.up.up.get_ascii(attributes=[\"name\", \"dist\"]))"
   ]
  },
  {
   "cell_type": "code",
   "execution_count": 70,
   "metadata": {},
   "outputs": [],
   "source": [
    "def get_closest_leaf(leaf):\n",
    "    d = 0\n",
    "    for x in leaf.up.children:\n",
    "        if x.name != leaf.name:\n",
    "            d += x.dist\n",
    "            leaf_closest, d2 = x.get_closest_leaf()\n",
    "            d += d2\n",
    "            break\n",
    "    return leaf_closest, d\n",
    "\n",
    "\n",
    "def get_closest_leaves(leaf):\n",
    "    colsest = []\n",
    "    i = 0\n",
    "    for x in leaf.up.get_leaves():\n",
    "        if i == 100:\n",
    "            break\n",
    "        if x.name != leaf.name:\n",
    "            d = leaf.get_distance(x)\n",
    "            colsest.append({\"leaf1\":leaf.name, \"leaf2\":x.name, \"d\": d})\n",
    "        i += 1\n",
    "    return colsest"
   ]
  },
  {
   "cell_type": "code",
   "execution_count": 71,
   "metadata": {},
   "outputs": [
    {
     "name": "stderr",
     "output_type": "stream",
     "text": [
      "32481it [00:08, 3658.74it/s]\n"
     ]
    }
   ],
   "source": [
    "data=[]\n",
    "for leaf in tqdm.tqdm(timetree_species.iter_leaves()):\n",
    "    a = get_closest_leaves(leaf)\n",
    "    data.extend(a)\n",
    "    \n",
    "df_closest = pd.DataFrame(data)\n",
    "del data"
   ]
  },
  {
   "cell_type": "code",
   "execution_count": 90,
   "metadata": {},
   "outputs": [
    {
     "data": {
      "text/plain": [
       "(126531, 11)"
      ]
     },
     "execution_count": 90,
     "metadata": {},
     "output_type": "execute_result"
    }
   ],
   "source": [
    "df_closest.shape"
   ]
  },
  {
   "cell_type": "code",
   "execution_count": 73,
   "metadata": {},
   "outputs": [],
   "source": [
    "df_closest[\"common_genus\"] = df_closest.leaf1.apply(lambda x: x.split(\"_\")[0]) == df_closest.leaf2.apply(lambda x: x.split(\"_\")[0])"
   ]
  },
  {
   "cell_type": "code",
   "execution_count": 75,
   "metadata": {},
   "outputs": [
    {
     "data": {
      "text/html": [
       "<div>\n",
       "<style scoped>\n",
       "    .dataframe tbody tr th:only-of-type {\n",
       "        vertical-align: middle;\n",
       "    }\n",
       "\n",
       "    .dataframe tbody tr th {\n",
       "        vertical-align: top;\n",
       "    }\n",
       "\n",
       "    .dataframe thead th {\n",
       "        text-align: right;\n",
       "    }\n",
       "</style>\n",
       "<table border=\"1\" class=\"dataframe\">\n",
       "  <thead>\n",
       "    <tr style=\"text-align: right;\">\n",
       "      <th></th>\n",
       "      <th>leaf1</th>\n",
       "      <th>leaf2</th>\n",
       "      <th>d</th>\n",
       "      <th>common_genus</th>\n",
       "      <th>leaf1_order</th>\n",
       "      <th>leaf1_fammily</th>\n",
       "      <th>leaf2_order</th>\n",
       "      <th>leaf2_fammily</th>\n",
       "    </tr>\n",
       "  </thead>\n",
       "  <tbody>\n",
       "    <tr>\n",
       "      <th>0</th>\n",
       "      <td>Asymmetron_lucayanum</td>\n",
       "      <td>Asymmetron_inferum</td>\n",
       "      <td>133.71624</td>\n",
       "      <td>True</td>\n",
       "      <td>Amphioxiformes</td>\n",
       "      <td>Branchiostomatidae</td>\n",
       "      <td>Amphioxiformes</td>\n",
       "      <td>Branchiostomatidae</td>\n",
       "    </tr>\n",
       "    <tr>\n",
       "      <th>1</th>\n",
       "      <td>Asymmetron_inferum</td>\n",
       "      <td>Asymmetron_lucayanum</td>\n",
       "      <td>133.71624</td>\n",
       "      <td>True</td>\n",
       "      <td>Amphioxiformes</td>\n",
       "      <td>Branchiostomatidae</td>\n",
       "      <td>Amphioxiformes</td>\n",
       "      <td>Branchiostomatidae</td>\n",
       "    </tr>\n",
       "  </tbody>\n",
       "</table>\n",
       "</div>"
      ],
      "text/plain": [
       "                  leaf1                 leaf2          d  common_genus  \\\n",
       "0  Asymmetron_lucayanum    Asymmetron_inferum  133.71624          True   \n",
       "1    Asymmetron_inferum  Asymmetron_lucayanum  133.71624          True   \n",
       "\n",
       "      leaf1_order       leaf1_fammily     leaf2_order       leaf2_fammily  \n",
       "0  Amphioxiformes  Branchiostomatidae  Amphioxiformes  Branchiostomatidae  \n",
       "1  Amphioxiformes  Branchiostomatidae  Amphioxiformes  Branchiostomatidae  "
      ]
     },
     "execution_count": 75,
     "metadata": {},
     "output_type": "execute_result"
    }
   ],
   "source": [
    "df_closest = df_closest.merge(genes_taxa_longest[[\"order\", \"fam\", \"species\"]].drop_duplicates(), right_on=\"species\", left_on=\"leaf1\")\\\n",
    "    .drop(\"species\", axis=1).rename(columns={\"order\":\"leaf1_order\", \"fam\":\"leaf1_fammily\"})\\\n",
    "        .merge(genes_taxa_longest[[\"order\", \"fam\", \"species\"]].drop_duplicates(), right_on=\"species\", left_on=\"leaf2\")\\\n",
    "            .drop(\"species\", axis=1).rename(columns={\"order\":\"leaf2_order\", \"fam\":\"leaf2_fammily\"})\n",
    "df_closest.head(2)"
   ]
  },
  {
   "cell_type": "code",
   "execution_count": 76,
   "metadata": {},
   "outputs": [],
   "source": [
    "df_closest[\"common_family\"] = df_closest.leaf1_fammily == df_closest.leaf2_fammily\n",
    "df_closest[\"common_order\"] = df_closest.leaf1_order == df_closest.leaf2_order"
   ]
  },
  {
   "cell_type": "code",
   "execution_count": 80,
   "metadata": {},
   "outputs": [],
   "source": [
    "df_closest[\"commonnes\"] = df_closest.common_genus.astype(np.int8) + df_closest.common_family + df_closest.common_order"
   ]
  },
  {
   "cell_type": "code",
   "execution_count": 82,
   "metadata": {},
   "outputs": [
    {
     "data": {
      "text/plain": [
       "commonnes\n",
       "0    233.853977\n",
       "1    101.037337\n",
       "2     58.984499\n",
       "3     28.794149\n",
       "Name: d, dtype: float64"
      ]
     },
     "execution_count": 82,
     "metadata": {},
     "output_type": "execute_result"
    }
   ],
   "source": [
    "df_closest.groupby(\"commonnes\").d.mean()"
   ]
  },
  {
   "cell_type": "code",
   "execution_count": 87,
   "metadata": {},
   "outputs": [
    {
     "data": {
      "text/plain": [
       "<AxesSubplot:xlabel='d', ylabel='Density'>"
      ]
     },
     "execution_count": 87,
     "metadata": {},
     "output_type": "execute_result"
    },
    {
     "data": {
      "image/png": "[encoded data removed]",
      "text/plain": [
       "<Figure size 640x480 with 1 Axes>"
      ]
     },
     "metadata": {},
     "output_type": "display_data"
    }
   ],
   "source": [
    "sns.kdeplot(data=df_closest[df_closest.d < 500], x='d', hue=\"commonnes\")"
   ]
  },
  {
   "cell_type": "code",
   "execution_count": 192,
   "metadata": {},
   "outputs": [
    {
     "data": {
      "text/plain": [
       "(111086, 5)"
      ]
     },
     "execution_count": 192,
     "metadata": {},
     "output_type": "execute_result"
    }
   ],
   "source": [
    "# all paird in the table will be from single family\n",
    "# leaf1 in uniq, leaf2 in longest\n",
    "df_closest_filtered = df_closest[df_closest.common_family].iloc[:, [0,1,2,3, 8]]\n",
    "# df_closest_filtered = df_closest_filtered[(df_closest_filtered.leaf1.isin(genes_taxa_uniq.species)) & (df_closest_filtered.leaf2.isin(genes_taxa_longest.species))]\n",
    "df_closest_filtered.shape"
   ]
  },
  {
   "cell_type": "code",
   "execution_count": 193,
   "metadata": {},
   "outputs": [
    {
     "data": {
      "text/html": [
       "<div>\n",
       "<style scoped>\n",
       "    .dataframe tbody tr th:only-of-type {\n",
       "        vertical-align: middle;\n",
       "    }\n",
       "\n",
       "    .dataframe tbody tr th {\n",
       "        vertical-align: top;\n",
       "    }\n",
       "\n",
       "    .dataframe thead th {\n",
       "        text-align: right;\n",
       "    }\n",
       "</style>\n",
       "<table border=\"1\" class=\"dataframe\">\n",
       "  <thead>\n",
       "    <tr style=\"text-align: right;\">\n",
       "      <th></th>\n",
       "      <th>leaf1</th>\n",
       "      <th>leaf2</th>\n",
       "      <th>d</th>\n",
       "      <th>common_genus</th>\n",
       "      <th>common_family</th>\n",
       "    </tr>\n",
       "  </thead>\n",
       "  <tbody>\n",
       "    <tr>\n",
       "      <th>0</th>\n",
       "      <td>Asymmetron_lucayanum</td>\n",
       "      <td>Asymmetron_inferum</td>\n",
       "      <td>133.71624</td>\n",
       "      <td>True</td>\n",
       "      <td>True</td>\n",
       "    </tr>\n",
       "    <tr>\n",
       "      <th>1</th>\n",
       "      <td>Asymmetron_inferum</td>\n",
       "      <td>Asymmetron_lucayanum</td>\n",
       "      <td>133.71624</td>\n",
       "      <td>True</td>\n",
       "      <td>True</td>\n",
       "    </tr>\n",
       "    <tr>\n",
       "      <th>2</th>\n",
       "      <td>Epigonichthys_maldivensis</td>\n",
       "      <td>Epigonichthys_cultellus</td>\n",
       "      <td>55.27994</td>\n",
       "      <td>True</td>\n",
       "      <td>True</td>\n",
       "    </tr>\n",
       "    <tr>\n",
       "      <th>3</th>\n",
       "      <td>Epigonichthys_cultellus</td>\n",
       "      <td>Epigonichthys_maldivensis</td>\n",
       "      <td>55.27994</td>\n",
       "      <td>True</td>\n",
       "      <td>True</td>\n",
       "    </tr>\n",
       "    <tr>\n",
       "      <th>4</th>\n",
       "      <td>Branchiostoma_japonicum</td>\n",
       "      <td>Branchiostoma_belcheri</td>\n",
       "      <td>43.85038</td>\n",
       "      <td>True</td>\n",
       "      <td>True</td>\n",
       "    </tr>\n",
       "    <tr>\n",
       "      <th>...</th>\n",
       "      <td>...</td>\n",
       "      <td>...</td>\n",
       "      <td>...</td>\n",
       "      <td>...</td>\n",
       "      <td>...</td>\n",
       "    </tr>\n",
       "    <tr>\n",
       "      <th>126520</th>\n",
       "      <td>Botryllus_schlosseri</td>\n",
       "      <td>Polyandrocarpa_anguinea</td>\n",
       "      <td>333.00600</td>\n",
       "      <td>False</td>\n",
       "      <td>True</td>\n",
       "    </tr>\n",
       "    <tr>\n",
       "      <th>126523</th>\n",
       "      <td>Styela_plicata</td>\n",
       "      <td>Dendrodoa_grossularia</td>\n",
       "      <td>393.82300</td>\n",
       "      <td>False</td>\n",
       "      <td>True</td>\n",
       "    </tr>\n",
       "    <tr>\n",
       "      <th>126524</th>\n",
       "      <td>Polyandrocarpa_anguinea</td>\n",
       "      <td>Dendrodoa_grossularia</td>\n",
       "      <td>304.17200</td>\n",
       "      <td>False</td>\n",
       "      <td>True</td>\n",
       "    </tr>\n",
       "    <tr>\n",
       "      <th>126525</th>\n",
       "      <td>Botryllus_schlosseri</td>\n",
       "      <td>Dendrodoa_grossularia</td>\n",
       "      <td>333.00600</td>\n",
       "      <td>False</td>\n",
       "      <td>True</td>\n",
       "    </tr>\n",
       "    <tr>\n",
       "      <th>126528</th>\n",
       "      <td>Styela_plicata</td>\n",
       "      <td>Botryllus_schlosseri</td>\n",
       "      <td>393.82300</td>\n",
       "      <td>False</td>\n",
       "      <td>True</td>\n",
       "    </tr>\n",
       "  </tbody>\n",
       "</table>\n",
       "<p>111086 rows × 5 columns</p>\n",
       "</div>"
      ],
      "text/plain": [
       "                            leaf1                      leaf2          d  \\\n",
       "0            Asymmetron_lucayanum         Asymmetron_inferum  133.71624   \n",
       "1              Asymmetron_inferum       Asymmetron_lucayanum  133.71624   \n",
       "2       Epigonichthys_maldivensis    Epigonichthys_cultellus   55.27994   \n",
       "3         Epigonichthys_cultellus  Epigonichthys_maldivensis   55.27994   \n",
       "4         Branchiostoma_japonicum     Branchiostoma_belcheri   43.85038   \n",
       "...                           ...                        ...        ...   \n",
       "126520       Botryllus_schlosseri    Polyandrocarpa_anguinea  333.00600   \n",
       "126523             Styela_plicata      Dendrodoa_grossularia  393.82300   \n",
       "126524    Polyandrocarpa_anguinea      Dendrodoa_grossularia  304.17200   \n",
       "126525       Botryllus_schlosseri      Dendrodoa_grossularia  333.00600   \n",
       "126528             Styela_plicata       Botryllus_schlosseri  393.82300   \n",
       "\n",
       "        common_genus  common_family  \n",
       "0               True           True  \n",
       "1               True           True  \n",
       "2               True           True  \n",
       "3               True           True  \n",
       "4               True           True  \n",
       "...              ...            ...  \n",
       "126520         False           True  \n",
       "126523         False           True  \n",
       "126524         False           True  \n",
       "126525         False           True  \n",
       "126528         False           True  \n",
       "\n",
       "[111086 rows x 5 columns]"
      ]
     },
     "execution_count": 193,
     "metadata": {},
     "output_type": "execute_result"
    }
   ],
   "source": [
    "df_closest_filtered"
   ]
  },
  {
   "attachments": {},
   "cell_type": "markdown",
   "metadata": {},
   "source": [
    "### search_closest_in_longest_list"
   ]
  },
  {
   "cell_type": "code",
   "execution_count": 112,
   "metadata": {},
   "outputs": [],
   "source": [
    "def search_closest_in_longest_list(row:pd.Series):\n",
    "    df_gene = genes_taxa_longest[(genes_taxa_longest.gene==row.gene) & (genes_taxa_longest.species != row.species)]\n",
    "    df_genus = df_gene[df_gene.genus == row.genus]\n",
    "    if len(df_genus):\n",
    "        return df_genus.species.to_list()\n",
    "    df_fam = df_gene[df_gene.fam == row.fam]\n",
    "    if len(df_fam):\n",
    "        return df_fam.species.to_list()\n",
    "    return []"
   ]
  },
  {
   "cell_type": "code",
   "execution_count": 114,
   "metadata": {},
   "outputs": [
    {
     "data": {
      "text/plain": [
       "(gene                           A6\n",
       " clss                  Leptocardii\n",
       " order              Amphioxiformes\n",
       " fam            Branchiostomatidae\n",
       " genus               Branchiostoma\n",
       " species    Branchiostoma_belcheri\n",
       " nseqs                          15\n",
       " Name: 0, dtype: object,\n",
       " ['Branchiostoma_floridae',\n",
       "  'Branchiostoma_japonicum',\n",
       "  'Branchiostoma_lanceolatum'])"
      ]
     },
     "execution_count": 114,
     "metadata": {},
     "output_type": "execute_result"
    }
   ],
   "source": [
    "genes_taxa_uniq.iloc[0], search_closest_in_longest_list(genes_taxa_uniq.iloc[0])"
   ]
  },
  {
   "cell_type": "code",
   "execution_count": null,
   "metadata": {},
   "outputs": [],
   "source": [
    "# runtime: 15min\n",
    "# save \n",
    "genes_taxa_uniq[\"closest\"] = genes_taxa_uniq.apply(search_closest_in_longest_list, axis=1)\n",
    "genes_taxa_uniq.to_csv(\"../data/chordata/raw_uniq_closest.csv\", index=False)"
   ]
  },
  {
   "attachments": {},
   "cell_type": "markdown",
   "metadata": {},
   "source": [
    "### merge taxa closest (family-specific) and timetree "
   ]
  },
  {
   "cell_type": "code",
   "execution_count": 228,
   "metadata": {},
   "outputs": [],
   "source": [
    "uniq_closest = genes_taxa_uniq.explode(\"closest\").drop([\"clss\", \"order\", \"fam\", \"genus\"], axis=1).dropna()\\\n",
    "    .merge(df_closest.iloc[:, [0,1,2,3]], \"left\", left_on=[\"species\", \"closest\"], right_on=[\"leaf1\", \"leaf2\"]).drop([\"leaf1\", \"leaf2\"], axis=1)\n",
    "\n",
    "uniq_closest[\"common_genus\"] = uniq_closest.species.apply(lambda x: x.split(\"_\")[0]) == uniq_closest.closest.apply(lambda x: x.split(\"_\")[0])"
   ]
  },
  {
   "cell_type": "code",
   "execution_count": 229,
   "metadata": {},
   "outputs": [
    {
     "data": {
      "text/html": [
       "<div>\n",
       "<style scoped>\n",
       "    .dataframe tbody tr th:only-of-type {\n",
       "        vertical-align: middle;\n",
       "    }\n",
       "\n",
       "    .dataframe tbody tr th {\n",
       "        vertical-align: top;\n",
       "    }\n",
       "\n",
       "    .dataframe thead th {\n",
       "        text-align: right;\n",
       "    }\n",
       "</style>\n",
       "<table border=\"1\" class=\"dataframe\">\n",
       "  <thead>\n",
       "    <tr style=\"text-align: right;\">\n",
       "      <th></th>\n",
       "      <th>gene</th>\n",
       "      <th>species</th>\n",
       "      <th>nseqs</th>\n",
       "      <th>closest</th>\n",
       "      <th>d</th>\n",
       "      <th>common_genus</th>\n",
       "    </tr>\n",
       "  </thead>\n",
       "  <tbody>\n",
       "    <tr>\n",
       "      <th>0</th>\n",
       "      <td>A6</td>\n",
       "      <td>Branchiostoma_belcheri</td>\n",
       "      <td>15</td>\n",
       "      <td>Branchiostoma_floridae</td>\n",
       "      <td>NaN</td>\n",
       "      <td>True</td>\n",
       "    </tr>\n",
       "    <tr>\n",
       "      <th>1</th>\n",
       "      <td>A6</td>\n",
       "      <td>Branchiostoma_belcheri</td>\n",
       "      <td>15</td>\n",
       "      <td>Branchiostoma_japonicum</td>\n",
       "      <td>43.85038</td>\n",
       "      <td>True</td>\n",
       "    </tr>\n",
       "    <tr>\n",
       "      <th>2</th>\n",
       "      <td>A6</td>\n",
       "      <td>Branchiostoma_belcheri</td>\n",
       "      <td>15</td>\n",
       "      <td>Branchiostoma_lanceolatum</td>\n",
       "      <td>NaN</td>\n",
       "      <td>True</td>\n",
       "    </tr>\n",
       "    <tr>\n",
       "      <th>3</th>\n",
       "      <td>A6</td>\n",
       "      <td>Branchiostoma_floridae</td>\n",
       "      <td>20</td>\n",
       "      <td>Branchiostoma_belcheri</td>\n",
       "      <td>NaN</td>\n",
       "      <td>True</td>\n",
       "    </tr>\n",
       "    <tr>\n",
       "      <th>4</th>\n",
       "      <td>A6</td>\n",
       "      <td>Branchiostoma_floridae</td>\n",
       "      <td>20</td>\n",
       "      <td>Branchiostoma_japonicum</td>\n",
       "      <td>NaN</td>\n",
       "      <td>True</td>\n",
       "    </tr>\n",
       "  </tbody>\n",
       "</table>\n",
       "</div>"
      ],
      "text/plain": [
       "  gene                 species  nseqs                    closest         d  \\\n",
       "0   A6  Branchiostoma_belcheri     15     Branchiostoma_floridae       NaN   \n",
       "1   A6  Branchiostoma_belcheri     15    Branchiostoma_japonicum  43.85038   \n",
       "2   A6  Branchiostoma_belcheri     15  Branchiostoma_lanceolatum       NaN   \n",
       "3   A6  Branchiostoma_floridae     20     Branchiostoma_belcheri       NaN   \n",
       "4   A6  Branchiostoma_floridae     20    Branchiostoma_japonicum       NaN   \n",
       "\n",
       "   common_genus  \n",
       "0          True  \n",
       "1          True  \n",
       "2          True  \n",
       "3          True  \n",
       "4          True  "
      ]
     },
     "execution_count": 229,
     "metadata": {},
     "output_type": "execute_result"
    }
   ],
   "source": [
    "uniq_closest.head()"
   ]
  },
  {
   "cell_type": "code",
   "execution_count": 230,
   "metadata": {},
   "outputs": [
    {
     "data": {
      "image/png": "[encoded data removed]",
      "text/plain": [
       "<Figure size 640x480 with 1 Axes>"
      ]
     },
     "metadata": {},
     "output_type": "display_data"
    }
   ],
   "source": [
    "ax = sns.histplot(data=uniq_closest, x=\"d\", hue=\"common_genus\").set_xlabel(\"Divergence Time\");\n",
    "plt.vlines([50], 0, 1500, 'r');"
   ]
  },
  {
   "attachments": {},
   "cell_type": "markdown",
   "metadata": {},
   "source": [
    "**Divergence time CUTOFF = 50 mln years**"
   ]
  },
  {
   "cell_type": "code",
   "execution_count": 231,
   "metadata": {},
   "outputs": [],
   "source": [
    "DIFERGENCE_CUTOFF = 50"
   ]
  },
  {
   "cell_type": "code",
   "execution_count": 232,
   "metadata": {},
   "outputs": [],
   "source": [
    "uniq_closest[\"d\"] = uniq_closest.d.fillna(-1)"
   ]
  },
  {
   "cell_type": "code",
   "execution_count": 302,
   "metadata": {},
   "outputs": [],
   "source": [
    "uniq_closest_filtered = uniq_closest[\n",
    "    (uniq_closest.d < DIFERGENCE_CUTOFF) &\n",
    "    (uniq_closest.closest.str.count(\"_\") == 1) &\n",
    "    (\n",
    "        (uniq_closest.common_genus) | \n",
    "        ((~uniq_closest.common_genus) & (uniq_closest.d > 0))\n",
    "    )\n",
    "]\n",
    "\n",
    "assert uniq_closest_filtered[uniq_closest_filtered.common_genus].d.max() < DIFERGENCE_CUTOFF\n",
    "assert uniq_closest_filtered[~uniq_closest_filtered.common_genus].d.min() > 0"
   ]
  },
  {
   "cell_type": "code",
   "execution_count": 303,
   "metadata": {},
   "outputs": [
    {
     "data": {
      "text/plain": [
       "(278417, 6)"
      ]
     },
     "execution_count": 303,
     "metadata": {},
     "output_type": "execute_result"
    }
   ],
   "source": [
    "uniq_closest_filtered.shape"
   ]
  },
  {
   "cell_type": "code",
   "execution_count": 304,
   "metadata": {},
   "outputs": [],
   "source": [
    "uniq_closest_filtered.to_csv(\"../data/chordata/closest_full.csv\", index=False)"
   ]
  },
  {
   "cell_type": "code",
   "execution_count": 305,
   "metadata": {},
   "outputs": [],
   "source": [
    "uniq_closest_filtered.groupby([\"gene\", \"species\"])\\\n",
    "    .apply(lambda gr: gr[gr.d == gr.d.max()].sample())\\\n",
    "        .to_csv(\"../data/chordata/closest_sample.csv\", index=False)"
   ]
  },
  {
   "attachments": {},
   "cell_type": "markdown",
   "metadata": {},
   "source": [
    "## Write species-fasta files"
   ]
  },
  {
   "cell_type": "code",
   "execution_count": 306,
   "metadata": {},
   "outputs": [
    {
     "name": "stdout",
     "output_type": "stream",
     "text": [
      "(14551, 6)\n"
     ]
    },
    {
     "data": {
      "text/html": [
       "<div>\n",
       "<style scoped>\n",
       "    .dataframe tbody tr th:only-of-type {\n",
       "        vertical-align: middle;\n",
       "    }\n",
       "\n",
       "    .dataframe tbody tr th {\n",
       "        vertical-align: top;\n",
       "    }\n",
       "\n",
       "    .dataframe thead th {\n",
       "        text-align: right;\n",
       "    }\n",
       "</style>\n",
       "<table border=\"1\" class=\"dataframe\">\n",
       "  <thead>\n",
       "    <tr style=\"text-align: right;\">\n",
       "      <th></th>\n",
       "      <th>gene</th>\n",
       "      <th>species</th>\n",
       "      <th>nseqs</th>\n",
       "      <th>closest</th>\n",
       "      <th>d</th>\n",
       "      <th>common_genus</th>\n",
       "    </tr>\n",
       "  </thead>\n",
       "  <tbody>\n",
       "    <tr>\n",
       "      <th>0</th>\n",
       "      <td>A6</td>\n",
       "      <td>Acanthurus_nigricans</td>\n",
       "      <td>25</td>\n",
       "      <td>Acanthurus_triostegus</td>\n",
       "      <td>-1.00000</td>\n",
       "      <td>True</td>\n",
       "    </tr>\n",
       "    <tr>\n",
       "      <th>1</th>\n",
       "      <td>A6</td>\n",
       "      <td>Acanthurus_triostegus</td>\n",
       "      <td>58</td>\n",
       "      <td>Acanthurus_leucosternon</td>\n",
       "      <td>-1.00000</td>\n",
       "      <td>True</td>\n",
       "    </tr>\n",
       "    <tr>\n",
       "      <th>2</th>\n",
       "      <td>A6</td>\n",
       "      <td>Adelomyia_melanogenys</td>\n",
       "      <td>81</td>\n",
       "      <td>Aglaiocercus_kingii</td>\n",
       "      <td>17.19276</td>\n",
       "      <td>False</td>\n",
       "    </tr>\n",
       "    <tr>\n",
       "      <th>3</th>\n",
       "      <td>A6</td>\n",
       "      <td>Agkistrodon_contortrix</td>\n",
       "      <td>26</td>\n",
       "      <td>Agkistrodon_taylori</td>\n",
       "      <td>19.09636</td>\n",
       "      <td>True</td>\n",
       "    </tr>\n",
       "    <tr>\n",
       "      <th>4</th>\n",
       "      <td>A6</td>\n",
       "      <td>Agkistrodon_piscivorus</td>\n",
       "      <td>18</td>\n",
       "      <td>Agkistrodon_taylori</td>\n",
       "      <td>14.24572</td>\n",
       "      <td>True</td>\n",
       "    </tr>\n",
       "  </tbody>\n",
       "</table>\n",
       "</div>"
      ],
      "text/plain": [
       "  gene                 species  nseqs                  closest         d  \\\n",
       "0   A6    Acanthurus_nigricans     25    Acanthurus_triostegus  -1.00000   \n",
       "1   A6   Acanthurus_triostegus     58  Acanthurus_leucosternon  -1.00000   \n",
       "2   A6   Adelomyia_melanogenys     81      Aglaiocercus_kingii  17.19276   \n",
       "3   A6  Agkistrodon_contortrix     26      Agkistrodon_taylori  19.09636   \n",
       "4   A6  Agkistrodon_piscivorus     18      Agkistrodon_taylori  14.24572   \n",
       "\n",
       "   common_genus  \n",
       "0          True  \n",
       "1          True  \n",
       "2         False  \n",
       "3          True  \n",
       "4          True  "
      ]
     },
     "execution_count": 306,
     "metadata": {},
     "output_type": "execute_result"
    }
   ],
   "source": [
    "closest_sample = pd.read_csv(\"../data/chordata/closest_sample.csv\")\n",
    "print(closest_sample.shape)\n",
    "closest_sample.head()"
   ]
  },
  {
   "cell_type": "code",
   "execution_count": 316,
   "metadata": {},
   "outputs": [],
   "source": [
    "for i, row in closest_sample.iterrows():\n",
    "    sp_recs = seqs_uniq_filtered[row.gene + \"__\" + row.species]\n",
    "    cl_rec = seqs_longest[row.gene + \"__\" + row.closest][0]\n",
    "    cl_rec.id = \"OUTGRP\"\n",
    "    cl_rec.name = \"OUTGRP\"\n",
    "    cl_rec.description = \"OUTGRP\"\n",
    "    sp_recs.append(cl_rec)\n",
    "    SeqIO.write(sp_recs, f\"../data/chordata/dataset/{row.gene}__{row.species}.fasta\", \"fasta-2line\")"
   ]
  },
  {
   "cell_type": "code",
   "execution_count": null,
   "metadata": {},
   "outputs": [],
   "source": []
  },
  {
   "cell_type": "code",
   "execution_count": null,
   "metadata": {},
   "outputs": [],
   "source": []
  },
  {
   "cell_type": "code",
   "execution_count": null,
   "metadata": {},
   "outputs": [],
   "source": []
  }
 ],
 "metadata": {
  "kernelspec": {
   "display_name": "env_bio",
   "language": "python",
   "name": "python3"
  },
  "language_info": {
   "codemirror_mode": {
    "name": "ipython",
    "version": 3
   },
   "file_extension": ".py",
   "mimetype": "text/x-python",
   "name": "python",
   "nbconvert_exporter": "python",
   "pygments_lexer": "ipython3",
   "version": "3.9.13"
  },
  "orig_nbformat": 4,
  "vscode": {
   "interpreter": {
    "hash": "c737589ac25c2b5207a58295544dae93bde342e9f173b68ed1d9625ade55517f"
   }
  }
 },
 "nbformat": 4,
 "nbformat_minor": 2
}
