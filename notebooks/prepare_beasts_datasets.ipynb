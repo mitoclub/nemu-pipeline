{
 "cells": [
  {
   "cell_type": "code",
   "execution_count": 1,
   "metadata": {},
   "outputs": [],
   "source": [
    "import glob, os, sys, re\n",
    "from collections import defaultdict, Counter\n",
    "\n",
    "import numpy as np\n",
    "import pandas as pd\n",
    "import matplotlib.pyplot as plt\n",
    "import ete3\n",
    "from ete3 import PhyloTree\n",
    "from Bio import SeqIO\n",
    "import tqdm"
   ]
  },
  {
   "cell_type": "code",
   "execution_count": 22,
   "metadata": {},
   "outputs": [],
   "source": [
    "def collect_phylum_seqs(phylum: str, label: str, genes: list):\n",
    "    path_to_fasta = \"../data/MIDORI2/fasta/MIDORI2_{}_NUC_GB253_{}_BLAST.fasta\"\n",
    "    seqs = defaultdict(list)\n",
    "    for gene in tqdm.tqdm(genes):\n",
    "        inp = path_to_fasta.format(label, gene)\n",
    "        for rec in SeqIO.parse(inp, \"fasta\"):\n",
    "            header = rec.description\n",
    "            \n",
    "            if phylum not in header:\n",
    "                continue\n",
    "\n",
    "            raw_acc, taxa = header.split(\"###\")\n",
    "            acc, place = re.match(\"(\\w+\\.\\d)\\.(.+)\", raw_acc).groups()\n",
    "            taxa = taxa.removeprefix(\"root_1;Eukaryota_2759;\")\n",
    "            species = \" \".join(taxa.split(\";\")[-1].split(\"_\")[:-1])\n",
    "            rec.id = acc\n",
    "            rec.description = f\"{species} {place} ###{taxa}\"\n",
    "            seqs[gene + \"__\" + species.replace(\" \", \"_\")].append(rec)\n",
    "    return seqs\n",
    "\n",
    "\n",
    "def filter_seqs(seqs, nseqs_min=10, var_gene_len=0.2):\n",
    "    seqs_filtered = dict()\n",
    "    for gene_species, recs in seqs.items():\n",
    "        if len(recs) < nseqs_min:\n",
    "            continue\n",
    "\n",
    "        seq_len_mean = np.mean([len(x) for x in recs])\n",
    "        recs_filtered = []\n",
    "        for rec in recs:\n",
    "            if seq_len_mean * (1 - var_gene_len) < len(rec) < seq_len_mean * (1 + var_gene_len):\n",
    "                recs_filtered.append(rec)\n",
    "\n",
    "        if len(recs_filtered) >= nseqs_min:\n",
    "            seqs_filtered[gene_species] = recs_filtered\n",
    "    \n",
    "    return seqs_filtered"
   ]
  },
  {
   "cell_type": "markdown",
   "metadata": {},
   "source": [
    "## *Arthropoda*"
   ]
  },
  {
   "cell_type": "code",
   "execution_count": null,
   "metadata": {},
   "outputs": [],
   "source": [
    "genes = ['A6', 'A8', 'CO1', 'CO2', 'CO3', 'Cytb', 'ND1', 'ND2', 'ND3', 'ND4', 'ND4L', 'ND5', 'ND6']\n",
    "phylum = \"Arthropoda\"\n",
    "seqs_arth = collect_phylum_seqs(phylum, \"UNIQ\", genes)\n",
    "len(seqs_arth)"
   ]
  },
  {
   "cell_type": "code",
   "execution_count": 26,
   "metadata": {},
   "outputs": [
    {
     "name": "stdout",
     "output_type": "stream",
     "text": [
      "nseqs = 19172, nspecies: 17676\n",
      "\n",
      "A6         65\n",
      "A8         24\n",
      "CO1     17116\n",
      "CO2       723\n",
      "CO3        73\n",
      "Cytb      549\n",
      "ND1       151\n",
      "ND2        83\n",
      "ND3        28\n",
      "ND4        82\n",
      "ND4L       22\n",
      "ND5       211\n",
      "ND6        45\n",
      "dtype: int64\n"
     ]
    }
   ],
   "source": [
    "seqs_arth_filtered = filter_seqs(seqs_arth)\n",
    "print(f\"nseqs = {len(seqs_arth_filtered)}, nspecies: {len(set([x.split('__')[1] for x in seqs_arth_filtered.keys()]))}\", end=\"\\n\\n\")\n",
    "print(pd.Series(Counter([x.split(\"__\")[0] for x in seqs_arth_filtered.keys()])))"
   ]
  },
  {
   "cell_type": "code",
   "execution_count": 29,
   "metadata": {},
   "outputs": [
    {
     "data": {
      "image/png": "[encoded data removed]",
      "text/plain": [
       "<Figure size 1200x400 with 2 Axes>"
      ]
     },
     "metadata": {},
     "output_type": "display_data"
    }
   ],
   "source": [
    "plt.figure(figsize=(12, 4))\n",
    "plt.subplot(121)\n",
    "plt.hist([len(v) for v in seqs_arth.values()], bins=100, alpha=0.7, label=\"all\", color=\"blue\")\n",
    "plt.hist([len(v) for v in seqs_arth_filtered.values()], bins=70, alpha=0.7, label=\"filtered\", color=\"orange\")\n",
    "plt.yscale(\"log\")\n",
    "plt.xlabel(\"species nseqs\")\n",
    "plt.legend()\n",
    "\n",
    "plt.subplot(122)\n",
    "plt.hist([len(v) for v in seqs_arth.values() if len(v) < 500], bins=100, alpha=0.7, label=\"all\", color=\"blue\")\n",
    "plt.hist([len(v) for v in seqs_arth_filtered.values() if len(v) < 500], bins=70, alpha=0.7, label=\"filtered\", color=\"orange\")\n",
    "plt.yscale(\"log\")\n",
    "plt.xlabel(\"species nseqs\")\n",
    "plt.legend()\n",
    "\n",
    "plt.show()"
   ]
  },
  {
   "cell_type": "markdown",
   "metadata": {},
   "source": [
    "## Prepare dataset for CO1 alignment (outgrp selection)"
   ]
  },
  {
   "cell_type": "code",
   "execution_count": 20,
   "metadata": {},
   "outputs": [
    {
     "name": "stderr",
     "output_type": "stream",
     "text": [
      "100%|██████████| 1/1 [00:03<00:00,  3.12s/it]\n"
     ]
    }
   ],
   "source": [
    "arth_aln = collect_phylum_seqs(phylum, \"LONGEST\", [\"CO1\"])"
   ]
  },
  {
   "cell_type": "code",
   "execution_count": 32,
   "metadata": {},
   "outputs": [
    {
     "name": "stdout",
     "output_type": "stream",
     "text": [
      "136 species without CO1 seq\n"
     ]
    }
   ],
   "source": [
    "print(len(set([x.split(\"__\")[1] for x in seqs_arth_filtered.keys()]).difference([x.split(\"__\")[1] for x in arth_aln.keys()])), \"species without CO1 seq\")"
   ]
  },
  {
   "cell_type": "code",
   "execution_count": null,
   "metadata": {},
   "outputs": [],
   "source": []
  },
  {
   "attachments": {},
   "cell_type": "markdown",
   "metadata": {},
   "source": [
    "## Chordata"
   ]
  },
  {
   "cell_type": "code",
   "execution_count": 41,
   "metadata": {},
   "outputs": [],
   "source": [
    "genes = ['A6', 'A8', 'CO1', 'CO2', 'CO3', 'Cytb', 'ND1', 'ND2', 'ND3', 'ND4', 'ND4L', 'ND5', 'ND6']\n",
    "phylum = \"Chordata\""
   ]
  },
  {
   "cell_type": "code",
   "execution_count": 42,
   "metadata": {},
   "outputs": [
    {
     "name": "stderr",
     "output_type": "stream",
     "text": [
      "100%|██████████| 13/13 [00:41<00:00,  3.20s/it]\n"
     ]
    }
   ],
   "source": [
    "seqs = defaultdict(list)\n",
    "for gene in tqdm.tqdm(genes):\n",
    "    inp = f\"../data/MIDORI2/fasta/MIDORI2_UNIQ_NUC_GB253_{gene}_BLAST.fasta\"\n",
    "    for rec in SeqIO.parse(inp, \"fasta\"):\n",
    "        header = rec.description\n",
    "        \n",
    "        if phylum not in header:\n",
    "            continue\n",
    "\n",
    "        raw_acc, taxa = header.split(\"###\")\n",
    "        acc, place = re.match(\"(\\w+\\.\\d)\\.(.+)\", raw_acc).groups()\n",
    "        taxa = taxa.removeprefix(\"root_1;Eukaryota_2759;\")\n",
    "        species = \" \".join(taxa.split(\";\")[-1].split(\"_\")[:-1])\n",
    "        rec.id = acc\n",
    "        rec.description = f\"{species} {place} ###{taxa}\"\n",
    "        seqs[gene + \"__\" + species.replace(\" \", \"_\")].append(rec)"
   ]
  },
  {
   "cell_type": "code",
   "execution_count": 43,
   "metadata": {},
   "outputs": [],
   "source": [
    "nseqs_min = 10\n",
    "var_gene_len = 0.2\n",
    "seqs_filtered = dict()\n",
    "for gene_species, recs in seqs.items():\n",
    "    if len(recs) < nseqs_min:\n",
    "        continue\n",
    "\n",
    "    seq_len_mean = np.mean([len(x) for x in recs])\n",
    "    recs_filtered = []\n",
    "    for rec in recs:\n",
    "        if seq_len_mean * (1 - var_gene_len) < len(rec) < seq_len_mean * (1 + var_gene_len):\n",
    "            recs_filtered.append(rec)\n",
    "\n",
    "    if len(recs_filtered) >= nseqs_min:\n",
    "        seqs_filtered[gene_species] = recs_filtered"
   ]
  },
  {
   "cell_type": "code",
   "execution_count": 44,
   "metadata": {},
   "outputs": [
    {
     "data": {
      "text/plain": [
       "14662"
      ]
     },
     "execution_count": 44,
     "metadata": {},
     "output_type": "execute_result"
    }
   ],
   "source": [
    "len(seqs_filtered)"
   ]
  },
  {
   "cell_type": "code",
   "execution_count": 45,
   "metadata": {},
   "outputs": [
    {
     "name": "stdout",
     "output_type": "stream",
     "text": [
      "A6       501\n",
      "A8       190\n",
      "CO1     5138\n",
      "CO2      207\n",
      "CO3      204\n",
      "Cytb    4497\n",
      "ND1      384\n",
      "ND2     1868\n",
      "ND3      253\n",
      "ND4      814\n",
      "ND4L     121\n",
      "ND5      285\n",
      "ND6      200\n",
      "dtype: int64\n"
     ]
    }
   ],
   "source": [
    "print(pd.Series(Counter([x.split(\"__\")[0] for x in seqs_filtered.keys()])))"
   ]
  },
  {
   "cell_type": "code",
   "execution_count": 46,
   "metadata": {},
   "outputs": [
    {
     "data": {
      "text/plain": [
       "9818"
      ]
     },
     "execution_count": 46,
     "metadata": {},
     "output_type": "execute_result"
    }
   ],
   "source": [
    "len(set([x.split(\"__\")[1] for x in seqs_filtered.keys()]))"
   ]
  },
  {
   "cell_type": "code",
   "execution_count": 52,
   "metadata": {},
   "outputs": [
    {
     "data": {
      "image/png": "[encoded data removed]",
      "text/plain": [
       "<Figure size 640x480 with 1 Axes>"
      ]
     },
     "metadata": {},
     "output_type": "display_data"
    }
   ],
   "source": [
    "plt.hist([len(v) for v in seqs.values() if len(v) < 1000], bins=100, alpha=0.7, label=\"all\", color=\"blue\")\n",
    "plt.hist([len(v) for v in seqs_filtered.values() if len(v) < 1000], bins=100, alpha=0.7, label=\"filtered\", color=\"orange\")\n",
    "plt.yscale(\"log\")\n",
    "# plt.xscale(\"log\")\n",
    "plt.title(phylum)\n",
    "plt.legend()\n",
    "plt.show()"
   ]
  }
 ],
 "metadata": {
  "kernelspec": {
   "display_name": "env_bio",
   "language": "python",
   "name": "python3"
  },
  "language_info": {
   "codemirror_mode": {
    "name": "ipython",
    "version": 3
   },
   "file_extension": ".py",
   "mimetype": "text/x-python",
   "name": "python",
   "nbconvert_exporter": "python",
   "pygments_lexer": "ipython3",
   "version": "3.9.13"
  },
  "orig_nbformat": 4
 },
 "nbformat": 4,
 "nbformat_minor": 2
}
