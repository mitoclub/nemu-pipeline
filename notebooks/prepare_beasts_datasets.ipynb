{
 "cells": [
  {
   "cell_type": "code",
   "execution_count": 1,
   "metadata": {},
   "outputs": [],
   "source": [
    "import glob, os, sys, re, random\n",
    "from collections import defaultdict, Counter\n",
    "\n",
    "import numpy as np\n",
    "import pandas as pd\n",
    "import matplotlib.pyplot as plt\n",
    "import ete3\n",
    "from ete3 import PhyloTree\n",
    "from Bio import SeqIO\n",
    "import tqdm"
   ]
  },
  {
   "cell_type": "code",
   "execution_count": 2,
   "metadata": {},
   "outputs": [],
   "source": [
    "def collect_seqs(pattern: str, label: str, genes: list, sp=False):\n",
    "    directory = \"../data/MIDORI2/fasta/\"\n",
    "    file = \"MIDORI2_{}_NUC_SP_GB253_{}_BLAST.fasta\" if sp else \"MIDORI2_{}_NUC_GB253_{}_BLAST.fasta\"\n",
    "    path_to_fasta = directory + file\n",
    "    seqs = defaultdict(list)\n",
    "    for gene in tqdm.tqdm(genes):\n",
    "        inp = path_to_fasta.format(label, gene)\n",
    "        for rec in SeqIO.parse(inp, \"fasta\"):\n",
    "            header = rec.description\n",
    "            \n",
    "            if pattern not in header:\n",
    "                continue\n",
    "\n",
    "            raw_acc, taxa = header.split(\"###\")\n",
    "            acc, place = re.match(\"(\\w+\\.\\d)\\.(.+)\", raw_acc).groups()\n",
    "            taxa = taxa.removeprefix(\"root_1;Eukaryota_2759;\")\n",
    "            species = \" \".join(taxa.split(\";\")[-1].split(\"_\")[:-1])\n",
    "            rec.id = acc\n",
    "            rec.description = f\"{species} {place} ###{taxa}\"\n",
    "            seqs[gene + \"__\" + species.replace(\" \", \"_\")].append(rec)\n",
    "    return seqs\n",
    "\n",
    "\n",
    "def filter_seqs(recs: list, var_gene_len=0.2, Nshare=0.2):\n",
    "    assert isinstance(recs, list)\n",
    "    seq_len_mean = np.median([len(x) for x in recs])\n",
    "    min_seq_len = seq_len_mean * (1 - var_gene_len)\n",
    "    max_seq_len = seq_len_mean * (1 + var_gene_len)\n",
    "\n",
    "    recs_filtered = []\n",
    "    for rec in recs:\n",
    "        acgt_share = sum(rec.seq.count(x) for x in \"ACGT\") / len(rec)\n",
    "        if min_seq_len < len(rec) < max_seq_len and 1 - acgt_share < Nshare:\n",
    "            recs_filtered.append(rec)\n",
    "\n",
    "    return recs_filtered\n",
    "\n",
    "\n",
    "def filter_seqs_dict(seqs, nseqs_min=10, var_gene_len=0.2, Nshare=0.2):\n",
    "    assert isinstance(seqs, dict)\n",
    "    seqs_filtered = dict()\n",
    "    for gene_species, recs in seqs.items():\n",
    "        if len(recs) < nseqs_min:\n",
    "            continue\n",
    "\n",
    "        recs_filtered = filter_seqs(recs, var_gene_len, Nshare)\n",
    "        if len(recs_filtered) >= nseqs_min:\n",
    "            seqs_filtered[gene_species] = recs_filtered\n",
    "    \n",
    "    return seqs_filtered"
   ]
  },
  {
   "attachments": {},
   "cell_type": "markdown",
   "metadata": {},
   "source": [
    "## *Hominidae*"
   ]
  },
  {
   "cell_type": "markdown",
   "metadata": {},
   "source": [
    "### CYTB"
   ]
  },
  {
   "cell_type": "code",
   "execution_count": 3,
   "metadata": {},
   "outputs": [
    {
     "name": "stderr",
     "output_type": "stream",
     "text": [
      "100%|██████████| 1/1 [00:04<00:00,  4.45s/it]"
     ]
    },
    {
     "name": "stdout",
     "output_type": "stream",
     "text": [
      "['Cytb__Gorilla_beringei', 'Cytb__Gorilla_gorilla', 'Cytb__Homo_heidelbergensis', 'Cytb__Homo_sapiens', 'Cytb__Pan_paniscus', 'Cytb__Pan_troglodytes', 'Cytb__Pongo_abelii', 'Cytb__Pongo_pygmaeus']\n",
      "Cytb__Homo_sapiens\n"
     ]
    },
    {
     "name": "stderr",
     "output_type": "stream",
     "text": [
      "\n"
     ]
    }
   ],
   "source": [
    "pattern = \"Hominidae_\"\n",
    "seqs = collect_seqs(pattern, \"UNIQ\", ['Cytb'])\n",
    "seqs_filtered = filter_seqs_dict(seqs, 1, 0.05)\n",
    "print(list(seqs_filtered.keys()))\n",
    "\n",
    "MAX_SP_NSEQS = 100\n",
    "cytb_recs = []\n",
    "for gene_sp, recs in seqs_filtered.items():\n",
    "    if len(recs) > MAX_SP_NSEQS:\n",
    "        print(gene_sp)\n",
    "        recs = random.sample(recs, MAX_SP_NSEQS)\n",
    "    cytb_recs.extend(recs)\n",
    "\n",
    "cytb_recs_filtered = filter_seqs(cytb_recs, 0.1)\n",
    "\n",
    "# SeqIO.write(cytb_recs_filtered, \"../data/MUS/genes/CYTB.fna\", \"fasta-2line\")"
   ]
  },
  {
   "cell_type": "code",
   "execution_count": 9,
   "metadata": {},
   "outputs": [
    {
     "data": {
      "text/plain": [
       "'ATGACCCCCATACGCAAAACTAACCCACTGACAAAACTAATCAACCACTCATTCATTGACCTCCCTACCCCATCCAACATCTCCACATGATGAAACTTCGGCTCACTCCTTGGTGCCTGCTTAATCCTTCAAATCACCACAGGACTATTCCTAGCCATACACTACTCACCTGACGCCTCAACCGCATTCTCATCAATCGCTCACATCACCCGAGATGTGAACTATGGCTGAACCATCCGCTACCTCCACGCTAATGGCGCCTCAATGTTCTTCATTTGCCTCTTTCTGCACATCGGCCGAGGCCTATACTACGGCTCATTTCTCTACCAAGAAACCTGAAACATCGGCATCATCCTCTTACTCACAACCATAGCAGCAGCCTTCATAGGCTATGTCCTCCCATGAGGCCAAATATCCTTCTGAGGGGCCACAGTAATCACAAACTTGCTATCCGCCATCCCATACATCGGAACAAACCTAGTCCAATGGGTCTGAGGTGGTTACTCAGTAGATAGCCCCACCCTTACACGATTCTTTACCTTCCACTTTATTTTACCCTTCATTATCACAGCCCTAACAACCCTCCATCTCCTATTTCTACACGAAACAGGATCAAACAACCCTCTAGGCATCCCCTCCCACTCCGACAAAATTACTTTCCACCCCTACTACACAATCAAAGACATCCTAGGCCTATTCCTCTTTCTCCTGACCCTAATAACACTAACACTATTCTCACCAGACCTCCTAGGAGACCCAGACAACTACACCTTAGCCAACCCCCTAAACACCCCACCCCACATCAAACCCGAATGATACTTCCTATTTGCCTACGCAATCCTCCGATCTGTCCCCAATAAATTAGGAGGCGTCTTAGCCCTACTACTATCTATTCTCATCCTAGCAATAATTCCTGCTCTCCACATATCCAAACAACAAAGCATAACATTCCGCCCATTAAGCCAACTACTCTACTGATTCCTAATCACAGACCTCCTCACCCTAACCTGAATCGGAGGACAACCAGTAAGCTACCCCTTCATTACCATTGGACAAGTAGCATCCGTACTATACTTCACAACAATCCTGCTCCTGATACCAATCACATCCCTAATCGAAAACAAAATACTCAAATGAACCT'"
      ]
     },
     "execution_count": 9,
     "metadata": {},
     "output_type": "execute_result"
    }
   ],
   "source": [
    "str(recs[0].seq)"
   ]
  },
  {
   "cell_type": "code",
   "execution_count": 8,
   "metadata": {},
   "outputs": [
    {
     "name": "stdout",
     "output_type": "stream",
     "text": [
      "Cytb__Gorilla_beringei 8\n"
     ]
    }
   ],
   "source": [
    "for gene_sp, recs in seqs_filtered.items():\n",
    "    print(gene_sp, len(recs))\n",
    "    brea"
   ]
  },
  {
   "cell_type": "code",
   "execution_count": null,
   "metadata": {},
   "outputs": [
    {
     "data": {
      "image/png": "[encoded data removed]",
      "text/plain": [
       "<Figure size 400x200 with 1 Axes>"
      ]
     },
     "metadata": {},
     "output_type": "display_data"
    }
   ],
   "source": [
    "plt.figure(figsize=(4, 2))\n",
    "plt.hist([len(x) for x in cytb_recs], bins=50);"
   ]
  },
  {
   "cell_type": "markdown",
   "metadata": {},
   "source": [
    "### ND1"
   ]
  },
  {
   "cell_type": "code",
   "execution_count": null,
   "metadata": {},
   "outputs": [
    {
     "name": "stderr",
     "output_type": "stream",
     "text": [
      "100%|██████████| 1/1 [00:00<00:00,  1.30it/s]"
     ]
    },
    {
     "name": "stdout",
     "output_type": "stream",
     "text": [
      "['ND1__Mus_pahari', 'ND1__Mus_caroli', 'ND1__Mus_cervicolor', 'ND1__Mus_cookii', 'ND1__Mus_famulus', 'ND1__Mus_fragilicauda', 'ND1__Mus_musculus', 'ND1__Mus_spretus', 'ND1__Mus_terricolor', 'ND1__Mus_baoulei', 'ND1__Mus_saxicola']\n"
     ]
    },
    {
     "name": "stderr",
     "output_type": "stream",
     "text": [
      "\n"
     ]
    },
    {
     "data": {
      "text/plain": [
       "106"
      ]
     },
     "metadata": {},
     "output_type": "display_data"
    }
   ],
   "source": [
    "pattern = \"Hominidae\"\n",
    "seqs = collect_seqs(pattern, \"UNIQ\", ['ND1'])\n",
    "seqs_filtered = filter_seqs_dict(seqs, 1, 0.1)\n",
    "print(list(seqs_filtered.keys()))\n",
    "\n",
    "MAX_SP_NSEQS = 100\n",
    "cytb_recs = []\n",
    "for gene_sp, recs in seqs_filtered.items():\n",
    "    if len(recs) > MAX_SP_NSEQS:\n",
    "        print(gene_sp)\n",
    "        recs = random.sample(recs, MAX_SP_NSEQS)\n",
    "    cytb_recs.extend(recs)\n",
    "\n",
    "cytb_recs_filtered = filter_seqs(cytb_recs, 0.1)\n",
    "\n",
    "# SeqIO.write(cytb_recs_filtered, \"../data/MUS/genes/ND1.fna\", \"fasta-2line\")"
   ]
  },
  {
   "cell_type": "code",
   "execution_count": null,
   "metadata": {},
   "outputs": [
    {
     "data": {
      "image/png": "[encoded data removed]",
      "text/plain": [
       "<Figure size 400x200 with 1 Axes>"
      ]
     },
     "metadata": {},
     "output_type": "display_data"
    }
   ],
   "source": [
    "plt.figure(figsize=(4, 2))\n",
    "plt.hist([len(x) for x in cytb_recs], bins=50);"
   ]
  },
  {
   "cell_type": "code",
   "execution_count": null,
   "metadata": {},
   "outputs": [],
   "source": []
  },
  {
   "cell_type": "code",
   "execution_count": null,
   "metadata": {},
   "outputs": [],
   "source": []
  },
  {
   "cell_type": "code",
   "execution_count": null,
   "metadata": {},
   "outputs": [],
   "source": []
  },
  {
   "attachments": {},
   "cell_type": "markdown",
   "metadata": {},
   "source": [
    "## *Mus* genus"
   ]
  },
  {
   "attachments": {},
   "cell_type": "markdown",
   "metadata": {},
   "source": [
    "### CYTB"
   ]
  },
  {
   "cell_type": "code",
   "execution_count": 80,
   "metadata": {},
   "outputs": [
    {
     "name": "stderr",
     "output_type": "stream",
     "text": [
      "100%|██████████| 1/1 [00:04<00:00,  4.33s/it]"
     ]
    },
    {
     "name": "stdout",
     "output_type": "stream",
     "text": [
      "['Cytb__Mus_crociduroides', 'Cytb__Mus_mayori', 'Cytb__Mus_pahari', 'Cytb__Mus_booduga', 'Cytb__Mus_caroli', 'Cytb__Mus_cervicolor', 'Cytb__Mus_cookii', 'Cytb__Mus_cypriacus', 'Cytb__Mus_famulus', 'Cytb__Mus_fragilicauda', 'Cytb__Mus_lepidoides', 'Cytb__Mus_macedonicus', 'Cytb__Mus_musculus', 'Cytb__Mus_nitidulus', 'Cytb__Mus_poschiavinus', 'Cytb__Mus_spicilegus', 'Cytb__Mus_spretus', 'Cytb__Mus_terricolor', 'Cytb__Mus_triton', 'Cytb__Mus_baoulei', 'Cytb__Mus_callewaerti', 'Cytb__Mus_harennensis', 'Cytb__Mus_haussa', 'Cytb__Mus_indutus', 'Cytb__Mus_mahomet', 'Cytb__Mus_mattheyi', 'Cytb__Mus_minutoides', 'Cytb__Mus_musculoides', 'Cytb__Mus_neavei', 'Cytb__Mus_setulosus', 'Cytb__Mus_sorella', 'Cytb__Mus_tenellus', 'Cytb__Mus_fernandoni', 'Cytb__Mus_platythrix', 'Cytb__Mus_saxicola']\n",
      "Cytb__Mus_musculus\n",
      "Cytb__Mus_spretus\n"
     ]
    },
    {
     "name": "stderr",
     "output_type": "stream",
     "text": [
      "\n"
     ]
    },
    {
     "data": {
      "text/plain": [
       "445"
      ]
     },
     "execution_count": 80,
     "metadata": {},
     "output_type": "execute_result"
    }
   ],
   "source": [
    "pattern = \"Mus_10088\"\n",
    "seqs = collect_seqs(pattern, \"UNIQ\", ['Cytb'])\n",
    "seqs_filtered = filter_seqs_dict(seqs, 1, 0.05)\n",
    "print(list(seqs_filtered.keys()))\n",
    "\n",
    "MAX_SP_NSEQS = 100\n",
    "cytb_recs = []\n",
    "for gene_sp, recs in seqs_filtered.items():\n",
    "    if len(recs) > MAX_SP_NSEQS:\n",
    "        print(gene_sp)\n",
    "        recs = random.sample(recs, MAX_SP_NSEQS)\n",
    "    cytb_recs.extend(recs)\n",
    "\n",
    "cytb_recs_filtered = filter_seqs(cytb_recs, 0.1)\n",
    "\n",
    "SeqIO.write(cytb_recs_filtered, \"../data/MUS/genes/CYTB.fna\", \"fasta-2line\")"
   ]
  },
  {
   "cell_type": "code",
   "execution_count": 78,
   "metadata": {},
   "outputs": [
    {
     "data": {
      "image/png": "[encoded data removed]",
      "text/plain": [
       "<Figure size 400x200 with 1 Axes>"
      ]
     },
     "metadata": {},
     "output_type": "display_data"
    }
   ],
   "source": [
    "plt.figure(figsize=(4, 2))\n",
    "plt.hist([len(x) for x in cytb_recs], bins=50);"
   ]
  },
  {
   "attachments": {},
   "cell_type": "markdown",
   "metadata": {},
   "source": [
    "### ND1"
   ]
  },
  {
   "cell_type": "code",
   "execution_count": 75,
   "metadata": {},
   "outputs": [
    {
     "name": "stderr",
     "output_type": "stream",
     "text": [
      "100%|██████████| 1/1 [00:00<00:00,  1.30it/s]"
     ]
    },
    {
     "name": "stdout",
     "output_type": "stream",
     "text": [
      "['ND1__Mus_pahari', 'ND1__Mus_caroli', 'ND1__Mus_cervicolor', 'ND1__Mus_cookii', 'ND1__Mus_famulus', 'ND1__Mus_fragilicauda', 'ND1__Mus_musculus', 'ND1__Mus_spretus', 'ND1__Mus_terricolor', 'ND1__Mus_baoulei', 'ND1__Mus_saxicola']\n"
     ]
    },
    {
     "name": "stderr",
     "output_type": "stream",
     "text": [
      "\n"
     ]
    },
    {
     "data": {
      "text/plain": [
       "106"
      ]
     },
     "execution_count": 75,
     "metadata": {},
     "output_type": "execute_result"
    }
   ],
   "source": [
    "pattern = \"Mus_10088\"\n",
    "seqs = collect_seqs(pattern, \"UNIQ\", ['ND1'])\n",
    "seqs_filtered = filter_seqs_dict(seqs, 1, 0.1)\n",
    "print(list(seqs_filtered.keys()))\n",
    "\n",
    "MAX_SP_NSEQS = 100\n",
    "cytb_recs = []\n",
    "for gene_sp, recs in seqs_filtered.items():\n",
    "    if len(recs) > MAX_SP_NSEQS:\n",
    "        print(gene_sp)\n",
    "        recs = random.sample(recs, MAX_SP_NSEQS)\n",
    "    cytb_recs.extend(recs)\n",
    "\n",
    "cytb_recs_filtered = filter_seqs(cytb_recs, 0.1)\n",
    "\n",
    "SeqIO.write(cytb_recs_filtered, \"../data/MUS/genes/ND1.fna\", \"fasta-2line\")"
   ]
  },
  {
   "cell_type": "code",
   "execution_count": 76,
   "metadata": {},
   "outputs": [
    {
     "data": {
      "image/png": "[encoded data removed]",
      "text/plain": [
       "<Figure size 400x200 with 1 Axes>"
      ]
     },
     "metadata": {},
     "output_type": "display_data"
    }
   ],
   "source": [
    "plt.figure(figsize=(4, 2))\n",
    "plt.hist([len(x) for x in cytb_recs], bins=50);"
   ]
  },
  {
   "cell_type": "code",
   "execution_count": null,
   "metadata": {},
   "outputs": [],
   "source": []
  },
  {
   "attachments": {},
   "cell_type": "markdown",
   "metadata": {},
   "source": [
    "## *Mus musculus* & *Mus spretus*"
   ]
  },
  {
   "cell_type": "code",
   "execution_count": 44,
   "metadata": {},
   "outputs": [
    {
     "name": "stderr",
     "output_type": "stream",
     "text": [
      "100%|██████████| 2/2 [00:05<00:00,  2.53s/it]\n",
      "100%|██████████| 2/2 [00:05<00:00,  2.53s/it]\n"
     ]
    }
   ],
   "source": [
    "genes = ['Cytb', 'ND1']\n",
    "pattern1 = \"Mus_musculus\"\n",
    "seqs1 = collect_seqs(pattern1, \"UNIQ\", genes)\n",
    "seqs1_filtered = filter_seqs(seqs1, 1)\n",
    "\n",
    "pattern2 = \"Mus_spretus\"\n",
    "seqs2 = collect_seqs(pattern2, \"UNIQ\", genes)\n",
    "seqs2_filtered = filter_seqs(seqs2, 1)"
   ]
  },
  {
   "cell_type": "code",
   "execution_count": 55,
   "metadata": {},
   "outputs": [
    {
     "data": {
      "text/plain": [
       "[SeqRecord(seq=Seq('GTGTTCTTTATCAACATTTTAACACTCCTCCTACCTATCCTAATCGCTATGGCT...TAT'), id='MW209725.1', name='MW209725.1.2746.3700###root_1;Eukaryota_2759;Chordata_7711;Mammalia_40674;Rodentia_9989;Muridae_10066;Mus_10088;Mus_spretus_10096', description='Mus spretus 2746.3700 ###Chordata_7711;Mammalia_40674;Rodentia_9989;Muridae_10066;Mus_10088;Mus_spretus_10096', dbxrefs=[]),\n",
       " SeqRecord(seq=Seq('GTGTTCTTTATCAACATTTTAACACTCCTCCTACCTATCCTAATCGCTATGGCT...TAT'), id='KY018921.1', name='KY018921.1.2749.3703###root_1;Eukaryota_2759;Chordata_7711;Mammalia_40674;Rodentia_9989;Muridae_10066;Mus_10088;Mus_spretus_10096', description='Mus spretus 2749.3703 ###Chordata_7711;Mammalia_40674;Rodentia_9989;Muridae_10066;Mus_10088;Mus_spretus_10096', dbxrefs=[])]"
      ]
     },
     "execution_count": 55,
     "metadata": {},
     "output_type": "execute_result"
    }
   ],
   "source": [
    "seqs2_filtered[\"ND1__Mus_spretus\"]"
   ]
  },
  {
   "cell_type": "code",
   "execution_count": 53,
   "metadata": {},
   "outputs": [
    {
     "data": {
      "text/plain": [
       "dict_keys(['Cytb__Mus_spretus', 'ND1__Mus_spretus'])"
      ]
     },
     "execution_count": 53,
     "metadata": {},
     "output_type": "execute_result"
    }
   ],
   "source": [
    "seqs2_filtered.keys()"
   ]
  },
  {
   "cell_type": "code",
   "execution_count": 56,
   "metadata": {},
   "outputs": [],
   "source": [
    "nd1 = []\n",
    "g = \"ND1\"\n",
    "for p, s in zip([pattern1, pattern2], [seqs1_filtered, seqs2_filtered]):\n",
    "    for r in s[g+ \"__\" + p]:\n",
    "        nd1.append(r)\n",
    "\n",
    "cytb = []\n",
    "g = \"Cytb\"\n",
    "for p, s in zip([pattern1, pattern2], [seqs1_filtered, seqs2_filtered]):\n",
    "    for r in s[g+ \"__\" + p]:\n",
    "        cytb.append(r)"
   ]
  },
  {
   "cell_type": "code",
   "execution_count": 60,
   "metadata": {},
   "outputs": [
    {
     "name": "stdout",
     "output_type": "stream",
     "text": [
      "nseqs = 769\n",
      "nseqs = 93\n"
     ]
    }
   ],
   "source": [
    "print(f\"nseqs = {len(cytb)}\")\n",
    "print(f\"nseqs = {len(nd1)}\")"
   ]
  },
  {
   "cell_type": "code",
   "execution_count": 61,
   "metadata": {},
   "outputs": [
    {
     "data": {
      "text/plain": [
       "769"
      ]
     },
     "execution_count": 61,
     "metadata": {},
     "output_type": "execute_result"
    }
   ],
   "source": [
    "SeqIO.write(nd1, \"../data/exposure/mus_nd1/seqs.fasta\", \"fasta-2line\")\n",
    "SeqIO.write(cytb, \"../data/exposure/mus_cytb/seqs.fasta\", \"fasta-2line\")"
   ]
  },
  {
   "cell_type": "markdown",
   "metadata": {},
   "source": [
    "## *Arthropoda*"
   ]
  },
  {
   "cell_type": "code",
   "execution_count": null,
   "metadata": {},
   "outputs": [],
   "source": [
    "genes = ['A6', 'A8', 'CO1', 'CO2', 'CO3', 'Cytb', 'ND1', 'ND2', 'ND3', 'ND4', 'ND4L', 'ND5', 'ND6']\n",
    "phylum = \"Arthropoda\"\n",
    "seqs_arth = collect_seqs(phylum, \"UNIQ\", genes)\n",
    "len(seqs_arth)"
   ]
  },
  {
   "cell_type": "code",
   "execution_count": 26,
   "metadata": {},
   "outputs": [
    {
     "name": "stdout",
     "output_type": "stream",
     "text": [
      "nseqs = 19172, nspecies: 17676\n",
      "\n",
      "A6         65\n",
      "A8         24\n",
      "CO1     17116\n",
      "CO2       723\n",
      "CO3        73\n",
      "Cytb      549\n",
      "ND1       151\n",
      "ND2        83\n",
      "ND3        28\n",
      "ND4        82\n",
      "ND4L       22\n",
      "ND5       211\n",
      "ND6        45\n",
      "dtype: int64\n"
     ]
    }
   ],
   "source": [
    "seqs_arth_filtered = filter_seqs(seqs_arth)\n",
    "print(f\"nseqs = {len(seqs_arth_filtered)}, nspecies: {len(set([x.split('__')[1] for x in seqs_arth_filtered.keys()]))}\", end=\"\\n\\n\")\n",
    "print(pd.Series(Counter([x.split(\"__\")[0] for x in seqs_arth_filtered.keys()])))"
   ]
  },
  {
   "cell_type": "code",
   "execution_count": 29,
   "metadata": {},
   "outputs": [
    {
     "data": {
      "image/png": "[encoded data removed]",
      "text/plain": [
       "<Figure size 1200x400 with 2 Axes>"
      ]
     },
     "metadata": {},
     "output_type": "display_data"
    }
   ],
   "source": [
    "plt.figure(figsize=(12, 4))\n",
    "plt.subplot(121)\n",
    "plt.hist([len(v) for v in seqs_arth.values()], bins=100, alpha=0.7, label=\"all\", color=\"blue\")\n",
    "plt.hist([len(v) for v in seqs_arth_filtered.values()], bins=70, alpha=0.7, label=\"filtered\", color=\"orange\")\n",
    "plt.yscale(\"log\")\n",
    "plt.xlabel(\"species nseqs\")\n",
    "plt.legend()\n",
    "\n",
    "plt.subplot(122)\n",
    "plt.hist([len(v) for v in seqs_arth.values() if len(v) < 500], bins=100, alpha=0.7, label=\"all\", color=\"blue\")\n",
    "plt.hist([len(v) for v in seqs_arth_filtered.values() if len(v) < 500], bins=70, alpha=0.7, label=\"filtered\", color=\"orange\")\n",
    "plt.yscale(\"log\")\n",
    "plt.xlabel(\"species nseqs\")\n",
    "plt.legend()\n",
    "\n",
    "plt.show()"
   ]
  },
  {
   "attachments": {},
   "cell_type": "markdown",
   "metadata": {},
   "source": [
    "### Prepare dataset for CO1 alignment (outgrp selection)"
   ]
  },
  {
   "cell_type": "code",
   "execution_count": 20,
   "metadata": {},
   "outputs": [
    {
     "name": "stderr",
     "output_type": "stream",
     "text": [
      "100%|██████████| 1/1 [00:03<00:00,  3.12s/it]\n"
     ]
    }
   ],
   "source": [
    "arth_aln = collect_seqs(phylum, \"LONGEST\", [\"CO1\"])"
   ]
  },
  {
   "cell_type": "code",
   "execution_count": 32,
   "metadata": {},
   "outputs": [
    {
     "name": "stdout",
     "output_type": "stream",
     "text": [
      "136 species without CO1 seq\n"
     ]
    }
   ],
   "source": [
    "print(len(set([x.split(\"__\")[1] for x in seqs_arth_filtered.keys()]).difference([x.split(\"__\")[1] for x in arth_aln.keys()])), \"species without CO1 seq\")"
   ]
  },
  {
   "cell_type": "code",
   "execution_count": null,
   "metadata": {},
   "outputs": [],
   "source": []
  },
  {
   "attachments": {},
   "cell_type": "markdown",
   "metadata": {},
   "source": [
    "## Chordata"
   ]
  },
  {
   "cell_type": "code",
   "execution_count": 81,
   "metadata": {},
   "outputs": [
    {
     "name": "stderr",
     "output_type": "stream",
     "text": [
      "100%|██████████| 13/13 [00:39<00:00,  3.05s/it]\n"
     ]
    },
    {
     "data": {
      "text/plain": [
       "192350"
      ]
     },
     "execution_count": 81,
     "metadata": {},
     "output_type": "execute_result"
    }
   ],
   "source": [
    "genes = ['A6', 'A8', 'CO1', 'CO2', 'CO3', 'Cytb', 'ND1', 'ND2', 'ND3', 'ND4', 'ND4L', 'ND5', 'ND6']\n",
    "phylum = \"Chordata\"\n",
    "seqs = collect_seqs(phylum, \"UNIQ\", genes)\n",
    "len(seqs)"
   ]
  },
  {
   "cell_type": "code",
   "execution_count": 82,
   "metadata": {},
   "outputs": [
    {
     "name": "stdout",
     "output_type": "stream",
     "text": [
      "nseqs = 15546, nspecies: 10171\n",
      "\n",
      "A6       504\n",
      "A8       188\n",
      "CO1     5449\n",
      "CO2      202\n",
      "CO3      209\n",
      "Cytb    4977\n",
      "ND1      391\n",
      "ND2     1906\n",
      "ND3      254\n",
      "ND4      836\n",
      "ND4L     121\n",
      "ND5      310\n",
      "ND6      199\n",
      "dtype: int64\n"
     ]
    }
   ],
   "source": [
    "seqs_filtered = filter_seqs(seqs)\n",
    "print(f\"nseqs = {len(seqs_filtered)}, nspecies: {len(set([x.split('__')[1] for x in seqs_filtered.keys()]))}\", end=\"\\n\\n\")\n",
    "print(pd.Series(Counter([x.split(\"__\")[0] for x in seqs_filtered.keys()])))"
   ]
  },
  {
   "cell_type": "code",
   "execution_count": 72,
   "metadata": {},
   "outputs": [
    {
     "data": {
      "text/plain": [
       "262"
      ]
     },
     "execution_count": 72,
     "metadata": {},
     "output_type": "execute_result"
    }
   ],
   "source": [
    "co1_sp = [x.split(\"__\")[1] for x in seqs_filtered.keys() if x.startswith(\"CO1\")]\n",
    "nd1_sp = [x.split(\"__\")[1] for x in seqs_filtered.keys() if x.startswith(\"ND1\")]\n",
    "len(set(co1_sp).intersection(nd1_sp))"
   ]
  },
  {
   "cell_type": "code",
   "execution_count": 66,
   "metadata": {},
   "outputs": [
    {
     "data": {
      "image/png": "[encoded data removed]",
      "text/plain": [
       "<Figure size 1200x400 with 2 Axes>"
      ]
     },
     "metadata": {},
     "output_type": "display_data"
    }
   ],
   "source": [
    "plt.figure(figsize=(12, 4))\n",
    "plt.subplot(121)\n",
    "plt.hist([len(v) for v in seqs.values()], bins=100, alpha=0.7, label=\"all\", color=\"blue\")\n",
    "plt.hist([len(v) for v in seqs_filtered.values()], bins=70, alpha=0.7, label=\"filtered\", color=\"orange\")\n",
    "plt.yscale(\"log\")\n",
    "plt.xlabel(\"species nseqs\")\n",
    "plt.legend()\n",
    "\n",
    "plt.subplot(122)\n",
    "plt.hist([len(v) for v in seqs.values() if len(v) < 500], bins=100, alpha=0.7, label=\"all\", color=\"blue\")\n",
    "plt.hist([len(v) for v in seqs_filtered.values() if len(v) < 500], bins=70, alpha=0.7, label=\"filtered\", color=\"orange\")\n",
    "plt.yscale(\"log\")\n",
    "plt.xlabel(\"species nseqs\")\n",
    "plt.legend()\n",
    "\n",
    "plt.show()"
   ]
  },
  {
   "attachments": {},
   "cell_type": "markdown",
   "metadata": {},
   "source": [
    "### Check genus-wise species distribution"
   ]
  },
  {
   "cell_type": "code",
   "execution_count": 122,
   "metadata": {},
   "outputs": [
    {
     "name": "stderr",
     "output_type": "stream",
     "text": [
      "100%|██████████| 13/13 [00:16<00:00,  1.29s/it]\n"
     ]
    }
   ],
   "source": [
    "genes = ['A6', 'A8', 'CO1', 'CO2', 'CO3', 'Cytb', 'ND1', 'ND2', 'ND3', 'ND4', 'ND4L', 'ND5', 'ND6']\n",
    "phylum = \"Chordata\"\n",
    "seqs_longest = collect_seqs(phylum, \"LONGEST\", genes, sp=True)"
   ]
  },
  {
   "cell_type": "code",
   "execution_count": 123,
   "metadata": {},
   "outputs": [
    {
     "data": {
      "text/plain": [
       "'Branchiostoma belcheri 8821.9504 ###Chordata_7711;Leptocardii_2682552;Amphioxiformes_2682553;Branchiostomatidae_7736;Branchiostoma_7737;Branchiostoma_belcheri_7741'"
      ]
     },
     "execution_count": 123,
     "metadata": {},
     "output_type": "execute_result"
    }
   ],
   "source": [
    "seqs_longest[\"A6__Branchiostoma_belcheri\"][0].description"
   ]
  },
  {
   "cell_type": "code",
   "execution_count": 126,
   "metadata": {},
   "outputs": [],
   "source": [
    "data_taxa = []\n",
    "for gene_sp, seqs in seqs_longest.items():\n",
    "    raw_taxonomy = seqs[0].description.split(\"###\")[1]\n",
    "    phyl, clss, order, fam, genus, sp = [\"_\".join(x.split(\"_\")[:-1]) for x in raw_taxonomy.split(\";\")]\n",
    "    data_taxa.append(dict(gene=gene_sp.split('__')[0], clss=clss, order=order, fam=fam, genus=genus, sp=sp))\n",
    "taxa = pd.DataFrame(data_taxa)"
   ]
  },
  {
   "cell_type": "code",
   "execution_count": 127,
   "metadata": {},
   "outputs": [
    {
     "data": {
      "text/html": [
       "<div>\n",
       "<style scoped>\n",
       "    .dataframe tbody tr th:only-of-type {\n",
       "        vertical-align: middle;\n",
       "    }\n",
       "\n",
       "    .dataframe tbody tr th {\n",
       "        vertical-align: top;\n",
       "    }\n",
       "\n",
       "    .dataframe thead th {\n",
       "        text-align: right;\n",
       "    }\n",
       "</style>\n",
       "<table border=\"1\" class=\"dataframe\">\n",
       "  <thead>\n",
       "    <tr style=\"text-align: right;\">\n",
       "      <th></th>\n",
       "      <th>gene</th>\n",
       "      <th>clss</th>\n",
       "      <th>order</th>\n",
       "      <th>fam</th>\n",
       "      <th>genus</th>\n",
       "      <th>sp</th>\n",
       "    </tr>\n",
       "  </thead>\n",
       "  <tbody>\n",
       "    <tr>\n",
       "      <th>0</th>\n",
       "      <td>A6</td>\n",
       "      <td>Leptocardii</td>\n",
       "      <td>Amphioxiformes</td>\n",
       "      <td>Branchiostomatidae</td>\n",
       "      <td>Asymmetron</td>\n",
       "      <td>Asymmetron_sp__A_TK_2007</td>\n",
       "    </tr>\n",
       "    <tr>\n",
       "      <th>1</th>\n",
       "      <td>A6</td>\n",
       "      <td>Leptocardii</td>\n",
       "      <td>Amphioxiformes</td>\n",
       "      <td>Branchiostomatidae</td>\n",
       "      <td>Asymmetron</td>\n",
       "      <td>Asymmetron_inferum</td>\n",
       "    </tr>\n",
       "    <tr>\n",
       "      <th>2</th>\n",
       "      <td>A6</td>\n",
       "      <td>Leptocardii</td>\n",
       "      <td>Amphioxiformes</td>\n",
       "      <td>Branchiostomatidae</td>\n",
       "      <td>Asymmetron</td>\n",
       "      <td>Asymmetron_lucayanum</td>\n",
       "    </tr>\n",
       "    <tr>\n",
       "      <th>3</th>\n",
       "      <td>A6</td>\n",
       "      <td>Leptocardii</td>\n",
       "      <td>Amphioxiformes</td>\n",
       "      <td>Branchiostomatidae</td>\n",
       "      <td>Branchiostoma</td>\n",
       "      <td>Branchiostoma_belcheri</td>\n",
       "    </tr>\n",
       "    <tr>\n",
       "      <th>4</th>\n",
       "      <td>A6</td>\n",
       "      <td>Leptocardii</td>\n",
       "      <td>Amphioxiformes</td>\n",
       "      <td>Branchiostomatidae</td>\n",
       "      <td>Branchiostoma</td>\n",
       "      <td>Branchiostoma_floridae</td>\n",
       "    </tr>\n",
       "    <tr>\n",
       "      <th>...</th>\n",
       "      <td>...</td>\n",
       "      <td>...</td>\n",
       "      <td>...</td>\n",
       "      <td>...</td>\n",
       "      <td>...</td>\n",
       "      <td>...</td>\n",
       "    </tr>\n",
       "    <tr>\n",
       "      <th>222495</th>\n",
       "      <td>ND6</td>\n",
       "      <td>Ascidiacea</td>\n",
       "      <td>Stolidobranchia</td>\n",
       "      <td>Styelidae</td>\n",
       "      <td>Polycarpa</td>\n",
       "      <td>Polycarpa_mytiligera</td>\n",
       "    </tr>\n",
       "    <tr>\n",
       "      <th>222496</th>\n",
       "      <td>ND6</td>\n",
       "      <td>Ascidiacea</td>\n",
       "      <td>Stolidobranchia</td>\n",
       "      <td>Styelidae</td>\n",
       "      <td>Styela</td>\n",
       "      <td>Styela_clava</td>\n",
       "    </tr>\n",
       "    <tr>\n",
       "      <th>222497</th>\n",
       "      <td>ND6</td>\n",
       "      <td>Ascidiacea</td>\n",
       "      <td>Stolidobranchia</td>\n",
       "      <td>Styelidae</td>\n",
       "      <td>Styela</td>\n",
       "      <td>Styela_plicata</td>\n",
       "    </tr>\n",
       "    <tr>\n",
       "      <th>222498</th>\n",
       "      <td>ND6</td>\n",
       "      <td>Thaliacea</td>\n",
       "      <td>Salpida</td>\n",
       "      <td>Salpidae</td>\n",
       "      <td>Salpa</td>\n",
       "      <td>Salpa_fusiformis</td>\n",
       "    </tr>\n",
       "    <tr>\n",
       "      <th>222499</th>\n",
       "      <td>ND6</td>\n",
       "      <td>Thaliacea</td>\n",
       "      <td>Salpida</td>\n",
       "      <td>Salpidae</td>\n",
       "      <td>Salpa</td>\n",
       "      <td>Salpa_thompsoni</td>\n",
       "    </tr>\n",
       "  </tbody>\n",
       "</table>\n",
       "<p>222500 rows × 6 columns</p>\n",
       "</div>"
      ],
      "text/plain": [
       "       gene         clss            order                 fam          genus  \\\n",
       "0        A6  Leptocardii   Amphioxiformes  Branchiostomatidae     Asymmetron   \n",
       "1        A6  Leptocardii   Amphioxiformes  Branchiostomatidae     Asymmetron   \n",
       "2        A6  Leptocardii   Amphioxiformes  Branchiostomatidae     Asymmetron   \n",
       "3        A6  Leptocardii   Amphioxiformes  Branchiostomatidae  Branchiostoma   \n",
       "4        A6  Leptocardii   Amphioxiformes  Branchiostomatidae  Branchiostoma   \n",
       "...     ...          ...              ...                 ...            ...   \n",
       "222495  ND6   Ascidiacea  Stolidobranchia           Styelidae      Polycarpa   \n",
       "222496  ND6   Ascidiacea  Stolidobranchia           Styelidae         Styela   \n",
       "222497  ND6   Ascidiacea  Stolidobranchia           Styelidae         Styela   \n",
       "222498  ND6    Thaliacea          Salpida            Salpidae          Salpa   \n",
       "222499  ND6    Thaliacea          Salpida            Salpidae          Salpa   \n",
       "\n",
       "                              sp  \n",
       "0       Asymmetron_sp__A_TK_2007  \n",
       "1             Asymmetron_inferum  \n",
       "2           Asymmetron_lucayanum  \n",
       "3         Branchiostoma_belcheri  \n",
       "4         Branchiostoma_floridae  \n",
       "...                          ...  \n",
       "222495      Polycarpa_mytiligera  \n",
       "222496              Styela_clava  \n",
       "222497            Styela_plicata  \n",
       "222498          Salpa_fusiformis  \n",
       "222499           Salpa_thompsoni  \n",
       "\n",
       "[222500 rows x 6 columns]"
      ]
     },
     "execution_count": 127,
     "metadata": {},
     "output_type": "execute_result"
    }
   ],
   "source": [
    "taxa"
   ]
  },
  {
   "cell_type": "code",
   "execution_count": 132,
   "metadata": {},
   "outputs": [
    {
     "data": {
      "text/plain": [
       "gene  genus                                                      \n",
       "A6    Abalistes                                                      1\n",
       "      Abantennarius                                                  1\n",
       "      Ablennes                                                       1\n",
       "      Aborichthys                                                    1\n",
       "      Abramis                                                        1\n",
       "                                                                    ..\n",
       "ND6   genus_Tachysurus_fulvidraco_x_Leiocassis_longirostris          1\n",
       "      genus_diploid_Megalobrama_amblycephala_x_Xenocypris_davidi     1\n",
       "      genus_diploid_Xenocypris_davidi_x_Megalobrama_amblycephala     1\n",
       "      genus_natural_gynogenetic_Carassius_auratus_red_var.           1\n",
       "      genus_triploid_Megalobrama_amblycephala_x_Xenocypris_davidi    1\n",
       "Name: genus, Length: 38440, dtype: int64"
      ]
     },
     "execution_count": 132,
     "metadata": {},
     "output_type": "execute_result"
    }
   ],
   "source": [
    "a = taxa.groupby(\"gene\").genus.value_counts()\n",
    "a[a==1]"
   ]
  },
  {
   "cell_type": "code",
   "execution_count": 134,
   "metadata": {},
   "outputs": [
    {
     "data": {
      "text/plain": [
       "gene  fam                                                               \n",
       "A6    Aenigmachannidae                                                      1\n",
       "      Ailiidae                                                              1\n",
       "      Amarsipidae                                                           1\n",
       "      Amiidae                                                               1\n",
       "      Amphiumidae                                                           1\n",
       "                                                                           ..\n",
       "ND6   family_genus_Squaliobarbus_curriculus_x_Ctenopharyngodon_idella       1\n",
       "      family_genus_diploid_Megalobrama_amblycephala_x_Xenocypris_davidi     1\n",
       "      family_genus_diploid_Xenocypris_davidi_x_Megalobrama_amblycephala     1\n",
       "      family_genus_natural_gynogenetic_Carassius_auratus_red_var.           1\n",
       "      family_genus_triploid_Megalobrama_amblycephala_x_Xenocypris_davidi    1\n",
       "Name: fam, Length: 4116, dtype: int64"
      ]
     },
     "execution_count": 134,
     "metadata": {},
     "output_type": "execute_result"
    }
   ],
   "source": [
    "a = taxa.groupby(\"gene\").fam.value_counts()\n",
    "a[a==1]"
   ]
  },
  {
   "cell_type": "code",
   "execution_count": null,
   "metadata": {},
   "outputs": [],
   "source": []
  },
  {
   "cell_type": "code",
   "execution_count": null,
   "metadata": {},
   "outputs": [],
   "source": []
  },
  {
   "cell_type": "code",
   "execution_count": null,
   "metadata": {},
   "outputs": [],
   "source": []
  },
  {
   "cell_type": "code",
   "execution_count": null,
   "metadata": {},
   "outputs": [],
   "source": []
  },
  {
   "cell_type": "code",
   "execution_count": null,
   "metadata": {},
   "outputs": [],
   "source": []
  }
 ],
 "metadata": {
  "kernelspec": {
   "display_name": "env_bio",
   "language": "python",
   "name": "python3"
  },
  "language_info": {
   "codemirror_mode": {
    "name": "ipython",
    "version": 3
   },
   "file_extension": ".py",
   "mimetype": "text/x-python",
   "name": "python",
   "nbconvert_exporter": "python",
   "pygments_lexer": "ipython3",
   "version": "3.9.13"
  },
  "orig_nbformat": 4
 },
 "nbformat": 4,
 "nbformat_minor": 2
}
