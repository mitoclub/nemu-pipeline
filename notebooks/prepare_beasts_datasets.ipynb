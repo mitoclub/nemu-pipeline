{
 "cells": [
  {
   "cell_type": "code",
   "execution_count": 1,
   "metadata": {},
   "outputs": [],
   "source": [
    "import glob, os, sys, re, random\n",
    "from collections import defaultdict, Counter\n",
    "\n",
    "import numpy as np\n",
    "import pandas as pd\n",
    "import matplotlib.pyplot as plt\n",
    "import ete3\n",
    "from ete3 import PhyloTree\n",
    "from Bio import SeqIO\n",
    "import tqdm"
   ]
  },
  {
   "cell_type": "code",
   "execution_count": 2,
   "metadata": {},
   "outputs": [],
   "source": [
    "def collect_seqs(pattern: str, label: str, genes: list, sp=False):\n",
    "    directory = \"../data/MIDORI2/fasta/\"\n",
    "    file = \"MIDORI2_{}_NUC_SP_GB253_{}_BLAST.fasta\" if sp else \"MIDORI2_{}_NUC_GB253_{}_BLAST.fasta\"\n",
    "    path_to_fasta = directory + file\n",
    "    seqs = defaultdict(list)\n",
    "    for gene in tqdm.tqdm(genes):\n",
    "        inp = path_to_fasta.format(label, gene)\n",
    "        for rec in SeqIO.parse(inp, \"fasta\"):\n",
    "            header = rec.description\n",
    "            \n",
    "            if pattern not in header:\n",
    "                continue\n",
    "\n",
    "            raw_acc, taxa = header.split(\"###\")\n",
    "            acc, place = re.match(\"(\\w+\\.\\d)\\.(.+)\", raw_acc).groups()\n",
    "            taxa = taxa.removeprefix(\"root_1;Eukaryota_2759;\")\n",
    "            species = \" \".join(taxa.split(\";\")[-1].split(\"_\")[:-1])\n",
    "            rec.id = acc\n",
    "            rec.description = f\"{species} {place} ###{taxa}\"\n",
    "            seqs[gene + \"__\" + species.replace(\" \", \"_\")].append(rec)\n",
    "    return seqs\n",
    "\n",
    "\n",
    "def filter_seqs(recs: list, var_gene_len=0.2, Nshare=0.2):\n",
    "    assert isinstance(recs, list)\n",
    "    seq_len_mean = np.median([len(x) for x in recs])\n",
    "    min_seq_len = seq_len_mean * (1 - var_gene_len)\n",
    "    max_seq_len = seq_len_mean * (1 + var_gene_len)\n",
    "\n",
    "    recs_filtered = []\n",
    "    for rec in recs:\n",
    "        acgt_share = sum(rec.seq.count(x) for x in \"ACGT\") / len(rec)\n",
    "        if min_seq_len < len(rec) < max_seq_len and 1 - acgt_share < Nshare:\n",
    "            recs_filtered.append(rec)\n",
    "\n",
    "    return recs_filtered\n",
    "\n",
    "\n",
    "def filter_seqs_dict(seqs, nseqs_min=10, var_gene_len=0.2, Nshare=0.2):\n",
    "    assert isinstance(seqs, dict)\n",
    "    seqs_filtered = dict()\n",
    "    for gene_species, recs in seqs.items():\n",
    "        if len(recs) < nseqs_min:\n",
    "            continue\n",
    "\n",
    "        recs_filtered = filter_seqs(recs, var_gene_len, Nshare)\n",
    "        if len(recs_filtered) >= nseqs_min:\n",
    "            seqs_filtered[gene_species] = recs_filtered\n",
    "    \n",
    "    return seqs_filtered"
   ]
  },
  {
   "attachments": {},
   "cell_type": "markdown",
   "metadata": {},
   "source": [
    "## *Hominidae*"
   ]
  },
  {
   "cell_type": "markdown",
   "metadata": {},
   "source": [
    "### CYTB"
   ]
  },
  {
   "cell_type": "code",
   "execution_count": 8,
   "metadata": {},
   "outputs": [
    {
     "name": "stderr",
     "output_type": "stream",
     "text": [
      "100%|██████████| 1/1 [00:04<00:00,  4.34s/it]"
     ]
    },
    {
     "name": "stdout",
     "output_type": "stream",
     "text": [
      "['Cytb__Gorilla_beringei', 'Cytb__Gorilla_gorilla', 'Cytb__Homo_heidelbergensis', 'Cytb__Homo_sapiens', 'Cytb__Pan_paniscus', 'Cytb__Pan_troglodytes', 'Cytb__Pongo_abelii', 'Cytb__Pongo_pygmaeus']\n",
      "Cytb__Gorilla_beringei 8\n",
      "Cytb__Gorilla_gorilla 1\n",
      "Cytb__Homo_heidelbergensis 1\n",
      "Cytb__Homo_sapiens 5703\n",
      "Sample 300 seqs\n",
      "Cytb__Pan_paniscus 19\n",
      "Cytb__Pan_troglodytes 10\n",
      "Cytb__Pongo_abelii 10\n",
      "Cytb__Pongo_pygmaeus 9\n"
     ]
    },
    {
     "name": "stderr",
     "output_type": "stream",
     "text": [
      "\n"
     ]
    }
   ],
   "source": [
    "pattern = \"Hominidae_9604\"\n",
    "seqs = collect_seqs(pattern, \"UNIQ\", ['Cytb'])\n",
    "seqs_filtered = filter_seqs_dict(seqs, 1, 0.05)\n",
    "print(list(seqs_filtered.keys()))\n",
    "\n",
    "MAX_SP_NSEQS = 300\n",
    "cytb_recs = []\n",
    "for gene_sp, recs in seqs_filtered.items():\n",
    "    print(gene_sp, len(recs))\n",
    "    if len(recs) > MAX_SP_NSEQS:\n",
    "        print(f\"Sample {MAX_SP_NSEQS} seqs\")\n",
    "        recs = random.sample(recs, MAX_SP_NSEQS)\n",
    "    cytb_recs.extend(recs)\n",
    "\n",
    "cytb_recs_filtered = filter_seqs(cytb_recs, 0.1)"
   ]
  },
  {
   "cell_type": "code",
   "execution_count": 11,
   "metadata": {},
   "outputs": [],
   "source": [
    "gagp_cytb = filter_seqs([x for x in SeqIO.parse(\"../data/GAGP/genes/CYTB.fna\", \"fasta\")], 0.1)"
   ]
  },
  {
   "cell_type": "code",
   "execution_count": 15,
   "metadata": {},
   "outputs": [
    {
     "name": "stdout",
     "output_type": "stream",
     "text": [
      "44\n"
     ]
    },
    {
     "data": {
      "text/plain": [
       "(366, 328)"
      ]
     },
     "execution_count": 15,
     "metadata": {},
     "output_type": "execute_result"
    }
   ],
   "source": [
    "cytb_collection = []\n",
    "visited = set()\n",
    "ndropped = 0\n",
    "for rec in cytb_recs_filtered + gagp_cytb:\n",
    "    h = hash(rec.seq)\n",
    "    if h not in visited:\n",
    "        cytb_collection.append(rec)\n",
    "        visited.add(h)\n",
    "    else:\n",
    "        ndropped += 1\n",
    "\n",
    "print(ndropped)\n",
    "len(cytb_collection), len(cytb_recs_filtered)"
   ]
  },
  {
   "cell_type": "code",
   "execution_count": 21,
   "metadata": {},
   "outputs": [
    {
     "data": {
      "text/plain": [
       "366"
      ]
     },
     "execution_count": 21,
     "metadata": {},
     "output_type": "execute_result"
    }
   ],
   "source": [
    "SeqIO.write(cytb_collection, \"../data/HOMINIDAE/genes/CYTB.fna\", \"fasta-2line\")"
   ]
  },
  {
   "cell_type": "code",
   "execution_count": 29,
   "metadata": {},
   "outputs": [
    {
     "data": {
      "image/png": "[encoded data removed]",
      "text/plain": [
       "<Figure size 400x200 with 1 Axes>"
      ]
     },
     "metadata": {},
     "output_type": "display_data"
    }
   ],
   "source": [
    "plt.figure(figsize=(4, 2))\n",
    "plt.hist([len(x) for x in cytb_collection], bins=50);"
   ]
  },
  {
   "cell_type": "markdown",
   "metadata": {},
   "source": [
    "### ND1"
   ]
  },
  {
   "cell_type": "code",
   "execution_count": 19,
   "metadata": {},
   "outputs": [
    {
     "name": "stderr",
     "output_type": "stream",
     "text": [
      "100%|██████████| 1/1 [00:00<00:00,  1.18it/s]"
     ]
    },
    {
     "name": "stdout",
     "output_type": "stream",
     "text": [
      "['ND1__Gorilla_beringei', 'ND1__Gorilla_gorilla', 'ND1__Homo_heidelbergensis', 'ND1__Homo_sapiens', 'ND1__Pan_paniscus', 'ND1__Pan_troglodytes', 'ND1__Pongo_abelii', 'ND1__Pongo_pygmaeus']\n",
      "ND1__Gorilla_beringei 4\n",
      "ND1__Gorilla_gorilla 6\n",
      "ND1__Homo_heidelbergensis 1\n",
      "ND1__Homo_sapiens 3771\n",
      "Sample 300 seqs\n",
      "ND1__Pan_paniscus 31\n",
      "ND1__Pan_troglodytes 96\n",
      "ND1__Pongo_abelii 3\n",
      "ND1__Pongo_pygmaeus 4\n"
     ]
    },
    {
     "name": "stderr",
     "output_type": "stream",
     "text": [
      "\n"
     ]
    }
   ],
   "source": [
    "pattern = \"Hominidae_9604\"\n",
    "seqs = collect_seqs(pattern, \"UNIQ\", ['ND1'])\n",
    "seqs_filtered = filter_seqs_dict(seqs, 1, 0.1)\n",
    "print(list(seqs_filtered.keys()))\n",
    "\n",
    "MAX_SP_NSEQS = 300\n",
    "nd1_recs = []\n",
    "for gene_sp, recs in seqs_filtered.items():\n",
    "    print(gene_sp, len(recs))\n",
    "    if len(recs) > MAX_SP_NSEQS:\n",
    "        print(f\"Sample {MAX_SP_NSEQS} seqs\")\n",
    "        recs = random.sample(recs, MAX_SP_NSEQS)\n",
    "    nd1_recs.extend(recs)\n",
    "\n",
    "nd1_recs_filtered = filter_seqs(nd1_recs, 0.1)"
   ]
  },
  {
   "cell_type": "code",
   "execution_count": 18,
   "metadata": {},
   "outputs": [],
   "source": [
    "gagp_nd1 = filter_seqs([x for x in SeqIO.parse(\"../data/GAGP/genes/ND1.fna\", \"fasta\")], 0.1)"
   ]
  },
  {
   "cell_type": "code",
   "execution_count": 26,
   "metadata": {},
   "outputs": [
    {
     "name": "stdout",
     "output_type": "stream",
     "text": [
      "58\n"
     ]
    },
    {
     "data": {
      "text/plain": [
       "(469, 445)"
      ]
     },
     "execution_count": 26,
     "metadata": {},
     "output_type": "execute_result"
    }
   ],
   "source": [
    "nd1_collection = []\n",
    "visited = set()\n",
    "ndropped = 0\n",
    "for rec in nd1_recs_filtered + gagp_nd1:\n",
    "    h = hash(rec.seq)\n",
    "    if h not in visited:\n",
    "        nd1_collection.append(rec)\n",
    "        visited.add(h)\n",
    "    else:\n",
    "        ndropped += 1\n",
    "\n",
    "print(ndropped)\n",
    "len(nd1_collection), len(nd1_recs_filtered)"
   ]
  },
  {
   "cell_type": "code",
   "execution_count": 27,
   "metadata": {},
   "outputs": [
    {
     "data": {
      "text/plain": [
       "469"
      ]
     },
     "execution_count": 27,
     "metadata": {},
     "output_type": "execute_result"
    }
   ],
   "source": [
    "SeqIO.write(nd1_collection, \"../data/HOMINIDAE/genes/ND1.fna\", \"fasta-2line\")"
   ]
  },
  {
   "cell_type": "code",
   "execution_count": 30,
   "metadata": {},
   "outputs": [
    {
     "data": {
      "image/png": "[encoded data removed]",
      "text/plain": [
       "<Figure size 400x200 with 1 Axes>"
      ]
     },
     "metadata": {},
     "output_type": "display_data"
    }
   ],
   "source": [
    "plt.figure(figsize=(4, 2))\n",
    "plt.hist([len(x) for x in nd1_collection], bins=50);"
   ]
  },
  {
   "attachments": {},
   "cell_type": "markdown",
   "metadata": {},
   "source": [
    "## *Mus* genus"
   ]
  },
  {
   "attachments": {},
   "cell_type": "markdown",
   "metadata": {},
   "source": [
    "### CYTB"
   ]
  },
  {
   "cell_type": "code",
   "execution_count": 80,
   "metadata": {},
   "outputs": [
    {
     "name": "stderr",
     "output_type": "stream",
     "text": [
      "100%|██████████| 1/1 [00:04<00:00,  4.33s/it]"
     ]
    },
    {
     "name": "stdout",
     "output_type": "stream",
     "text": [
      "['Cytb__Mus_crociduroides', 'Cytb__Mus_mayori', 'Cytb__Mus_pahari', 'Cytb__Mus_booduga', 'Cytb__Mus_caroli', 'Cytb__Mus_cervicolor', 'Cytb__Mus_cookii', 'Cytb__Mus_cypriacus', 'Cytb__Mus_famulus', 'Cytb__Mus_fragilicauda', 'Cytb__Mus_lepidoides', 'Cytb__Mus_macedonicus', 'Cytb__Mus_musculus', 'Cytb__Mus_nitidulus', 'Cytb__Mus_poschiavinus', 'Cytb__Mus_spicilegus', 'Cytb__Mus_spretus', 'Cytb__Mus_terricolor', 'Cytb__Mus_triton', 'Cytb__Mus_baoulei', 'Cytb__Mus_callewaerti', 'Cytb__Mus_harennensis', 'Cytb__Mus_haussa', 'Cytb__Mus_indutus', 'Cytb__Mus_mahomet', 'Cytb__Mus_mattheyi', 'Cytb__Mus_minutoides', 'Cytb__Mus_musculoides', 'Cytb__Mus_neavei', 'Cytb__Mus_setulosus', 'Cytb__Mus_sorella', 'Cytb__Mus_tenellus', 'Cytb__Mus_fernandoni', 'Cytb__Mus_platythrix', 'Cytb__Mus_saxicola']\n",
      "Cytb__Mus_musculus\n",
      "Cytb__Mus_spretus\n"
     ]
    },
    {
     "name": "stderr",
     "output_type": "stream",
     "text": [
      "\n"
     ]
    },
    {
     "data": {
      "text/plain": [
       "445"
      ]
     },
     "execution_count": 80,
     "metadata": {},
     "output_type": "execute_result"
    }
   ],
   "source": [
    "pattern = \"Mus_10088\"\n",
    "seqs = collect_seqs(pattern, \"UNIQ\", ['Cytb'])\n",
    "seqs_filtered = filter_seqs_dict(seqs, 1, 0.05)\n",
    "print(list(seqs_filtered.keys()))\n",
    "\n",
    "MAX_SP_NSEQS = 100\n",
    "cytb_recs = []\n",
    "for gene_sp, recs in seqs_filtered.items():\n",
    "    if len(recs) > MAX_SP_NSEQS:\n",
    "        print(gene_sp)\n",
    "        recs = random.sample(recs, MAX_SP_NSEQS)\n",
    "    cytb_recs.extend(recs)\n",
    "\n",
    "cytb_recs_filtered = filter_seqs(cytb_recs, 0.1)\n",
    "\n",
    "SeqIO.write(cytb_recs_filtered, \"../data/MUS/genes/CYTB.fna\", \"fasta-2line\")"
   ]
  },
  {
   "cell_type": "code",
   "execution_count": 78,
   "metadata": {},
   "outputs": [
    {
     "data": {
      "image/png": "[encoded data removed]",
      "text/plain": [
       "<Figure size 400x200 with 1 Axes>"
      ]
     },
     "metadata": {},
     "output_type": "display_data"
    }
   ],
   "source": [
    "plt.figure(figsize=(4, 2))\n",
    "plt.hist([len(x) for x in cytb_recs], bins=50);"
   ]
  },
  {
   "attachments": {},
   "cell_type": "markdown",
   "metadata": {},
   "source": [
    "### ND1"
   ]
  },
  {
   "cell_type": "code",
   "execution_count": 75,
   "metadata": {},
   "outputs": [
    {
     "name": "stderr",
     "output_type": "stream",
     "text": [
      "100%|██████████| 1/1 [00:00<00:00,  1.30it/s]"
     ]
    },
    {
     "name": "stdout",
     "output_type": "stream",
     "text": [
      "['ND1__Mus_pahari', 'ND1__Mus_caroli', 'ND1__Mus_cervicolor', 'ND1__Mus_cookii', 'ND1__Mus_famulus', 'ND1__Mus_fragilicauda', 'ND1__Mus_musculus', 'ND1__Mus_spretus', 'ND1__Mus_terricolor', 'ND1__Mus_baoulei', 'ND1__Mus_saxicola']\n"
     ]
    },
    {
     "name": "stderr",
     "output_type": "stream",
     "text": [
      "\n"
     ]
    },
    {
     "data": {
      "text/plain": [
       "106"
      ]
     },
     "execution_count": 75,
     "metadata": {},
     "output_type": "execute_result"
    }
   ],
   "source": [
    "pattern = \"Mus_10088\"\n",
    "seqs = collect_seqs(pattern, \"UNIQ\", ['ND1'])\n",
    "seqs_filtered = filter_seqs_dict(seqs, 1, 0.1)\n",
    "print(list(seqs_filtered.keys()))\n",
    "\n",
    "MAX_SP_NSEQS = 100\n",
    "cytb_recs = []\n",
    "for gene_sp, recs in seqs_filtered.items():\n",
    "    if len(recs) > MAX_SP_NSEQS:\n",
    "        print(gene_sp)\n",
    "        recs = random.sample(recs, MAX_SP_NSEQS)\n",
    "    cytb_recs.extend(recs)\n",
    "\n",
    "cytb_recs_filtered = filter_seqs(cytb_recs, 0.1)\n",
    "\n",
    "SeqIO.write(cytb_recs_filtered, \"../data/MUS/genes/ND1.fna\", \"fasta-2line\")"
   ]
  },
  {
   "cell_type": "code",
   "execution_count": 76,
   "metadata": {},
   "outputs": [
    {
     "data": {
      "image/png": "[encoded data removed]",
      "text/plain": [
       "<Figure size 400x200 with 1 Axes>"
      ]
     },
     "metadata": {},
     "output_type": "display_data"
    }
   ],
   "source": [
    "plt.figure(figsize=(4, 2))\n",
    "plt.hist([len(x) for x in cytb_recs], bins=50);"
   ]
  },
  {
   "cell_type": "code",
   "execution_count": null,
   "metadata": {},
   "outputs": [],
   "source": []
  },
  {
   "attachments": {},
   "cell_type": "markdown",
   "metadata": {},
   "source": [
    "## *Mus musculus* & *Mus spretus*"
   ]
  },
  {
   "cell_type": "code",
   "execution_count": 44,
   "metadata": {},
   "outputs": [
    {
     "name": "stderr",
     "output_type": "stream",
     "text": [
      "100%|██████████| 2/2 [00:05<00:00,  2.53s/it]\n",
      "100%|██████████| 2/2 [00:05<00:00,  2.53s/it]\n"
     ]
    }
   ],
   "source": [
    "genes = ['Cytb', 'ND1']\n",
    "pattern1 = \"Mus_musculus\"\n",
    "seqs1 = collect_seqs(pattern1, \"UNIQ\", genes)\n",
    "seqs1_filtered = filter_seqs(seqs1, 1)\n",
    "\n",
    "pattern2 = \"Mus_spretus\"\n",
    "seqs2 = collect_seqs(pattern2, \"UNIQ\", genes)\n",
    "seqs2_filtered = filter_seqs(seqs2, 1)"
   ]
  },
  {
   "cell_type": "code",
   "execution_count": 55,
   "metadata": {},
   "outputs": [
    {
     "data": {
      "text/plain": [
       "[SeqRecord(seq=Seq('GTGTTCTTTATCAACATTTTAACACTCCTCCTACCTATCCTAATCGCTATGGCT...TAT'), id='MW209725.1', name='MW209725.1.2746.3700###root_1;Eukaryota_2759;Chordata_7711;Mammalia_40674;Rodentia_9989;Muridae_10066;Mus_10088;Mus_spretus_10096', description='Mus spretus 2746.3700 ###Chordata_7711;Mammalia_40674;Rodentia_9989;Muridae_10066;Mus_10088;Mus_spretus_10096', dbxrefs=[]),\n",
       " SeqRecord(seq=Seq('GTGTTCTTTATCAACATTTTAACACTCCTCCTACCTATCCTAATCGCTATGGCT...TAT'), id='KY018921.1', name='KY018921.1.2749.3703###root_1;Eukaryota_2759;Chordata_7711;Mammalia_40674;Rodentia_9989;Muridae_10066;Mus_10088;Mus_spretus_10096', description='Mus spretus 2749.3703 ###Chordata_7711;Mammalia_40674;Rodentia_9989;Muridae_10066;Mus_10088;Mus_spretus_10096', dbxrefs=[])]"
      ]
     },
     "execution_count": 55,
     "metadata": {},
     "output_type": "execute_result"
    }
   ],
   "source": [
    "seqs2_filtered[\"ND1__Mus_spretus\"]"
   ]
  },
  {
   "cell_type": "code",
   "execution_count": 53,
   "metadata": {},
   "outputs": [
    {
     "data": {
      "text/plain": [
       "dict_keys(['Cytb__Mus_spretus', 'ND1__Mus_spretus'])"
      ]
     },
     "execution_count": 53,
     "metadata": {},
     "output_type": "execute_result"
    }
   ],
   "source": [
    "seqs2_filtered.keys()"
   ]
  },
  {
   "cell_type": "code",
   "execution_count": 56,
   "metadata": {},
   "outputs": [],
   "source": [
    "nd1 = []\n",
    "g = \"ND1\"\n",
    "for p, s in zip([pattern1, pattern2], [seqs1_filtered, seqs2_filtered]):\n",
    "    for r in s[g+ \"__\" + p]:\n",
    "        nd1.append(r)\n",
    "\n",
    "cytb = []\n",
    "g = \"Cytb\"\n",
    "for p, s in zip([pattern1, pattern2], [seqs1_filtered, seqs2_filtered]):\n",
    "    for r in s[g+ \"__\" + p]:\n",
    "        cytb.append(r)"
   ]
  },
  {
   "cell_type": "code",
   "execution_count": 60,
   "metadata": {},
   "outputs": [
    {
     "name": "stdout",
     "output_type": "stream",
     "text": [
      "nseqs = 769\n",
      "nseqs = 93\n"
     ]
    }
   ],
   "source": [
    "print(f\"nseqs = {len(cytb)}\")\n",
    "print(f\"nseqs = {len(nd1)}\")"
   ]
  },
  {
   "cell_type": "code",
   "execution_count": 61,
   "metadata": {},
   "outputs": [
    {
     "data": {
      "text/plain": [
       "769"
      ]
     },
     "execution_count": 61,
     "metadata": {},
     "output_type": "execute_result"
    }
   ],
   "source": [
    "SeqIO.write(nd1, \"../data/exposure/mus_nd1/seqs.fasta\", \"fasta-2line\")\n",
    "SeqIO.write(cytb, \"../data/exposure/mus_cytb/seqs.fasta\", \"fasta-2line\")"
   ]
  },
  {
   "cell_type": "markdown",
   "metadata": {},
   "source": [
    "## *Arthropoda*"
   ]
  },
  {
   "cell_type": "code",
   "execution_count": null,
   "metadata": {},
   "outputs": [],
   "source": [
    "genes = ['A6', 'A8', 'CO1', 'CO2', 'CO3', 'Cytb', 'ND1', 'ND2', 'ND3', 'ND4', 'ND4L', 'ND5', 'ND6']\n",
    "phylum = \"Arthropoda\"\n",
    "seqs_arth = collect_seqs(phylum, \"UNIQ\", genes)\n",
    "len(seqs_arth)"
   ]
  },
  {
   "cell_type": "code",
   "execution_count": 26,
   "metadata": {},
   "outputs": [
    {
     "name": "stdout",
     "output_type": "stream",
     "text": [
      "nseqs = 19172, nspecies: 17676\n",
      "\n",
      "A6         65\n",
      "A8         24\n",
      "CO1     17116\n",
      "CO2       723\n",
      "CO3        73\n",
      "Cytb      549\n",
      "ND1       151\n",
      "ND2        83\n",
      "ND3        28\n",
      "ND4        82\n",
      "ND4L       22\n",
      "ND5       211\n",
      "ND6        45\n",
      "dtype: int64\n"
     ]
    }
   ],
   "source": [
    "seqs_arth_filtered = filter_seqs(seqs_arth)\n",
    "print(f\"nseqs = {len(seqs_arth_filtered)}, nspecies: {len(set([x.split('__')[1] for x in seqs_arth_filtered.keys()]))}\", end=\"\\n\\n\")\n",
    "print(pd.Series(Counter([x.split(\"__\")[0] for x in seqs_arth_filtered.keys()])))"
   ]
  },
  {
   "cell_type": "code",
   "execution_count": 29,
   "metadata": {},
   "outputs": [
    {
     "data": {
      "image/png": "[encoded data removed]",
      "text/plain": [
       "<Figure size 1200x400 with 2 Axes>"
      ]
     },
     "metadata": {},
     "output_type": "display_data"
    }
   ],
   "source": [
    "plt.figure(figsize=(12, 4))\n",
    "plt.subplot(121)\n",
    "plt.hist([len(v) for v in seqs_arth.values()], bins=100, alpha=0.7, label=\"all\", color=\"blue\")\n",
    "plt.hist([len(v) for v in seqs_arth_filtered.values()], bins=70, alpha=0.7, label=\"filtered\", color=\"orange\")\n",
    "plt.yscale(\"log\")\n",
    "plt.xlabel(\"species nseqs\")\n",
    "plt.legend()\n",
    "\n",
    "plt.subplot(122)\n",
    "plt.hist([len(v) for v in seqs_arth.values() if len(v) < 500], bins=100, alpha=0.7, label=\"all\", color=\"blue\")\n",
    "plt.hist([len(v) for v in seqs_arth_filtered.values() if len(v) < 500], bins=70, alpha=0.7, label=\"filtered\", color=\"orange\")\n",
    "plt.yscale(\"log\")\n",
    "plt.xlabel(\"species nseqs\")\n",
    "plt.legend()\n",
    "\n",
    "plt.show()"
   ]
  },
  {
   "attachments": {},
   "cell_type": "markdown",
   "metadata": {},
   "source": [
    "### Prepare dataset for CO1 alignment (outgrp selection)"
   ]
  },
  {
   "cell_type": "code",
   "execution_count": 20,
   "metadata": {},
   "outputs": [
    {
     "name": "stderr",
     "output_type": "stream",
     "text": [
      "100%|██████████| 1/1 [00:03<00:00,  3.12s/it]\n"
     ]
    }
   ],
   "source": [
    "arth_aln = collect_seqs(phylum, \"LONGEST\", [\"CO1\"])"
   ]
  },
  {
   "cell_type": "code",
   "execution_count": 32,
   "metadata": {},
   "outputs": [
    {
     "name": "stdout",
     "output_type": "stream",
     "text": [
      "136 species without CO1 seq\n"
     ]
    }
   ],
   "source": [
    "print(len(set([x.split(\"__\")[1] for x in seqs_arth_filtered.keys()]).difference([x.split(\"__\")[1] for x in arth_aln.keys()])), \"species without CO1 seq\")"
   ]
  },
  {
   "cell_type": "code",
   "execution_count": null,
   "metadata": {},
   "outputs": [],
   "source": []
  },
  {
   "attachments": {},
   "cell_type": "markdown",
   "metadata": {},
   "source": [
    "## Chordata"
   ]
  },
  {
   "cell_type": "code",
   "execution_count": 3,
   "metadata": {},
   "outputs": [
    {
     "name": "stderr",
     "output_type": "stream",
     "text": [
      "100%|██████████| 13/13 [00:38<00:00,  2.93s/it]\n"
     ]
    },
    {
     "data": {
      "text/plain": [
       "192350"
      ]
     },
     "execution_count": 3,
     "metadata": {},
     "output_type": "execute_result"
    }
   ],
   "source": [
    "genes = ['A6', 'A8', 'CO1', 'CO2', 'CO3', 'Cytb', 'ND1', 'ND2', 'ND3', 'ND4', 'ND4L', 'ND5', 'ND6']\n",
    "phylum = \"Chordata\"\n",
    "seqs_uniq = collect_seqs(phylum, \"UNIQ\", genes)\n",
    "len(seqs_uniq)"
   ]
  },
  {
   "cell_type": "code",
   "execution_count": 4,
   "metadata": {},
   "outputs": [
    {
     "name": "stdout",
     "output_type": "stream",
     "text": [
      "ngenes = 15496, nspecies: 10163\n",
      "\n",
      "A6       501\n",
      "A8       185\n",
      "CO1     5447\n",
      "CO2      200\n",
      "CO3      207\n",
      "Cytb    4963\n",
      "ND1      389\n",
      "ND2     1902\n",
      "ND3      250\n",
      "ND4      831\n",
      "ND4L     119\n",
      "ND5      306\n",
      "ND6      196\n",
      "dtype: int64\n"
     ]
    }
   ],
   "source": [
    "seqs_uniq_filtered = filter_seqs_dict(seqs_uniq)\n",
    "print(f\"ngenes = {len(seqs_uniq_filtered)}, nspecies: {len(set([x.split('__')[1] for x in seqs_uniq_filtered.keys()]))}\", end=\"\\n\\n\")\n",
    "print(pd.Series(Counter([x.split(\"__\")[0] for x in seqs_uniq_filtered.keys()])))"
   ]
  },
  {
   "cell_type": "code",
   "execution_count": 5,
   "metadata": {},
   "outputs": [
    {
     "data": {
      "text/plain": [
       "1750"
      ]
     },
     "execution_count": 5,
     "metadata": {},
     "output_type": "execute_result"
    }
   ],
   "source": [
    "co1_sp = [x.split(\"__\")[1] for x in seqs_uniq_filtered.keys() if x.startswith(\"CO1\")]\n",
    "cytb_sp = [x.split(\"__\")[1] for x in seqs_uniq_filtered.keys() if x.startswith(\"Cytb\")]\n",
    "len(set(co1_sp).intersection(cytb_sp))"
   ]
  },
  {
   "cell_type": "code",
   "execution_count": 6,
   "metadata": {},
   "outputs": [
    {
     "data": {
      "image/png": "[encoded data removed]",
      "text/plain": [
       "<Figure size 1200x400 with 2 Axes>"
      ]
     },
     "metadata": {},
     "output_type": "display_data"
    }
   ],
   "source": [
    "plt.figure(figsize=(12, 4))\n",
    "plt.subplot(121)\n",
    "plt.hist([len(v) for v in seqs_uniq.values()], bins=100, alpha=0.7, label=\"all\", color=\"blue\")\n",
    "plt.hist([len(v) for v in seqs_uniq_filtered.values()], bins=70, alpha=0.7, label=\"filtered\", color=\"orange\")\n",
    "plt.yscale(\"log\")\n",
    "plt.xlabel(\"species nseqs\")\n",
    "plt.legend()\n",
    "\n",
    "plt.subplot(122)\n",
    "plt.hist([len(v) for v in seqs_uniq.values() if len(v) < 500], bins=100, alpha=0.7, label=\"all\", color=\"blue\")\n",
    "plt.hist([len(v) for v in seqs_uniq_filtered.values() if len(v) < 500], bins=70, alpha=0.7, label=\"filtered\", color=\"orange\")\n",
    "plt.yscale(\"log\")\n",
    "plt.xlabel(\"species nseqs\")\n",
    "plt.legend()\n",
    "\n",
    "plt.show()"
   ]
  },
  {
   "attachments": {},
   "cell_type": "markdown",
   "metadata": {},
   "source": [
    "### Check genus-wise species distribution"
   ]
  },
  {
   "cell_type": "code",
   "execution_count": 7,
   "metadata": {},
   "outputs": [
    {
     "name": "stderr",
     "output_type": "stream",
     "text": [
      "100%|██████████| 13/13 [00:15<00:00,  1.16s/it]\n"
     ]
    }
   ],
   "source": [
    "genes = ['A6', 'A8', 'CO1', 'CO2', 'CO3', 'Cytb', 'ND1', 'ND2', 'ND3', 'ND4', 'ND4L', 'ND5', 'ND6']\n",
    "phylum = \"Chordata\"\n",
    "seqs_longest = collect_seqs(phylum, \"LONGEST\", genes, sp=True)"
   ]
  },
  {
   "cell_type": "code",
   "execution_count": 8,
   "metadata": {},
   "outputs": [
    {
     "data": {
      "text/plain": [
       "'Branchiostoma belcheri 8821.9504 ###Chordata_7711;Leptocardii_2682552;Amphioxiformes_2682553;Branchiostomatidae_7736;Branchiostoma_7737;Branchiostoma_belcheri_7741'"
      ]
     },
     "execution_count": 8,
     "metadata": {},
     "output_type": "execute_result"
    }
   ],
   "source": [
    "seqs_longest[\"A6__Branchiostoma_belcheri\"][0].description"
   ]
  },
  {
   "cell_type": "code",
   "execution_count": 9,
   "metadata": {},
   "outputs": [],
   "source": [
    "data_taxa = []\n",
    "for gene_sp, seqs in seqs_uniq_filtered.items():\n",
    "    raw_taxonomy = seqs[0].description.split(\"###\")[1]\n",
    "    phyl, clss, order, fam, genus, sp = [\"_\".join(x.split(\"_\")[:-1]) for x in raw_taxonomy.split(\";\")]\n",
    "    data_taxa.append(dict(gene=gene_sp.split('__')[0], clss=clss, order=order, fam=fam, genus=genus, species=sp, nseqs=len(seqs)))\n",
    "genes_taxa_uniq = pd.DataFrame(data_taxa)\n",
    "\n",
    "data_taxa = []\n",
    "for gene_sp, seqs in seqs_longest.items():\n",
    "    raw_taxonomy = seqs[0].description.split(\"###\")[1]\n",
    "    phyl, clss, order, fam, genus, sp = [\"_\".join(x.split(\"_\")[:-1]) for x in raw_taxonomy.split(\";\")]\n",
    "    data_taxa.append(dict(gene=gene_sp.split('__')[0], clss=clss, order=order, fam=fam, genus=genus, species=sp))\n",
    "genes_taxa_longest = pd.DataFrame(data_taxa)\n",
    "del data_taxa"
   ]
  },
  {
   "cell_type": "code",
   "execution_count": 10,
   "metadata": {},
   "outputs": [
    {
     "data": {
      "text/html": [
       "<div>\n",
       "<style scoped>\n",
       "    .dataframe tbody tr th:only-of-type {\n",
       "        vertical-align: middle;\n",
       "    }\n",
       "\n",
       "    .dataframe tbody tr th {\n",
       "        vertical-align: top;\n",
       "    }\n",
       "\n",
       "    .dataframe thead th {\n",
       "        text-align: right;\n",
       "    }\n",
       "</style>\n",
       "<table border=\"1\" class=\"dataframe\">\n",
       "  <thead>\n",
       "    <tr style=\"text-align: right;\">\n",
       "      <th></th>\n",
       "      <th>gene</th>\n",
       "      <th>clss</th>\n",
       "      <th>order</th>\n",
       "      <th>fam</th>\n",
       "      <th>genus</th>\n",
       "      <th>species</th>\n",
       "      <th>nseqs</th>\n",
       "    </tr>\n",
       "  </thead>\n",
       "  <tbody>\n",
       "    <tr>\n",
       "      <th>0</th>\n",
       "      <td>A6</td>\n",
       "      <td>Leptocardii</td>\n",
       "      <td>Amphioxiformes</td>\n",
       "      <td>Branchiostomatidae</td>\n",
       "      <td>Branchiostoma</td>\n",
       "      <td>Branchiostoma_belcheri</td>\n",
       "      <td>15</td>\n",
       "    </tr>\n",
       "    <tr>\n",
       "      <th>1</th>\n",
       "      <td>A6</td>\n",
       "      <td>Leptocardii</td>\n",
       "      <td>Amphioxiformes</td>\n",
       "      <td>Branchiostomatidae</td>\n",
       "      <td>Branchiostoma</td>\n",
       "      <td>Branchiostoma_floridae</td>\n",
       "      <td>20</td>\n",
       "    </tr>\n",
       "    <tr>\n",
       "      <th>2</th>\n",
       "      <td>A6</td>\n",
       "      <td>Leptocardii</td>\n",
       "      <td>Amphioxiformes</td>\n",
       "      <td>Branchiostomatidae</td>\n",
       "      <td>Branchiostoma</td>\n",
       "      <td>Branchiostoma_lanceolatum</td>\n",
       "      <td>10</td>\n",
       "    </tr>\n",
       "    <tr>\n",
       "      <th>3</th>\n",
       "      <td>A6</td>\n",
       "      <td>Hyperoartia</td>\n",
       "      <td>Petromyzontiformes</td>\n",
       "      <td>Petromyzontidae</td>\n",
       "      <td>Lampetra</td>\n",
       "      <td>Lampetra_fluviatilis</td>\n",
       "      <td>37</td>\n",
       "    </tr>\n",
       "    <tr>\n",
       "      <th>4</th>\n",
       "      <td>A6</td>\n",
       "      <td>Hyperoartia</td>\n",
       "      <td>Petromyzontiformes</td>\n",
       "      <td>Petromyzontidae</td>\n",
       "      <td>Lampetra</td>\n",
       "      <td>Lampetra_planeri</td>\n",
       "      <td>28</td>\n",
       "    </tr>\n",
       "    <tr>\n",
       "      <th>...</th>\n",
       "      <td>...</td>\n",
       "      <td>...</td>\n",
       "      <td>...</td>\n",
       "      <td>...</td>\n",
       "      <td>...</td>\n",
       "      <td>...</td>\n",
       "      <td>...</td>\n",
       "    </tr>\n",
       "    <tr>\n",
       "      <th>15491</th>\n",
       "      <td>ND6</td>\n",
       "      <td>Amphibia</td>\n",
       "      <td>Caudata</td>\n",
       "      <td>Cryptobranchidae</td>\n",
       "      <td>Andrias</td>\n",
       "      <td>Andrias_davidianus</td>\n",
       "      <td>25</td>\n",
       "    </tr>\n",
       "    <tr>\n",
       "      <th>15492</th>\n",
       "      <td>ND6</td>\n",
       "      <td>Amphibia</td>\n",
       "      <td>Caudata</td>\n",
       "      <td>Hynobiidae</td>\n",
       "      <td>Pachyhynobius</td>\n",
       "      <td>Pachyhynobius_shangchengensis</td>\n",
       "      <td>22</td>\n",
       "    </tr>\n",
       "    <tr>\n",
       "      <th>15493</th>\n",
       "      <td>ND6</td>\n",
       "      <td>Amphibia</td>\n",
       "      <td>Caudata</td>\n",
       "      <td>Hynobiidae</td>\n",
       "      <td>Salamandrella</td>\n",
       "      <td>Salamandrella_keyserlingii</td>\n",
       "      <td>15</td>\n",
       "    </tr>\n",
       "    <tr>\n",
       "      <th>15494</th>\n",
       "      <td>ND6</td>\n",
       "      <td>Amphibia</td>\n",
       "      <td>Caudata</td>\n",
       "      <td>Plethodontidae</td>\n",
       "      <td>Eurycea</td>\n",
       "      <td>Eurycea_spelaea</td>\n",
       "      <td>10</td>\n",
       "    </tr>\n",
       "    <tr>\n",
       "      <th>15495</th>\n",
       "      <td>ND6</td>\n",
       "      <td>Amphibia</td>\n",
       "      <td>Caudata</td>\n",
       "      <td>Salamandridae</td>\n",
       "      <td>Cynops</td>\n",
       "      <td>Cynops_pyrrhogaster</td>\n",
       "      <td>88</td>\n",
       "    </tr>\n",
       "  </tbody>\n",
       "</table>\n",
       "<p>15496 rows × 7 columns</p>\n",
       "</div>"
      ],
      "text/plain": [
       "      gene         clss               order                 fam  \\\n",
       "0       A6  Leptocardii      Amphioxiformes  Branchiostomatidae   \n",
       "1       A6  Leptocardii      Amphioxiformes  Branchiostomatidae   \n",
       "2       A6  Leptocardii      Amphioxiformes  Branchiostomatidae   \n",
       "3       A6  Hyperoartia  Petromyzontiformes     Petromyzontidae   \n",
       "4       A6  Hyperoartia  Petromyzontiformes     Petromyzontidae   \n",
       "...    ...          ...                 ...                 ...   \n",
       "15491  ND6     Amphibia             Caudata    Cryptobranchidae   \n",
       "15492  ND6     Amphibia             Caudata          Hynobiidae   \n",
       "15493  ND6     Amphibia             Caudata          Hynobiidae   \n",
       "15494  ND6     Amphibia             Caudata      Plethodontidae   \n",
       "15495  ND6     Amphibia             Caudata       Salamandridae   \n",
       "\n",
       "               genus                        species  nseqs  \n",
       "0      Branchiostoma         Branchiostoma_belcheri     15  \n",
       "1      Branchiostoma         Branchiostoma_floridae     20  \n",
       "2      Branchiostoma      Branchiostoma_lanceolatum     10  \n",
       "3           Lampetra           Lampetra_fluviatilis     37  \n",
       "4           Lampetra               Lampetra_planeri     28  \n",
       "...              ...                            ...    ...  \n",
       "15491        Andrias             Andrias_davidianus     25  \n",
       "15492  Pachyhynobius  Pachyhynobius_shangchengensis     22  \n",
       "15493  Salamandrella     Salamandrella_keyserlingii     15  \n",
       "15494        Eurycea                Eurycea_spelaea     10  \n",
       "15495         Cynops            Cynops_pyrrhogaster     88  \n",
       "\n",
       "[15496 rows x 7 columns]"
      ]
     },
     "execution_count": 10,
     "metadata": {},
     "output_type": "execute_result"
    }
   ],
   "source": [
    "genes_taxa_uniq"
   ]
  },
  {
   "cell_type": "code",
   "execution_count": 11,
   "metadata": {},
   "outputs": [
    {
     "data": {
      "text/plain": [
       "(54, 7)"
      ]
     },
     "execution_count": 11,
     "metadata": {},
     "output_type": "execute_result"
    }
   ],
   "source": [
    "nonstandart_names = genes_taxa_uniq[genes_taxa_uniq.species.str.count(\"_\") > 1].species.str.split(\"_\")\\\n",
    "    .apply(lambda x: x[:2]).str.join(\"_\").unique()\n",
    "\n",
    "genes_taxa_uniq[genes_taxa_uniq.species.isin(nonstandart_names)].shape\n",
    "# So, drop these broken species names"
   ]
  },
  {
   "cell_type": "code",
   "execution_count": 12,
   "metadata": {},
   "outputs": [
    {
     "data": {
      "text/plain": [
       "(15463, 7)"
      ]
     },
     "execution_count": 12,
     "metadata": {},
     "output_type": "execute_result"
    }
   ],
   "source": [
    "genes_taxa_uniq = genes_taxa_uniq[genes_taxa_uniq.species.str.count(\"_\") == 1]\n",
    "genes_taxa_uniq.shape"
   ]
  },
  {
   "cell_type": "code",
   "execution_count": 13,
   "metadata": {},
   "outputs": [
    {
     "data": {
      "text/plain": [
       "590"
      ]
     },
     "execution_count": 13,
     "metadata": {},
     "output_type": "execute_result"
    }
   ],
   "source": [
    "(genes_taxa_longest[genes_taxa_longest.genus.isin(genes_taxa_uniq.genus)].groupby(\"genus\").species.unique().apply(len) == 1).sum()"
   ]
  },
  {
   "cell_type": "code",
   "execution_count": 11,
   "metadata": {},
   "outputs": [
    {
     "data": {
      "text/plain": [
       "gene  genus                                                      \n",
       "A6    Abalistes                                                      1\n",
       "      Abantennarius                                                  1\n",
       "      Ablennes                                                       1\n",
       "      Aborichthys                                                    1\n",
       "      Abramis                                                        1\n",
       "                                                                    ..\n",
       "ND6   genus_Tachysurus_fulvidraco_x_Leiocassis_longirostris          1\n",
       "      genus_diploid_Megalobrama_amblycephala_x_Xenocypris_davidi     1\n",
       "      genus_diploid_Xenocypris_davidi_x_Megalobrama_amblycephala     1\n",
       "      genus_natural_gynogenetic_Carassius_auratus_red_var.           1\n",
       "      genus_triploid_Megalobrama_amblycephala_x_Xenocypris_davidi    1\n",
       "Name: genus, Length: 38440, dtype: int64"
      ]
     },
     "execution_count": 11,
     "metadata": {},
     "output_type": "execute_result"
    }
   ],
   "source": [
    "a = genes_counts.groupby(\"gene\").genus.value_counts()\n",
    "a[a==1]"
   ]
  },
  {
   "cell_type": "code",
   "execution_count": 12,
   "metadata": {},
   "outputs": [
    {
     "data": {
      "text/plain": [
       "gene  fam                                                               \n",
       "A6    Aenigmachannidae                                                      1\n",
       "      Ailiidae                                                              1\n",
       "      Amarsipidae                                                           1\n",
       "      Amiidae                                                               1\n",
       "      Amphiumidae                                                           1\n",
       "                                                                           ..\n",
       "ND6   family_genus_Squaliobarbus_curriculus_x_Ctenopharyngodon_idella       1\n",
       "      family_genus_diploid_Megalobrama_amblycephala_x_Xenocypris_davidi     1\n",
       "      family_genus_diploid_Xenocypris_davidi_x_Megalobrama_amblycephala     1\n",
       "      family_genus_natural_gynogenetic_Carassius_auratus_red_var.           1\n",
       "      family_genus_triploid_Megalobrama_amblycephala_x_Xenocypris_davidi    1\n",
       "Name: fam, Length: 4116, dtype: int64"
      ]
     },
     "execution_count": 12,
     "metadata": {},
     "output_type": "execute_result"
    }
   ],
   "source": [
    "a = genes_counts.groupby(\"gene\").fam.value_counts()\n",
    "a[a==1]"
   ]
  },
  {
   "attachments": {},
   "cell_type": "markdown",
   "metadata": {},
   "source": [
    "### Derive TimeTree"
   ]
  },
  {
   "attachments": {},
   "cell_type": "markdown",
   "metadata": {},
   "source": [
    "#### Rename broken leaf names"
   ]
  },
  {
   "cell_type": "code",
   "execution_count": 15,
   "metadata": {},
   "outputs": [],
   "source": [
    "tt_species = pd.read_csv(\"../data/chordata/timetree_species.txt\", header=None, sep=\"\\t\", names=[\"species\"])\n",
    "tt_species[\"new\"] = tt_species.species\n",
    "tt_species.loc[tt_species.new.str.contains(\"[^a-zA-Z_]\"), \"new\"] = \"None\"\n",
    "tt_species.to_csv(\"../data/chordata/species_mapper.txt\", header=None, index=None, sep=\"\\t\")"
   ]
  },
  {
   "cell_type": "code",
   "execution_count": 16,
   "metadata": {},
   "outputs": [],
   "source": [
    "!nw_rename ../data/chordata/chordates_species_total.txt ../data/chordata/species_mapper.txt > ../data/chordata/chordates_species_total_filtered.nwk"
   ]
  },
  {
   "attachments": {},
   "cell_type": "markdown",
   "metadata": {},
   "source": [
    "#### Read trees"
   ]
  },
  {
   "cell_type": "code",
   "execution_count": 45,
   "metadata": {},
   "outputs": [
    {
     "name": "stdout",
     "output_type": "stream",
     "text": [
      "Number of leaf nodes:\t38620\n",
      "Total number of nodes:\t77234\n",
      "Rooted:\tYes\n",
      "Most distant node:\tSitta_whiteheadi\n",
      "Max. distance:\t588.455150\n"
     ]
    }
   ],
   "source": [
    "timetree_genus = PhyloTree(\"../data/chordata/chordates_genus.nwk\", format=1)\n",
    "timetree_species = PhyloTree(\"../data/chordata/chordates_species_total_filtered.nwk\", format=1)\n",
    "\n",
    "timetree_species.search_nodes(name=\"Tenebrosternarchus_preto\")[0].delete() # have dublicat\n",
    "timetree_species.describe()"
   ]
  },
  {
   "cell_type": "code",
   "execution_count": 46,
   "metadata": {},
   "outputs": [
    {
     "name": "stdout",
     "output_type": "stream",
     "text": [
      "Number of leaf nodes:\t32481\n",
      "Total number of nodes:\t64961\n",
      "Rooted:\tYes\n",
      "Most distant node:\tMyioborus_cardonai\n",
      "Max. distance:\t588.455150\n"
     ]
    }
   ],
   "source": [
    "timetree_species.prune(set(genes_taxa_longest.species.unique()).intersection(timetree_species.get_leaf_names()), True)\n",
    "timetree_species.describe()"
   ]
  },
  {
   "cell_type": "code",
   "execution_count": 48,
   "metadata": {},
   "outputs": [],
   "source": [
    "timetree_species.write(outfile=\"../data/chordata/chordates_species_total_filtered_twice.nwk\", format=1)"
   ]
  },
  {
   "cell_type": "code",
   "execution_count": 99,
   "metadata": {},
   "outputs": [
    {
     "name": "stdout",
     "output_type": "stream",
     "text": [
      "\n",
      "                            /-Gorilla, 8.6\n",
      "                /'17045', 6.6\n",
      "               |           |            /-Homo, 6.4\n",
      "-'17044', 4.25714           \\'17047', 2.2\n",
      "               |                        \\-Pan, 6.4\n",
      "               |\n",
      "                \\-Pongo, 15.2\n"
     ]
    }
   ],
   "source": [
    "hs = timetree_genus.search_nodes(name=\"Homo\")[0]\n",
    "print(hs.up.up.up.get_ascii(attributes=[\"name\", \"dist\"]))"
   ]
  },
  {
   "cell_type": "code",
   "execution_count": 16,
   "metadata": {},
   "outputs": [],
   "source": [
    "def get_closest_leaf(leaf):\n",
    "    d = 0\n",
    "    for x in leaf.up.children:\n",
    "        if x.name != leaf.name:\n",
    "            d += x.dist\n",
    "            leaf_closest, d2 = x.get_closest_leaf()\n",
    "            d += d2\n",
    "            break\n",
    "    return leaf_closest, d"
   ]
  },
  {
   "cell_type": "code",
   "execution_count": 19,
   "metadata": {},
   "outputs": [
    {
     "data": {
      "text/plain": [
       "array(['Branchiostoma_belcheri', 'Branchiostoma_floridae',\n",
       "       'Branchiostoma_lanceolatum', ..., 'Phylloscopus_plumbeitarsus',\n",
       "       'Mustela_itatsi', 'Odorrana_supranarina'], dtype=object)"
      ]
     },
     "execution_count": 19,
     "metadata": {},
     "output_type": "execute_result"
    }
   ],
   "source": [
    "genes_taxa_uniq.species.unique()"
   ]
  },
  {
   "cell_type": "code",
   "execution_count": 36,
   "metadata": {},
   "outputs": [
    {
     "name": "stderr",
     "output_type": "stream",
     "text": [
      "15it [00:28,  1.91s/it]\n"
     ]
    },
    {
     "ename": "KeyboardInterrupt",
     "evalue": "",
     "output_type": "error",
     "traceback": [
      "\u001b[0;31m---------------------------------------------------------------------------\u001b[0m",
      "\u001b[0;31mKeyboardInterrupt\u001b[0m                         Traceback (most recent call last)",
      "Cell \u001b[0;32mIn[36], line 3\u001b[0m\n\u001b[1;32m      1\u001b[0m \u001b[39mfor\u001b[39;00m n1 \u001b[39min\u001b[39;00m tqdm\u001b[39m.\u001b[39mtqdm(timetree_species\u001b[39m.\u001b[39miter_leaves()):\n\u001b[1;32m      2\u001b[0m     \u001b[39mfor\u001b[39;00m n2 \u001b[39min\u001b[39;00m timetree_species\u001b[39m.\u001b[39miter_leaves():\n\u001b[0;32m----> 3\u001b[0m         d \u001b[39m=\u001b[39m timetree_species\u001b[39m.\u001b[39;49mget_distance(n1, n2)\n",
      "File \u001b[0;32m~/env_bio/lib/python3.9/site-packages/ete3/coretype/tree.py:1019\u001b[0m, in \u001b[0;36mTreeNode.get_distance\u001b[0;34m(self, target, target2, topology_only)\u001b[0m\n\u001b[1;32m   1016\u001b[0m     root \u001b[39m=\u001b[39m \u001b[39mself\u001b[39m\n\u001b[1;32m   1018\u001b[0m target, target2 \u001b[39m=\u001b[39m _translate_nodes(root, target, target2)\n\u001b[0;32m-> 1019\u001b[0m ancestor \u001b[39m=\u001b[39m root\u001b[39m.\u001b[39;49mget_common_ancestor(target, target2)\n\u001b[1;32m   1021\u001b[0m dist \u001b[39m=\u001b[39m \u001b[39m0.0\u001b[39m\n\u001b[1;32m   1022\u001b[0m \u001b[39mfor\u001b[39;00m n \u001b[39min\u001b[39;00m [target2, target]:\n",
      "File \u001b[0;32m~/env_bio/lib/python3.9/site-packages/ete3/coretype/tree.py:887\u001b[0m, in \u001b[0;36mTreeNode.get_common_ancestor\u001b[0;34m(self, *target_nodes, **kargs)\u001b[0m\n\u001b[1;32m    884\u001b[0m     target_nodes \u001b[39m=\u001b[39m target_nodes[\u001b[39m0\u001b[39m]\n\u001b[1;32m    886\u001b[0m \u001b[39m# Convert node names into node instances\u001b[39;00m\n\u001b[0;32m--> 887\u001b[0m target_nodes \u001b[39m=\u001b[39m _translate_nodes(\u001b[39mself\u001b[39m, \u001b[39m*\u001b[39mtarget_nodes)\n\u001b[1;32m    890\u001b[0m \u001b[39mif\u001b[39;00m \u001b[39mtype\u001b[39m(target_nodes) \u001b[39m!=\u001b[39m \u001b[39mlist\u001b[39m:\n\u001b[1;32m    891\u001b[0m     \u001b[39m# If only one node is provided and is the same as the seed node,\u001b[39;00m\n\u001b[1;32m    892\u001b[0m     \u001b[39m# return itself\u001b[39;00m\n\u001b[1;32m    893\u001b[0m     \u001b[39mif\u001b[39;00m target_nodes \u001b[39mis\u001b[39;00m \u001b[39mself\u001b[39m:\n",
      "\u001b[0;31mKeyboardInterrupt\u001b[0m: "
     ]
    }
   ],
   "source": [
    "for n1 in tqdm.tqdm(timetree_species.iter_leaves()):\n",
    "    for n2 in timetree_species.iter_leaves():\n",
    "        d = timetree_species.get_distance(n1, n2)"
   ]
  },
  {
   "cell_type": "code",
   "execution_count": 31,
   "metadata": {},
   "outputs": [
    {
     "name": "stdout",
     "output_type": "stream",
     "text": [
      "124 ms ± 780 µs per loop (mean ± std. dev. of 7 runs, 10 loops each)\n",
      "103 ms ± 486 µs per loop (mean ± std. dev. of 7 runs, 10 loops each)\n"
     ]
    }
   ],
   "source": [
    "%timeit timetree_species.get_leaves_by_name(\"Asymmetron_lucayanum\")\n",
    "%timeit timetree_species.search_nodes(name=\"Asymmetron_lucayanum\")"
   ]
  },
  {
   "cell_type": "code",
   "execution_count": 23,
   "metadata": {},
   "outputs": [
    {
     "data": {
      "text/html": [
       "<div>\n",
       "<style scoped>\n",
       "    .dataframe tbody tr th:only-of-type {\n",
       "        vertical-align: middle;\n",
       "    }\n",
       "\n",
       "    .dataframe tbody tr th {\n",
       "        vertical-align: top;\n",
       "    }\n",
       "\n",
       "    .dataframe thead th {\n",
       "        text-align: right;\n",
       "    }\n",
       "</style>\n",
       "<table border=\"1\" class=\"dataframe\">\n",
       "  <thead>\n",
       "    <tr style=\"text-align: right;\">\n",
       "      <th></th>\n",
       "      <th>species</th>\n",
       "      <th>closest_species</th>\n",
       "      <th>dist</th>\n",
       "    </tr>\n",
       "  </thead>\n",
       "  <tbody>\n",
       "    <tr>\n",
       "      <th>0</th>\n",
       "      <td>Asymmetron_lucayanum</td>\n",
       "      <td>Asymmetron_inferum</td>\n",
       "      <td>66.85812</td>\n",
       "    </tr>\n",
       "    <tr>\n",
       "      <th>1</th>\n",
       "      <td>Branchiostoma_japonicum</td>\n",
       "      <td>Branchiostoma_belcheri</td>\n",
       "      <td>21.92519</td>\n",
       "    </tr>\n",
       "    <tr>\n",
       "      <th>2</th>\n",
       "      <td>Branchiostoma_belcheri</td>\n",
       "      <td>Branchiostoma_japonicum</td>\n",
       "      <td>21.92519</td>\n",
       "    </tr>\n",
       "    <tr>\n",
       "      <th>3</th>\n",
       "      <td>Branchiostoma_lanceolatum</td>\n",
       "      <td>Branchiostoma_floridae</td>\n",
       "      <td>61.74430</td>\n",
       "    </tr>\n",
       "    <tr>\n",
       "      <th>4</th>\n",
       "      <td>Branchiostoma_floridae</td>\n",
       "      <td>Branchiostoma_lanceolatum</td>\n",
       "      <td>61.74430</td>\n",
       "    </tr>\n",
       "    <tr>\n",
       "      <th>...</th>\n",
       "      <td>...</td>\n",
       "      <td>...</td>\n",
       "      <td>...</td>\n",
       "    </tr>\n",
       "    <tr>\n",
       "      <th>8473</th>\n",
       "      <td>Diplosoma_listerianum</td>\n",
       "      <td>Cystodytes_dellechiajei</td>\n",
       "      <td>117.22400</td>\n",
       "    </tr>\n",
       "    <tr>\n",
       "      <th>8474</th>\n",
       "      <td>Molgula_manhattensis</td>\n",
       "      <td>Molgula_tectiformis</td>\n",
       "      <td>130.30300</td>\n",
       "    </tr>\n",
       "    <tr>\n",
       "      <th>8475</th>\n",
       "      <td>Halocynthia_roretzi</td>\n",
       "      <td>Styela_plicata</td>\n",
       "      <td>276.59950</td>\n",
       "    </tr>\n",
       "    <tr>\n",
       "      <th>8476</th>\n",
       "      <td>Styela_plicata</td>\n",
       "      <td>Botryllus_schlosseri</td>\n",
       "      <td>196.91150</td>\n",
       "    </tr>\n",
       "    <tr>\n",
       "      <th>8477</th>\n",
       "      <td>Botryllus_schlosseri</td>\n",
       "      <td>Polyandrocarpa_anguinea</td>\n",
       "      <td>166.50300</td>\n",
       "    </tr>\n",
       "  </tbody>\n",
       "</table>\n",
       "<p>8477 rows × 3 columns</p>\n",
       "</div>"
      ],
      "text/plain": [
       "                        species            closest_species       dist\n",
       "0          Asymmetron_lucayanum         Asymmetron_inferum   66.85812\n",
       "1       Branchiostoma_japonicum     Branchiostoma_belcheri   21.92519\n",
       "2        Branchiostoma_belcheri    Branchiostoma_japonicum   21.92519\n",
       "3     Branchiostoma_lanceolatum     Branchiostoma_floridae   61.74430\n",
       "4        Branchiostoma_floridae  Branchiostoma_lanceolatum   61.74430\n",
       "...                         ...                        ...        ...\n",
       "8473      Diplosoma_listerianum    Cystodytes_dellechiajei  117.22400\n",
       "8474       Molgula_manhattensis        Molgula_tectiformis  130.30300\n",
       "8475        Halocynthia_roretzi             Styela_plicata  276.59950\n",
       "8476             Styela_plicata       Botryllus_schlosseri  196.91150\n",
       "8477       Botryllus_schlosseri    Polyandrocarpa_anguinea  166.50300\n",
       "\n",
       "[8477 rows x 3 columns]"
      ]
     },
     "execution_count": 23,
     "metadata": {},
     "output_type": "execute_result"
    }
   ],
   "source": [
    "data_closest = []\n",
    "target_species = set(genes_taxa_uniq.species.unique())\n",
    "for leaf in timetree_species.iter_leaves():\n",
    "    if leaf.name in target_species:\n",
    "        name = \"_\".join(leaf.name.split(\"_\")[:2])\n",
    "        closest, d = get_closest_leaf(leaf)\n",
    "        data_closest.append([name, \"_\".join(closest.name.split(\"_\")[:2]), d])\n",
    "    \n",
    "df_closest = pd.DataFrame(data_closest, columns=[\"species\", \"closest_species\", \"dist\"]).drop_duplicates(subset=\"species\")\n",
    "df_closest"
   ]
  },
  {
   "cell_type": "code",
   "execution_count": 59,
   "metadata": {},
   "outputs": [
    {
     "data": {
      "text/html": [
       "<div>\n",
       "<style scoped>\n",
       "    .dataframe tbody tr th:only-of-type {\n",
       "        vertical-align: middle;\n",
       "    }\n",
       "\n",
       "    .dataframe tbody tr th {\n",
       "        vertical-align: top;\n",
       "    }\n",
       "\n",
       "    .dataframe thead th {\n",
       "        text-align: right;\n",
       "    }\n",
       "</style>\n",
       "<table border=\"1\" class=\"dataframe\">\n",
       "  <thead>\n",
       "    <tr style=\"text-align: right;\">\n",
       "      <th></th>\n",
       "      <th>clss</th>\n",
       "      <th>order</th>\n",
       "      <th>fam</th>\n",
       "      <th>genus</th>\n",
       "      <th>species</th>\n",
       "    </tr>\n",
       "  </thead>\n",
       "  <tbody>\n",
       "    <tr>\n",
       "      <th>0</th>\n",
       "      <td>Leptocardii</td>\n",
       "      <td>Amphioxiformes</td>\n",
       "      <td>Branchiostomatidae</td>\n",
       "      <td>Asymmetron</td>\n",
       "      <td>Asymmetron_sp__A_TK_2007</td>\n",
       "    </tr>\n",
       "    <tr>\n",
       "      <th>1</th>\n",
       "      <td>Leptocardii</td>\n",
       "      <td>Amphioxiformes</td>\n",
       "      <td>Branchiostomatidae</td>\n",
       "      <td>Asymmetron</td>\n",
       "      <td>Asymmetron_inferum</td>\n",
       "    </tr>\n",
       "    <tr>\n",
       "      <th>2</th>\n",
       "      <td>Leptocardii</td>\n",
       "      <td>Amphioxiformes</td>\n",
       "      <td>Branchiostomatidae</td>\n",
       "      <td>Asymmetron</td>\n",
       "      <td>Asymmetron_lucayanum</td>\n",
       "    </tr>\n",
       "    <tr>\n",
       "      <th>3</th>\n",
       "      <td>Leptocardii</td>\n",
       "      <td>Amphioxiformes</td>\n",
       "      <td>Branchiostomatidae</td>\n",
       "      <td>Branchiostoma</td>\n",
       "      <td>Branchiostoma_belcheri</td>\n",
       "    </tr>\n",
       "    <tr>\n",
       "      <th>4</th>\n",
       "      <td>Leptocardii</td>\n",
       "      <td>Amphioxiformes</td>\n",
       "      <td>Branchiostomatidae</td>\n",
       "      <td>Branchiostoma</td>\n",
       "      <td>Branchiostoma_floridae</td>\n",
       "    </tr>\n",
       "    <tr>\n",
       "      <th>...</th>\n",
       "      <td>...</td>\n",
       "      <td>...</td>\n",
       "      <td>...</td>\n",
       "      <td>...</td>\n",
       "      <td>...</td>\n",
       "    </tr>\n",
       "    <tr>\n",
       "      <th>218180</th>\n",
       "      <td>Aves</td>\n",
       "      <td>Passeriformes</td>\n",
       "      <td>Estrildidae</td>\n",
       "      <td>Vidua</td>\n",
       "      <td>Vidua_codringtoni</td>\n",
       "    </tr>\n",
       "    <tr>\n",
       "      <th>218185</th>\n",
       "      <td>Aves</td>\n",
       "      <td>Passeriformes</td>\n",
       "      <td>Estrildidae</td>\n",
       "      <td>Vidua</td>\n",
       "      <td>Vidua_larvaticola</td>\n",
       "    </tr>\n",
       "    <tr>\n",
       "      <th>218187</th>\n",
       "      <td>Aves</td>\n",
       "      <td>Passeriformes</td>\n",
       "      <td>Estrildidae</td>\n",
       "      <td>Vidua</td>\n",
       "      <td>Vidua_maryae</td>\n",
       "    </tr>\n",
       "    <tr>\n",
       "      <th>218188</th>\n",
       "      <td>Aves</td>\n",
       "      <td>Passeriformes</td>\n",
       "      <td>Estrildidae</td>\n",
       "      <td>Vidua</td>\n",
       "      <td>Vidua_nigeriae</td>\n",
       "    </tr>\n",
       "    <tr>\n",
       "      <th>218195</th>\n",
       "      <td>Aves</td>\n",
       "      <td>Passeriformes</td>\n",
       "      <td>Estrildidae</td>\n",
       "      <td>Vidua</td>\n",
       "      <td>Vidua_wilsoni</td>\n",
       "    </tr>\n",
       "  </tbody>\n",
       "</table>\n",
       "<p>69762 rows × 5 columns</p>\n",
       "</div>"
      ],
      "text/plain": [
       "               clss           order                 fam          genus  \\\n",
       "0       Leptocardii  Amphioxiformes  Branchiostomatidae     Asymmetron   \n",
       "1       Leptocardii  Amphioxiformes  Branchiostomatidae     Asymmetron   \n",
       "2       Leptocardii  Amphioxiformes  Branchiostomatidae     Asymmetron   \n",
       "3       Leptocardii  Amphioxiformes  Branchiostomatidae  Branchiostoma   \n",
       "4       Leptocardii  Amphioxiformes  Branchiostomatidae  Branchiostoma   \n",
       "...             ...             ...                 ...            ...   \n",
       "218180         Aves   Passeriformes         Estrildidae          Vidua   \n",
       "218185         Aves   Passeriformes         Estrildidae          Vidua   \n",
       "218187         Aves   Passeriformes         Estrildidae          Vidua   \n",
       "218188         Aves   Passeriformes         Estrildidae          Vidua   \n",
       "218195         Aves   Passeriformes         Estrildidae          Vidua   \n",
       "\n",
       "                         species  \n",
       "0       Asymmetron_sp__A_TK_2007  \n",
       "1             Asymmetron_inferum  \n",
       "2           Asymmetron_lucayanum  \n",
       "3         Branchiostoma_belcheri  \n",
       "4         Branchiostoma_floridae  \n",
       "...                          ...  \n",
       "218180         Vidua_codringtoni  \n",
       "218185         Vidua_larvaticola  \n",
       "218187              Vidua_maryae  \n",
       "218188            Vidua_nigeriae  \n",
       "218195             Vidua_wilsoni  \n",
       "\n",
       "[69762 rows x 5 columns]"
      ]
     },
     "execution_count": 59,
     "metadata": {},
     "output_type": "execute_result"
    }
   ],
   "source": [
    "taxa = genes_counts.drop([\"gene\", \"nseqs\"], axis=1).drop_duplicates()\n",
    "taxa"
   ]
  },
  {
   "cell_type": "code",
   "execution_count": 58,
   "metadata": {},
   "outputs": [
    {
     "data": {
      "text/html": [
       "<div>\n",
       "<style scoped>\n",
       "    .dataframe tbody tr th:only-of-type {\n",
       "        vertical-align: middle;\n",
       "    }\n",
       "\n",
       "    .dataframe tbody tr th {\n",
       "        vertical-align: top;\n",
       "    }\n",
       "\n",
       "    .dataframe thead th {\n",
       "        text-align: right;\n",
       "    }\n",
       "</style>\n",
       "<table border=\"1\" class=\"dataframe\">\n",
       "  <thead>\n",
       "    <tr style=\"text-align: right;\">\n",
       "      <th></th>\n",
       "      <th>clss</th>\n",
       "      <th>order</th>\n",
       "      <th>fam</th>\n",
       "      <th>genus</th>\n",
       "      <th>species</th>\n",
       "      <th>closest_species</th>\n",
       "      <th>dist</th>\n",
       "    </tr>\n",
       "  </thead>\n",
       "  <tbody>\n",
       "    <tr>\n",
       "      <th>0</th>\n",
       "      <td>Leptocardii</td>\n",
       "      <td>Amphioxiformes</td>\n",
       "      <td>Branchiostomatidae</td>\n",
       "      <td>Asymmetron</td>\n",
       "      <td>Asymmetron_lucayanum</td>\n",
       "      <td>Branchiostoma_japonicum</td>\n",
       "      <td>136.68200</td>\n",
       "    </tr>\n",
       "    <tr>\n",
       "      <th>1</th>\n",
       "      <td>Leptocardii</td>\n",
       "      <td>Amphioxiformes</td>\n",
       "      <td>Branchiostomatidae</td>\n",
       "      <td>Branchiostoma</td>\n",
       "      <td>Branchiostoma_belcheri</td>\n",
       "      <td>Branchiostoma_japonicum</td>\n",
       "      <td>21.92519</td>\n",
       "    </tr>\n",
       "    <tr>\n",
       "      <th>2</th>\n",
       "      <td>Leptocardii</td>\n",
       "      <td>Amphioxiformes</td>\n",
       "      <td>Branchiostomatidae</td>\n",
       "      <td>Branchiostoma</td>\n",
       "      <td>Branchiostoma_floridae</td>\n",
       "      <td>Branchiostoma_lanceolatum</td>\n",
       "      <td>61.74430</td>\n",
       "    </tr>\n",
       "    <tr>\n",
       "      <th>3</th>\n",
       "      <td>Leptocardii</td>\n",
       "      <td>Amphioxiformes</td>\n",
       "      <td>Branchiostomatidae</td>\n",
       "      <td>Branchiostoma</td>\n",
       "      <td>Branchiostoma_japonicum</td>\n",
       "      <td>Branchiostoma_belcheri</td>\n",
       "      <td>21.92519</td>\n",
       "    </tr>\n",
       "    <tr>\n",
       "      <th>4</th>\n",
       "      <td>Leptocardii</td>\n",
       "      <td>Amphioxiformes</td>\n",
       "      <td>Branchiostomatidae</td>\n",
       "      <td>Branchiostoma</td>\n",
       "      <td>Branchiostoma_lanceolatum</td>\n",
       "      <td>Branchiostoma_floridae</td>\n",
       "      <td>61.74430</td>\n",
       "    </tr>\n",
       "    <tr>\n",
       "      <th>...</th>\n",
       "      <td>...</td>\n",
       "      <td>...</td>\n",
       "      <td>...</td>\n",
       "      <td>...</td>\n",
       "      <td>...</td>\n",
       "      <td>...</td>\n",
       "      <td>...</td>\n",
       "    </tr>\n",
       "    <tr>\n",
       "      <th>8514</th>\n",
       "      <td>Amphibia</td>\n",
       "      <td>Anura</td>\n",
       "      <td>Limnodynastidae</td>\n",
       "      <td>Limnodynastes</td>\n",
       "      <td>Limnodynastes_dumerilii</td>\n",
       "      <td>Limnodynastes_peronii</td>\n",
       "      <td>28.31943</td>\n",
       "    </tr>\n",
       "    <tr>\n",
       "      <th>8515</th>\n",
       "      <td>Amphibia</td>\n",
       "      <td>Anura</td>\n",
       "      <td>Limnodynastidae</td>\n",
       "      <td>Limnodynastes</td>\n",
       "      <td>Limnodynastes_peronii</td>\n",
       "      <td>Limnodynastes_tasmaniensis</td>\n",
       "      <td>11.75912</td>\n",
       "    </tr>\n",
       "    <tr>\n",
       "      <th>8516</th>\n",
       "      <td>Amphibia</td>\n",
       "      <td>Caudata</td>\n",
       "      <td>Salamandridae</td>\n",
       "      <td>Triturus</td>\n",
       "      <td>Triturus_ivanbureschi</td>\n",
       "      <td>Triturus_karelinii</td>\n",
       "      <td>8.14465</td>\n",
       "    </tr>\n",
       "    <tr>\n",
       "      <th>8517</th>\n",
       "      <td>Amphibia</td>\n",
       "      <td>Anura</td>\n",
       "      <td>Ranidae</td>\n",
       "      <td>Odorrana</td>\n",
       "      <td>Odorrana_supranarina</td>\n",
       "      <td>Odorrana_narina</td>\n",
       "      <td>8.19060</td>\n",
       "    </tr>\n",
       "    <tr>\n",
       "      <th>8518</th>\n",
       "      <td>Aves</td>\n",
       "      <td>Passeriformes</td>\n",
       "      <td>Estrildidae</td>\n",
       "      <td>Vidua</td>\n",
       "      <td>Vidua_codringtoni</td>\n",
       "      <td>Vidua_purpurascens</td>\n",
       "      <td>0.10000</td>\n",
       "    </tr>\n",
       "  </tbody>\n",
       "</table>\n",
       "<p>8519 rows × 7 columns</p>\n",
       "</div>"
      ],
      "text/plain": [
       "             clss           order                 fam          genus  \\\n",
       "0     Leptocardii  Amphioxiformes  Branchiostomatidae     Asymmetron   \n",
       "1     Leptocardii  Amphioxiformes  Branchiostomatidae  Branchiostoma   \n",
       "2     Leptocardii  Amphioxiformes  Branchiostomatidae  Branchiostoma   \n",
       "3     Leptocardii  Amphioxiformes  Branchiostomatidae  Branchiostoma   \n",
       "4     Leptocardii  Amphioxiformes  Branchiostomatidae  Branchiostoma   \n",
       "...           ...             ...                 ...            ...   \n",
       "8514     Amphibia           Anura     Limnodynastidae  Limnodynastes   \n",
       "8515     Amphibia           Anura     Limnodynastidae  Limnodynastes   \n",
       "8516     Amphibia         Caudata       Salamandridae       Triturus   \n",
       "8517     Amphibia           Anura             Ranidae       Odorrana   \n",
       "8518         Aves   Passeriformes         Estrildidae          Vidua   \n",
       "\n",
       "                        species             closest_species       dist  \n",
       "0          Asymmetron_lucayanum     Branchiostoma_japonicum  136.68200  \n",
       "1        Branchiostoma_belcheri     Branchiostoma_japonicum   21.92519  \n",
       "2        Branchiostoma_floridae   Branchiostoma_lanceolatum   61.74430  \n",
       "3       Branchiostoma_japonicum      Branchiostoma_belcheri   21.92519  \n",
       "4     Branchiostoma_lanceolatum      Branchiostoma_floridae   61.74430  \n",
       "...                         ...                         ...        ...  \n",
       "8514    Limnodynastes_dumerilii       Limnodynastes_peronii   28.31943  \n",
       "8515      Limnodynastes_peronii  Limnodynastes_tasmaniensis   11.75912  \n",
       "8516      Triturus_ivanbureschi          Triturus_karelinii    8.14465  \n",
       "8517       Odorrana_supranarina             Odorrana_narina    8.19060  \n",
       "8518          Vidua_codringtoni          Vidua_purpurascens    0.10000  \n",
       "\n",
       "[8519 rows x 7 columns]"
      ]
     },
     "execution_count": 58,
     "metadata": {},
     "output_type": "execute_result"
    }
   ],
   "source": [
    "taxa.merge(df_closest, on=\"species\")"
   ]
  },
  {
   "cell_type": "code",
   "execution_count": null,
   "metadata": {},
   "outputs": [],
   "source": []
  },
  {
   "cell_type": "code",
   "execution_count": 27,
   "metadata": {},
   "outputs": [
    {
     "data": {
      "text/plain": [
       "(PhyloTree node 'Branchiostoma_japonicum' (0x7f1f32e9861), 136.682)"
      ]
     },
     "execution_count": 27,
     "metadata": {},
     "output_type": "execute_result"
    }
   ],
   "source": [
    "closest"
   ]
  },
  {
   "cell_type": "code",
   "execution_count": 32,
   "metadata": {},
   "outputs": [
    {
     "name": "stdout",
     "output_type": "stream",
     "text": [
      "\n",
      "               /-Styela_plicata, 196.9115\n",
      "-'18302', 79.688\n",
      "               \\-Botryllus_schlosseri, 196.9115\n"
     ]
    }
   ],
   "source": [
    "print(leaf.up.get_ascii(attributes=[\"name\", \"dist\"]))"
   ]
  },
  {
   "cell_type": "code",
   "execution_count": 21,
   "metadata": {},
   "outputs": [
    {
     "data": {
      "text/plain": [
       "[]"
      ]
     },
     "execution_count": 21,
     "metadata": {},
     "output_type": "execute_result"
    }
   ],
   "source": [
    "timetree_genus.search_nodes(name=\"dfs\")"
   ]
  },
  {
   "cell_type": "code",
   "execution_count": 18,
   "metadata": {},
   "outputs": [
    {
     "data": {
      "text/plain": [
       "(PhyloTree node 'Epigonichthys' (0x7f1f416a4b2), 136.682)"
      ]
     },
     "execution_count": 18,
     "metadata": {},
     "output_type": "execute_result"
    }
   ],
   "source": [
    "get_closest_leaf(leaf)"
   ]
  },
  {
   "cell_type": "code",
   "execution_count": 20,
   "metadata": {},
   "outputs": [
    {
     "data": {
      "text/plain": [
       "(PhyloTree node 'Branchiostoma' (0x7f1f416a4a9), 118.91972)"
      ]
     },
     "execution_count": 20,
     "metadata": {},
     "output_type": "execute_result"
    }
   ],
   "source": [
    "get_closest_leaf(leaf.up.children[1].get_closest_leaf()[0])"
   ]
  },
  {
   "cell_type": "code",
   "execution_count": 19,
   "metadata": {},
   "outputs": [
    {
     "data": {
      "text/plain": [
       "PhyloTree node 'Epigonichthys' (0x7f1f416a4b2)"
      ]
     },
     "execution_count": 19,
     "metadata": {},
     "output_type": "execute_result"
    }
   ],
   "source": [
    "leaf.up.children[1].get_closest_leaf()[0]"
   ]
  },
  {
   "cell_type": "code",
   "execution_count": 129,
   "metadata": {},
   "outputs": [
    {
     "data": {
      "text/plain": [
       "(PhyloTree node 'Asymmetron' (0x7fd4497defa), 0.0)"
      ]
     },
     "execution_count": 129,
     "metadata": {},
     "output_type": "execute_result"
    }
   ],
   "source": [
    "leaf.get_closest_leaf()"
   ]
  },
  {
   "cell_type": "code",
   "execution_count": null,
   "metadata": {},
   "outputs": [],
   "source": []
  },
  {
   "cell_type": "code",
   "execution_count": null,
   "metadata": {},
   "outputs": [],
   "source": []
  },
  {
   "cell_type": "code",
   "execution_count": null,
   "metadata": {},
   "outputs": [],
   "source": []
  },
  {
   "cell_type": "code",
   "execution_count": null,
   "metadata": {},
   "outputs": [],
   "source": []
  }
 ],
 "metadata": {
  "kernelspec": {
   "display_name": "env_bio",
   "language": "python",
   "name": "python3"
  },
  "language_info": {
   "codemirror_mode": {
    "name": "ipython",
    "version": 3
   },
   "file_extension": ".py",
   "mimetype": "text/x-python",
   "name": "python",
   "nbconvert_exporter": "python",
   "pygments_lexer": "ipython3",
   "version": "3.9.13"
  },
  "orig_nbformat": 4,
  "vscode": {
   "interpreter": {
    "hash": "c737589ac25c2b5207a58295544dae93bde342e9f173b68ed1d9625ade55517f"
   }
  }
 },
 "nbformat": 4,
 "nbformat_minor": 2
}
