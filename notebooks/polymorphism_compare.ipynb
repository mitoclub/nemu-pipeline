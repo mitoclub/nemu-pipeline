{
 "cells": [
  {
   "cell_type": "code",
   "execution_count": 1,
   "metadata": {},
   "outputs": [],
   "source": [
    "import glob\n",
    "import os\n",
    "import re\n",
    "import sys\n",
    "from collections import defaultdict\n",
    "from functools import reduce, partial\n",
    "from multiprocessing import Pool\n",
    "\n",
    "import numpy as np\n",
    "import pandas as pd\n",
    "import matplotlib\n",
    "import matplotlib.pyplot as plt\n",
    "import seaborn as sns\n",
    "import tqdm\n",
    "\n",
    "from pymutspec.annotation.spectra import get_cossim, complete_sbs192_columns, collapse_sbs192\n",
    "from pymutspec.annotation import CodonAnnotation, rev_comp\n",
    "from pymutspec.constants import possible_sbs192, possible_sbs12\n",
    "from pymutspec.draw import plot_mutspec192, plot_mutspec12\n",
    "import pymutspec\n",
    "\n",
    "from Bio import SeqIO, AlignIO\n",
    "from Bio.Data import CodonTable\n",
    "from Bio.SeqRecord import SeqRecord\n",
    "from Bio.Align.AlignInfo import SummaryInfo\n",
    "from scipy import spatial\n",
    "\n",
    "import warnings\n",
    "warnings.filterwarnings(\"ignore\")"
   ]
  },
  {
   "cell_type": "code",
   "execution_count": 2,
   "metadata": {},
   "outputs": [],
   "source": [
    "coda = CodonAnnotation(gencode=2)"
   ]
  },
  {
   "cell_type": "markdown",
   "metadata": {},
   "source": [
    "## Collect obs"
   ]
  },
  {
   "cell_type": "code",
   "execution_count": 3,
   "metadata": {},
   "outputs": [
    {
     "data": {
      "text/plain": [
       "9252"
      ]
     },
     "execution_count": 3,
     "metadata": {},
     "output_type": "execute_result"
    }
   ],
   "source": [
    "outdir = '/home/kpotoh/nemu-pipeline/data/chordata2/output'\n",
    "paths_msa = glob.glob(outdir + '/*/*/msa_nuc.fasta') \n",
    "len(paths_msa)"
   ]
  },
  {
   "cell_type": "code",
   "execution_count": 4,
   "metadata": {},
   "outputs": [],
   "source": [
    "def read_ingroup_msa(path):\n",
    "    msa = AlignIO.read(path, 'fasta')\n",
    "    for i,x in enumerate(msa):\n",
    "        if x.name == 'OUTGRP':\n",
    "            break\n",
    "    assert msa[i].name == 'OUTGRP'\n",
    "    del msa[i]\n",
    "    return msa\n",
    "\n",
    "\n",
    "def collect_snp_from_consensus(rec: SeqRecord, consensus: str):\n",
    "    muts = coda.extract_mutations_simple(consensus, str(rec.seq))\n",
    "    return muts"
   ]
  },
  {
   "cell_type": "markdown",
   "metadata": {},
   "source": [
    "### Test"
   ]
  },
  {
   "cell_type": "code",
   "execution_count": 5,
   "metadata": {},
   "outputs": [],
   "source": [
    "msa = read_ingroup_msa(paths_msa[10])\n",
    "si = SummaryInfo(msa)\n",
    "consensus = str(si.dumb_consensus())"
   ]
  },
  {
   "cell_type": "code",
   "execution_count": 6,
   "metadata": {},
   "outputs": [],
   "source": [
    "data = []\n",
    "for i, rec in enumerate(msa):\n",
    "    m = collect_snp_from_consensus(rec, consensus)\n",
    "    if len(m):\n",
    "        data.append(m.assign(seq_id=i))"
   ]
  },
  {
   "cell_type": "code",
   "execution_count": 7,
   "metadata": {},
   "outputs": [
    {
     "data": {
      "text/html": [
       "<div>\n",
       "<style scoped>\n",
       "    .dataframe tbody tr th:only-of-type {\n",
       "        vertical-align: middle;\n",
       "    }\n",
       "\n",
       "    .dataframe tbody tr th {\n",
       "        vertical-align: top;\n",
       "    }\n",
       "\n",
       "    .dataframe thead th {\n",
       "        text-align: right;\n",
       "    }\n",
       "</style>\n",
       "<table border=\"1\" class=\"dataframe\">\n",
       "  <thead>\n",
       "    <tr style=\"text-align: right;\">\n",
       "      <th></th>\n",
       "      <th>Mut</th>\n",
       "      <th>Label</th>\n",
       "      <th>PosInGene</th>\n",
       "      <th>PosInCodon</th>\n",
       "      <th>RefCodon</th>\n",
       "      <th>AltCodon</th>\n",
       "      <th>RefAa</th>\n",
       "      <th>AltAa</th>\n",
       "      <th>seq_id</th>\n",
       "    </tr>\n",
       "  </thead>\n",
       "  <tbody>\n",
       "    <tr>\n",
       "      <th>0</th>\n",
       "      <td>T[A&gt;G]C</td>\n",
       "      <td>1</td>\n",
       "      <td>258</td>\n",
       "      <td>3</td>\n",
       "      <td>ATA</td>\n",
       "      <td>ATG</td>\n",
       "      <td>M</td>\n",
       "      <td>M</td>\n",
       "      <td>0</td>\n",
       "    </tr>\n",
       "    <tr>\n",
       "      <th>1</th>\n",
       "      <td>C[T&gt;C]G</td>\n",
       "      <td>2</td>\n",
       "      <td>549</td>\n",
       "      <td>3</td>\n",
       "      <td>CCT</td>\n",
       "      <td>CCC</td>\n",
       "      <td>P</td>\n",
       "      <td>P</td>\n",
       "      <td>0</td>\n",
       "    </tr>\n",
       "    <tr>\n",
       "      <th>0</th>\n",
       "      <td>C[A&gt;G]A</td>\n",
       "      <td>2</td>\n",
       "      <td>309</td>\n",
       "      <td>3</td>\n",
       "      <td>TCA</td>\n",
       "      <td>TCG</td>\n",
       "      <td>S</td>\n",
       "      <td>S</td>\n",
       "      <td>1</td>\n",
       "    </tr>\n",
       "    <tr>\n",
       "      <th>0</th>\n",
       "      <td>C[A&gt;G]C</td>\n",
       "      <td>2</td>\n",
       "      <td>606</td>\n",
       "      <td>3</td>\n",
       "      <td>GCA</td>\n",
       "      <td>GCG</td>\n",
       "      <td>A</td>\n",
       "      <td>A</td>\n",
       "      <td>2</td>\n",
       "    </tr>\n",
       "    <tr>\n",
       "      <th>1</th>\n",
       "      <td>G[A&gt;G]T</td>\n",
       "      <td>2</td>\n",
       "      <td>648</td>\n",
       "      <td>3</td>\n",
       "      <td>GGA</td>\n",
       "      <td>GGG</td>\n",
       "      <td>G</td>\n",
       "      <td>G</td>\n",
       "      <td>2</td>\n",
       "    </tr>\n",
       "  </tbody>\n",
       "</table>\n",
       "</div>"
      ],
      "text/plain": [
       "       Mut  Label  PosInGene  PosInCodon RefCodon AltCodon RefAa AltAa  seq_id\n",
       "0  T[A>G]C      1        258           3      ATA      ATG     M     M       0\n",
       "1  C[T>C]G      2        549           3      CCT      CCC     P     P       0\n",
       "0  C[A>G]A      2        309           3      TCA      TCG     S     S       1\n",
       "0  C[A>G]C      2        606           3      GCA      GCG     A     A       2\n",
       "1  G[A>G]T      2        648           3      GGA      GGG     G     G       2"
      ]
     },
     "execution_count": 7,
     "metadata": {},
     "output_type": "execute_result"
    }
   ],
   "source": [
    "df = pd.concat(data)\n",
    "df.head()"
   ]
  },
  {
   "cell_type": "code",
   "execution_count": 8,
   "metadata": {},
   "outputs": [
    {
     "data": {
      "text/plain": [
       "PosInGene  Mut    \n",
       "54         C[A>C]C    7\n",
       "78         T[A>G]A    5\n",
       "81         C[A>G]C    1\n",
       "84         T[G>A]C    3\n",
       "90         A[A>G]C    2\n",
       "                     ..\n",
       "900        T[C>G]C    2\n",
       "903        C[T>C]A    1\n",
       "940        A[G>A]C    1\n",
       "941        G[C>T]G    1\n",
       "942        C[G>A]A    1\n",
       "Name: Label, Length: 168, dtype: int64"
      ]
     },
     "execution_count": 8,
     "metadata": {},
     "output_type": "execute_result"
    }
   ],
   "source": [
    "df.groupby(['PosInGene', 'Mut']).Label.count().sort_index()"
   ]
  },
  {
   "cell_type": "code",
   "execution_count": 9,
   "metadata": {},
   "outputs": [
    {
     "data": {
      "text/plain": [
       "<AxesSubplot:>"
      ]
     },
     "execution_count": 9,
     "metadata": {},
     "output_type": "execute_result"
    },
    {
     "data": {
      "image/png": "[encoded data removed]",
      "text/plain": [
       "<Figure size 640x480 with 1 Axes>"
      ]
     },
     "metadata": {},
     "output_type": "display_data"
    }
   ],
   "source": [
    "df.seq_id.value_counts().hist()"
   ]
  },
  {
   "cell_type": "markdown",
   "metadata": {},
   "source": [
    "### Collect obs muts"
   ]
  },
  {
   "cell_type": "code",
   "execution_count": 56,
   "metadata": {},
   "outputs": [],
   "source": [
    "def milti_collect(x, consensus):\n",
    "    i, rec = x\n",
    "    m = collect_snp_from_consensus(rec, consensus)\n",
    "    if len(m):\n",
    "        m = m.assign(seq_id=i)\n",
    "    return m\n",
    "\n",
    "p = Pool(64)"
   ]
  },
  {
   "cell_type": "code",
   "execution_count": 62,
   "metadata": {},
   "outputs": [],
   "source": [
    "_ = p.map(partial(milti_collect, consensus=consensus), enumerate(msa))\n",
    "x = pd.concat(_, ignore_index=True)"
   ]
  },
  {
   "cell_type": "code",
   "execution_count": 67,
   "metadata": {},
   "outputs": [
    {
     "name": "stderr",
     "output_type": "stream",
     "text": [
      "100%|██████████| 9252/9252 [21:59<00:00,  7.01it/s]  \n"
     ]
    }
   ],
   "source": [
    "data = []\n",
    "\n",
    "j = 0\n",
    "for path_fasta in tqdm.tqdm(paths_msa):\n",
    "    j += 1\n",
    "    p_elements = path_fasta.split('/')\n",
    "    gene_species = p_elements[8]\n",
    "\n",
    "    msa = read_ingroup_msa(path_fasta)\n",
    "    si = SummaryInfo(msa)\n",
    "    consensus = si.dumb_consensus(0.5, 'N')\n",
    "    \n",
    "    muts_from_seqs_lst = p.map(partial(milti_collect, consensus=consensus), enumerate(msa))\n",
    "    muts_from_seqs_lst = [x for x in muts_from_seqs_lst if len(x)]\n",
    "    # muts_from_seqs_lst = []\n",
    "    # for i, rec in enumerate(msa):\n",
    "    #     m = collect_snp_from_consensus(rec, consensus)\n",
    "    #     if len(m):\n",
    "    #         muts_from_seqs_lst.append(m.assign(seq_id=i))\n",
    "\n",
    "    if len(muts_from_seqs_lst):\n",
    "        mut = pd.concat(muts_from_seqs_lst, ignore_index=True).assign(gene_species=gene_species)\n",
    "        data.append(mut)\n",
    "    \n",
    "    # if j > 10:\n",
    "    #     break\n",
    "\n",
    "obs_poly = pd.concat(data, ignore_index=True)\n",
    "obs_poly.to_csv('../data/chordata2/obs_muts_poly.csv', index=False)"
   ]
  },
  {
   "cell_type": "code",
   "execution_count": 69,
   "metadata": {},
   "outputs": [
    {
     "data": {
      "text/html": [
       "<div>\n",
       "<style scoped>\n",
       "    .dataframe tbody tr th:only-of-type {\n",
       "        vertical-align: middle;\n",
       "    }\n",
       "\n",
       "    .dataframe tbody tr th {\n",
       "        vertical-align: top;\n",
       "    }\n",
       "\n",
       "    .dataframe thead th {\n",
       "        text-align: right;\n",
       "    }\n",
       "</style>\n",
       "<table border=\"1\" class=\"dataframe\">\n",
       "  <thead>\n",
       "    <tr style=\"text-align: right;\">\n",
       "      <th></th>\n",
       "      <th>Mut</th>\n",
       "      <th>Label</th>\n",
       "      <th>PosInGene</th>\n",
       "      <th>PosInCodon</th>\n",
       "      <th>RefCodon</th>\n",
       "      <th>AltCodon</th>\n",
       "      <th>RefAa</th>\n",
       "      <th>AltAa</th>\n",
       "      <th>seq_id</th>\n",
       "      <th>gene_species</th>\n",
       "    </tr>\n",
       "  </thead>\n",
       "  <tbody>\n",
       "    <tr>\n",
       "      <th>0</th>\n",
       "      <td>C[A&gt;G]T</td>\n",
       "      <td>0</td>\n",
       "      <td>25</td>\n",
       "      <td>1</td>\n",
       "      <td>ATT</td>\n",
       "      <td>GTT</td>\n",
       "      <td>I</td>\n",
       "      <td>V</td>\n",
       "      <td>0</td>\n",
       "      <td>ND1__Eleotris_fusca</td>\n",
       "    </tr>\n",
       "    <tr>\n",
       "      <th>1</th>\n",
       "      <td>C[G&gt;A]G</td>\n",
       "      <td>2</td>\n",
       "      <td>645</td>\n",
       "      <td>3</td>\n",
       "      <td>TCG</td>\n",
       "      <td>TCA</td>\n",
       "      <td>S</td>\n",
       "      <td>S</td>\n",
       "      <td>0</td>\n",
       "      <td>ND1__Eleotris_fusca</td>\n",
       "    </tr>\n",
       "    <tr>\n",
       "      <th>2</th>\n",
       "      <td>T[A&gt;G]C</td>\n",
       "      <td>1</td>\n",
       "      <td>876</td>\n",
       "      <td>3</td>\n",
       "      <td>ATA</td>\n",
       "      <td>ATG</td>\n",
       "      <td>M</td>\n",
       "      <td>M</td>\n",
       "      <td>0</td>\n",
       "      <td>ND1__Eleotris_fusca</td>\n",
       "    </tr>\n",
       "    <tr>\n",
       "      <th>3</th>\n",
       "      <td>T[T&gt;C]C</td>\n",
       "      <td>2</td>\n",
       "      <td>57</td>\n",
       "      <td>3</td>\n",
       "      <td>GTT</td>\n",
       "      <td>GTC</td>\n",
       "      <td>V</td>\n",
       "      <td>V</td>\n",
       "      <td>1</td>\n",
       "      <td>ND1__Eleotris_fusca</td>\n",
       "    </tr>\n",
       "    <tr>\n",
       "      <th>4</th>\n",
       "      <td>C[C&gt;T]G</td>\n",
       "      <td>2</td>\n",
       "      <td>564</td>\n",
       "      <td>3</td>\n",
       "      <td>GCC</td>\n",
       "      <td>GCT</td>\n",
       "      <td>A</td>\n",
       "      <td>A</td>\n",
       "      <td>1</td>\n",
       "      <td>ND1__Eleotris_fusca</td>\n",
       "    </tr>\n",
       "    <tr>\n",
       "      <th>...</th>\n",
       "      <td>...</td>\n",
       "      <td>...</td>\n",
       "      <td>...</td>\n",
       "      <td>...</td>\n",
       "      <td>...</td>\n",
       "      <td>...</td>\n",
       "      <td>...</td>\n",
       "      <td>...</td>\n",
       "      <td>...</td>\n",
       "      <td>...</td>\n",
       "    </tr>\n",
       "    <tr>\n",
       "      <th>3782440</th>\n",
       "      <td>A[C&gt;T]G</td>\n",
       "      <td>1</td>\n",
       "      <td>192</td>\n",
       "      <td>3</td>\n",
       "      <td>CAC</td>\n",
       "      <td>CAT</td>\n",
       "      <td>H</td>\n",
       "      <td>H</td>\n",
       "      <td>6</td>\n",
       "      <td>ND4L__Branchiostoma_belcheri</td>\n",
       "    </tr>\n",
       "    <tr>\n",
       "      <th>3782441</th>\n",
       "      <td>C[A&gt;G]C</td>\n",
       "      <td>2</td>\n",
       "      <td>12</td>\n",
       "      <td>3</td>\n",
       "      <td>ACA</td>\n",
       "      <td>ACG</td>\n",
       "      <td>T</td>\n",
       "      <td>T</td>\n",
       "      <td>7</td>\n",
       "      <td>ND4L__Branchiostoma_belcheri</td>\n",
       "    </tr>\n",
       "    <tr>\n",
       "      <th>3782442</th>\n",
       "      <td>G[T&gt;C]T</td>\n",
       "      <td>2</td>\n",
       "      <td>93</td>\n",
       "      <td>3</td>\n",
       "      <td>GGT</td>\n",
       "      <td>GGC</td>\n",
       "      <td>G</td>\n",
       "      <td>G</td>\n",
       "      <td>8</td>\n",
       "      <td>ND4L__Branchiostoma_belcheri</td>\n",
       "    </tr>\n",
       "    <tr>\n",
       "      <th>3782443</th>\n",
       "      <td>A[A&gt;G]A</td>\n",
       "      <td>1</td>\n",
       "      <td>9</td>\n",
       "      <td>3</td>\n",
       "      <td>CAA</td>\n",
       "      <td>CAG</td>\n",
       "      <td>Q</td>\n",
       "      <td>Q</td>\n",
       "      <td>9</td>\n",
       "      <td>ND4L__Branchiostoma_belcheri</td>\n",
       "    </tr>\n",
       "    <tr>\n",
       "      <th>3782444</th>\n",
       "      <td>T[A&gt;G]T</td>\n",
       "      <td>1</td>\n",
       "      <td>33</td>\n",
       "      <td>3</td>\n",
       "      <td>TTA</td>\n",
       "      <td>TTG</td>\n",
       "      <td>L</td>\n",
       "      <td>L</td>\n",
       "      <td>10</td>\n",
       "      <td>ND4L__Branchiostoma_belcheri</td>\n",
       "    </tr>\n",
       "  </tbody>\n",
       "</table>\n",
       "<p>3782445 rows × 10 columns</p>\n",
       "</div>"
      ],
      "text/plain": [
       "             Mut  Label  PosInGene  PosInCodon RefCodon AltCodon RefAa AltAa  \\\n",
       "0        C[A>G]T      0         25           1      ATT      GTT     I     V   \n",
       "1        C[G>A]G      2        645           3      TCG      TCA     S     S   \n",
       "2        T[A>G]C      1        876           3      ATA      ATG     M     M   \n",
       "3        T[T>C]C      2         57           3      GTT      GTC     V     V   \n",
       "4        C[C>T]G      2        564           3      GCC      GCT     A     A   \n",
       "...          ...    ...        ...         ...      ...      ...   ...   ...   \n",
       "3782440  A[C>T]G      1        192           3      CAC      CAT     H     H   \n",
       "3782441  C[A>G]C      2         12           3      ACA      ACG     T     T   \n",
       "3782442  G[T>C]T      2         93           3      GGT      GGC     G     G   \n",
       "3782443  A[A>G]A      1          9           3      CAA      CAG     Q     Q   \n",
       "3782444  T[A>G]T      1         33           3      TTA      TTG     L     L   \n",
       "\n",
       "         seq_id                  gene_species  \n",
       "0             0           ND1__Eleotris_fusca  \n",
       "1             0           ND1__Eleotris_fusca  \n",
       "2             0           ND1__Eleotris_fusca  \n",
       "3             1           ND1__Eleotris_fusca  \n",
       "4             1           ND1__Eleotris_fusca  \n",
       "...         ...                           ...  \n",
       "3782440       6  ND4L__Branchiostoma_belcheri  \n",
       "3782441       7  ND4L__Branchiostoma_belcheri  \n",
       "3782442       8  ND4L__Branchiostoma_belcheri  \n",
       "3782443       9  ND4L__Branchiostoma_belcheri  \n",
       "3782444      10  ND4L__Branchiostoma_belcheri  \n",
       "\n",
       "[3782445 rows x 10 columns]"
      ]
     },
     "execution_count": 69,
     "metadata": {},
     "output_type": "execute_result"
    }
   ],
   "source": [
    "obs_poly"
   ]
  },
  {
   "cell_type": "markdown",
   "metadata": {},
   "source": [
    "## Filter out ambigous positions and derive spectra"
   ]
  },
  {
   "cell_type": "markdown",
   "metadata": {},
   "source": [
    "### Collect bad sites"
   ]
  },
  {
   "cell_type": "code",
   "execution_count": 96,
   "metadata": {},
   "outputs": [
    {
     "name": "stderr",
     "output_type": "stream",
     "text": [
      "  0%|          | 26/9250 [00:05<36:49,  4.17it/s] "
     ]
    }
   ],
   "source": [
    "# need to filter out amb msa columns (sites), i.e. drop mutations from these sites\n",
    "\n",
    "thr0 = 0.50\n",
    "thr1 = 0.05\n",
    "thr2 = 0.05\n",
    "\n",
    "j = 0\n",
    "bad_sites = []\n",
    "for path_fasta in tqdm.tqdm(paths_msa[2:]):\n",
    "    j += 1\n",
    "    p_elements = path_fasta.split('/')\n",
    "    gene_species = p_elements[8]\n",
    "\n",
    "    msa = read_ingroup_msa(path_fasta)\n",
    "    si = SummaryInfo(msa)\n",
    "    pssm = si.pos_specific_score_matrix().pssm\n",
    "    \n",
    "    nseqs = len(msa)\n",
    "    ncols = msa.get_alignment_length()\n",
    "\n",
    "    show_freqs = False\n",
    "    i = 0\n",
    "    for site, (nuc, counts) in enumerate(pssm):\n",
    "        counts_sorted = sorted(counts.values(), reverse=True)\n",
    "        freqs_sorted = [x / sum(counts_sorted) for x in counts_sorted]\n",
    "        if freqs_sorted[0] < thr0:\n",
    "            ...\n",
    "            show_freqs = True\n",
    "        elif freqs_sorted[1] >= thr1:\n",
    "            ...\n",
    "            show_freqs = True\n",
    "        elif freqs_sorted[2] >= thr2:\n",
    "            ...\n",
    "            show_freqs = True\n",
    "\n",
    "        if show_freqs:\n",
    "            # print(counts)\n",
    "            show_freqs = False\n",
    "            i += 1\n",
    "            bad_sites.append([gene_species, site, [round(x,2) for x in freqs_sorted]])\n",
    "\n",
    "    # print(f'{gene_species} - amb cols: {i}, {i/ncols:.3f}%')\n",
    "\n",
    "    # if j > 2:\n",
    "    #     break"
   ]
  },
  {
   "cell_type": "code",
   "execution_count": null,
   "metadata": {},
   "outputs": [],
   "source": [
    "bad_sites_df = pd.DataFrame(bad_sites, columns=['gene_species', 'site', 'freqs_sorted'])\n",
    "bad_sites_df.to_csv('../data/chordata2/bad_sites.05.05.csv', index=False)"
   ]
  },
  {
   "cell_type": "markdown",
   "metadata": {},
   "source": [
    "### Get spectra"
   ]
  },
  {
   "cell_type": "code",
   "execution_count": 6,
   "metadata": {},
   "outputs": [
    {
     "data": {
      "text/html": [
       "<div>\n",
       "<style scoped>\n",
       "    .dataframe tbody tr th:only-of-type {\n",
       "        vertical-align: middle;\n",
       "    }\n",
       "\n",
       "    .dataframe tbody tr th {\n",
       "        vertical-align: top;\n",
       "    }\n",
       "\n",
       "    .dataframe thead th {\n",
       "        text-align: right;\n",
       "    }\n",
       "</style>\n",
       "<table border=\"1\" class=\"dataframe\">\n",
       "  <thead>\n",
       "    <tr style=\"text-align: right;\">\n",
       "      <th></th>\n",
       "      <th>Mut</th>\n",
       "      <th>Label</th>\n",
       "      <th>site</th>\n",
       "      <th>PosInCodon</th>\n",
       "      <th>RefCodon</th>\n",
       "      <th>AltCodon</th>\n",
       "      <th>RefAa</th>\n",
       "      <th>AltAa</th>\n",
       "      <th>seq_id</th>\n",
       "      <th>gene_species</th>\n",
       "    </tr>\n",
       "  </thead>\n",
       "  <tbody>\n",
       "    <tr>\n",
       "      <th>0</th>\n",
       "      <td>C[A&gt;G]T</td>\n",
       "      <td>0</td>\n",
       "      <td>25</td>\n",
       "      <td>1</td>\n",
       "      <td>ATT</td>\n",
       "      <td>GTT</td>\n",
       "      <td>I</td>\n",
       "      <td>V</td>\n",
       "      <td>0</td>\n",
       "      <td>ND1__Eleotris_fusca</td>\n",
       "    </tr>\n",
       "    <tr>\n",
       "      <th>1</th>\n",
       "      <td>C[G&gt;A]G</td>\n",
       "      <td>2</td>\n",
       "      <td>645</td>\n",
       "      <td>3</td>\n",
       "      <td>TCG</td>\n",
       "      <td>TCA</td>\n",
       "      <td>S</td>\n",
       "      <td>S</td>\n",
       "      <td>0</td>\n",
       "      <td>ND1__Eleotris_fusca</td>\n",
       "    </tr>\n",
       "    <tr>\n",
       "      <th>2</th>\n",
       "      <td>T[A&gt;G]C</td>\n",
       "      <td>1</td>\n",
       "      <td>876</td>\n",
       "      <td>3</td>\n",
       "      <td>ATA</td>\n",
       "      <td>ATG</td>\n",
       "      <td>M</td>\n",
       "      <td>M</td>\n",
       "      <td>0</td>\n",
       "      <td>ND1__Eleotris_fusca</td>\n",
       "    </tr>\n",
       "    <tr>\n",
       "      <th>3</th>\n",
       "      <td>T[T&gt;C]C</td>\n",
       "      <td>2</td>\n",
       "      <td>57</td>\n",
       "      <td>3</td>\n",
       "      <td>GTT</td>\n",
       "      <td>GTC</td>\n",
       "      <td>V</td>\n",
       "      <td>V</td>\n",
       "      <td>1</td>\n",
       "      <td>ND1__Eleotris_fusca</td>\n",
       "    </tr>\n",
       "    <tr>\n",
       "      <th>4</th>\n",
       "      <td>C[C&gt;T]G</td>\n",
       "      <td>2</td>\n",
       "      <td>564</td>\n",
       "      <td>3</td>\n",
       "      <td>GCC</td>\n",
       "      <td>GCT</td>\n",
       "      <td>A</td>\n",
       "      <td>A</td>\n",
       "      <td>1</td>\n",
       "      <td>ND1__Eleotris_fusca</td>\n",
       "    </tr>\n",
       "  </tbody>\n",
       "</table>\n",
       "</div>"
      ],
      "text/plain": [
       "       Mut  Label  site  PosInCodon RefCodon AltCodon RefAa AltAa  seq_id  \\\n",
       "0  C[A>G]T      0    25           1      ATT      GTT     I     V       0   \n",
       "1  C[G>A]G      2   645           3      TCG      TCA     S     S       0   \n",
       "2  T[A>G]C      1   876           3      ATA      ATG     M     M       0   \n",
       "3  T[T>C]C      2    57           3      GTT      GTC     V     V       1   \n",
       "4  C[C>T]G      2   564           3      GCC      GCT     A     A       1   \n",
       "\n",
       "          gene_species  \n",
       "0  ND1__Eleotris_fusca  \n",
       "1  ND1__Eleotris_fusca  \n",
       "2  ND1__Eleotris_fusca  \n",
       "3  ND1__Eleotris_fusca  \n",
       "4  ND1__Eleotris_fusca  "
      ]
     },
     "execution_count": 6,
     "metadata": {},
     "output_type": "execute_result"
    }
   ],
   "source": [
    "obs_poly = pd.read_csv(\"../data/chordata2/obs_muts_poly.csv\")\n",
    "obs_poly.rename(columns={'PosInGene': 'site'}, inplace=True)\n",
    "obs_poly.head()"
   ]
  },
  {
   "cell_type": "code",
   "execution_count": 8,
   "metadata": {},
   "outputs": [
    {
     "data": {
      "text/plain": [
       "4"
      ]
     },
     "execution_count": 8,
     "metadata": {},
     "output_type": "execute_result"
    }
   ],
   "source": [
    "obs_poly.site.min()"
   ]
  },
  {
   "cell_type": "code",
   "execution_count": 16,
   "metadata": {},
   "outputs": [],
   "source": [
    "bad_sites_df2520 = pd.read_csv('../data/chordata2/bad_sites.25.20.csv', \n",
    "                               usecols=['gene_species', 'site']).assign(amb=True)\n",
    "bad_sites_df1510 = pd.read_csv('../data/chordata2/bad_sites.15.10.csv', \n",
    "                               usecols=['gene_species', 'site']).assign(amb=True)\n",
    "bad_sites_df0505 = pd.read_csv('../data/chordata2/bad_sites.05.05.csv', \n",
    "                               usecols=['gene_species', 'site']).assign(amb=True)\n",
    "\n",
    "bad_sites_df2520[\"site\"] += 1\n",
    "bad_sites_df1510[\"site\"] += 1\n",
    "bad_sites_df0505[\"site\"] += 1"
   ]
  },
  {
   "cell_type": "code",
   "execution_count": 17,
   "metadata": {},
   "outputs": [
    {
     "data": {
      "text/html": [
       "<div>\n",
       "<style scoped>\n",
       "    .dataframe tbody tr th:only-of-type {\n",
       "        vertical-align: middle;\n",
       "    }\n",
       "\n",
       "    .dataframe tbody tr th {\n",
       "        vertical-align: top;\n",
       "    }\n",
       "\n",
       "    .dataframe thead th {\n",
       "        text-align: right;\n",
       "    }\n",
       "</style>\n",
       "<table border=\"1\" class=\"dataframe\">\n",
       "  <thead>\n",
       "    <tr style=\"text-align: right;\">\n",
       "      <th></th>\n",
       "      <th>gene_species</th>\n",
       "      <th>site</th>\n",
       "      <th>amb</th>\n",
       "    </tr>\n",
       "  </thead>\n",
       "  <tbody>\n",
       "    <tr>\n",
       "      <th>0</th>\n",
       "      <td>ND1__Anaxyrus_fowleri</td>\n",
       "      <td>24</td>\n",
       "      <td>True</td>\n",
       "    </tr>\n",
       "    <tr>\n",
       "      <th>1</th>\n",
       "      <td>ND1__Anaxyrus_fowleri</td>\n",
       "      <td>36</td>\n",
       "      <td>True</td>\n",
       "    </tr>\n",
       "    <tr>\n",
       "      <th>2</th>\n",
       "      <td>ND1__Anaxyrus_fowleri</td>\n",
       "      <td>69</td>\n",
       "      <td>True</td>\n",
       "    </tr>\n",
       "    <tr>\n",
       "      <th>3</th>\n",
       "      <td>ND1__Anaxyrus_fowleri</td>\n",
       "      <td>153</td>\n",
       "      <td>True</td>\n",
       "    </tr>\n",
       "    <tr>\n",
       "      <th>4</th>\n",
       "      <td>ND1__Anaxyrus_fowleri</td>\n",
       "      <td>162</td>\n",
       "      <td>True</td>\n",
       "    </tr>\n",
       "    <tr>\n",
       "      <th>...</th>\n",
       "      <td>...</td>\n",
       "      <td>...</td>\n",
       "      <td>...</td>\n",
       "    </tr>\n",
       "    <tr>\n",
       "      <th>334284</th>\n",
       "      <td>ND4L__Branchiostoma_belcheri</td>\n",
       "      <td>93</td>\n",
       "      <td>True</td>\n",
       "    </tr>\n",
       "    <tr>\n",
       "      <th>334285</th>\n",
       "      <td>ND4L__Branchiostoma_belcheri</td>\n",
       "      <td>102</td>\n",
       "      <td>True</td>\n",
       "    </tr>\n",
       "    <tr>\n",
       "      <th>334286</th>\n",
       "      <td>ND4L__Branchiostoma_belcheri</td>\n",
       "      <td>126</td>\n",
       "      <td>True</td>\n",
       "    </tr>\n",
       "    <tr>\n",
       "      <th>334287</th>\n",
       "      <td>ND4L__Branchiostoma_belcheri</td>\n",
       "      <td>159</td>\n",
       "      <td>True</td>\n",
       "    </tr>\n",
       "    <tr>\n",
       "      <th>334288</th>\n",
       "      <td>ND4L__Branchiostoma_belcheri</td>\n",
       "      <td>192</td>\n",
       "      <td>True</td>\n",
       "    </tr>\n",
       "  </tbody>\n",
       "</table>\n",
       "<p>334289 rows × 3 columns</p>\n",
       "</div>"
      ],
      "text/plain": [
       "                        gene_species  site   amb\n",
       "0              ND1__Anaxyrus_fowleri    24  True\n",
       "1              ND1__Anaxyrus_fowleri    36  True\n",
       "2              ND1__Anaxyrus_fowleri    69  True\n",
       "3              ND1__Anaxyrus_fowleri   153  True\n",
       "4              ND1__Anaxyrus_fowleri   162  True\n",
       "...                              ...   ...   ...\n",
       "334284  ND4L__Branchiostoma_belcheri    93  True\n",
       "334285  ND4L__Branchiostoma_belcheri   102  True\n",
       "334286  ND4L__Branchiostoma_belcheri   126  True\n",
       "334287  ND4L__Branchiostoma_belcheri   159  True\n",
       "334288  ND4L__Branchiostoma_belcheri   192  True\n",
       "\n",
       "[334289 rows x 3 columns]"
      ]
     },
     "execution_count": 17,
     "metadata": {},
     "output_type": "execute_result"
    }
   ],
   "source": [
    "bad_sites_df1510#.assign(amb=True)#[\"site\"].min()"
   ]
  },
  {
   "cell_type": "code",
   "execution_count": 19,
   "metadata": {},
   "outputs": [],
   "source": [
    "obs_poly2520 = obs_poly.merge(bad_sites_df2520, 'left', ['gene_species', 'site'])\n",
    "obs_poly1510 = obs_poly.merge(bad_sites_df1510, 'left', ['gene_species', 'site'])\n",
    "obs_poly0505 = obs_poly.merge(bad_sites_df0505, 'left', ['gene_species', 'site'])"
   ]
  },
  {
   "cell_type": "code",
   "execution_count": 27,
   "metadata": {},
   "outputs": [
    {
     "data": {
      "text/plain": [
       "(178889, 290150, 531937)"
      ]
     },
     "execution_count": 27,
     "metadata": {},
     "output_type": "execute_result"
    }
   ],
   "source": [
    "obs_poly2520.drop_duplicates(['gene_species', 'site']).amb.sum(), obs_poly1510.drop_duplicates(['gene_species', 'site']).amb.sum(), obs_poly0505.drop_duplicates(['gene_species', 'site']).amb.sum()"
   ]
  },
  {
   "cell_type": "code",
   "execution_count": 23,
   "metadata": {},
   "outputs": [
    {
     "data": {
      "text/plain": [
       "((208254, 3), (334289, 3), (748202, 3))"
      ]
     },
     "execution_count": 23,
     "metadata": {},
     "output_type": "execute_result"
    }
   ],
   "source": [
    "bad_sites_df2520.shape, bad_sites_df1510.shape, bad_sites_df0505.shape,"
   ]
  },
  {
   "cell_type": "code",
   "execution_count": null,
   "metadata": {},
   "outputs": [],
   "source": []
  },
  {
   "cell_type": "code",
   "execution_count": null,
   "metadata": {},
   "outputs": [],
   "source": []
  },
  {
   "cell_type": "code",
   "execution_count": null,
   "metadata": {},
   "outputs": [],
   "source": []
  }
 ],
 "metadata": {
  "kernelspec": {
   "display_name": "env_pipe",
   "language": "python",
   "name": "python3"
  },
  "language_info": {
   "codemirror_mode": {
    "name": "ipython",
    "version": 3
   },
   "file_extension": ".py",
   "mimetype": "text/x-python",
   "name": "python",
   "nbconvert_exporter": "python",
   "pygments_lexer": "ipython3",
   "version": "3.9.18"
  }
 },
 "nbformat": 4,
 "nbformat_minor": 2
}
