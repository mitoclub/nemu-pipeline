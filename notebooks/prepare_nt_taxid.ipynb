{
 "cells": [
  {
   "cell_type": "code",
   "execution_count": 1,
   "metadata": {},
   "outputs": [],
   "source": [
    "import numpy as np\n",
    "import pandas as pd\n",
    "import matplotlib\n",
    "import matplotlib.pyplot as plt\n",
    "import seaborn as sns\n",
    "import tqdm"
   ]
  },
  {
   "cell_type": "code",
   "execution_count": null,
   "metadata": {},
   "outputs": [
    {
     "name": "stderr",
     "output_type": "stream",
     "text": [
      "113562617it [01:56, 978720.72it/s] \n"
     ]
    }
   ],
   "source": [
    "# # split table\n",
    "# p = '../data/nt_seqs_taxid.csv'\n",
    "\n",
    "# flt = open(p + '.flt', 'w')\n",
    "# bad = open(p + '.bad', 'w')\n",
    "\n",
    "# with open(p) as fin:\n",
    "#     for i, line in tqdm.tqdm(enumerate(fin)):\n",
    "#         if line.count(',') == 4:\n",
    "#             flt.write(line)\n",
    "#         else:\n",
    "#             bad.write(line)\n",
    "#         # if i > 10:\n",
    "#         #     break\n",
    "\n",
    "# flt.close()\n",
    "# bad.close()"
   ]
  },
  {
   "cell_type": "code",
   "execution_count": 13,
   "metadata": {},
   "outputs": [],
   "source": [
    "# data = []\n",
    "# cols = ['acc', 'gene_id', 'taxid', 'species_name', 'seq_len']\n",
    "# with open('../data/nt_seqs_taxid.csv.bad') as fin:\n",
    "#     for line in fin:\n",
    "#         parts = line.strip().split(',')\n",
    "#         acc = parts[0]\n",
    "#         gene_id = parts[1]\n",
    "#         taxid = parts[2]\n",
    "#         seq_len = parts[-1]\n",
    "#         species_name = ','.join(parts[3: -1])\n",
    "#         data.append([acc, gene_id, taxid, species_name, seq_len])\n",
    "# df_bad = pd.DataFrame(data, columns=cols)\n",
    "\n",
    "# p = '../data/nt_seqs_taxid.csv.flt'\n",
    "# nt_entries = pd.read_csv(p, header=None, names=cols)\n",
    "# nt_entries_all = pd.concat([nt_entries, df_bad], ignore_index=True)"
   ]
  },
  {
   "cell_type": "code",
   "execution_count": 34,
   "metadata": {},
   "outputs": [
    {
     "data": {
      "text/html": [
       "<div>\n",
       "<style scoped>\n",
       "    .dataframe tbody tr th:only-of-type {\n",
       "        vertical-align: middle;\n",
       "    }\n",
       "\n",
       "    .dataframe tbody tr th {\n",
       "        vertical-align: top;\n",
       "    }\n",
       "\n",
       "    .dataframe thead th {\n",
       "        text-align: right;\n",
       "    }\n",
       "</style>\n",
       "<table border=\"1\" class=\"dataframe\">\n",
       "  <thead>\n",
       "    <tr style=\"text-align: right;\">\n",
       "      <th></th>\n",
       "      <th>acc</th>\n",
       "      <th>gene_id</th>\n",
       "      <th>taxid</th>\n",
       "      <th>species_name</th>\n",
       "      <th>seq_len</th>\n",
       "    </tr>\n",
       "  </thead>\n",
       "  <tbody>\n",
       "    <tr>\n",
       "      <th>0</th>\n",
       "      <td>X17276.1</td>\n",
       "      <td>emb|X17276.1|</td>\n",
       "      <td>9646</td>\n",
       "      <td>Ailuropoda melanoleuca</td>\n",
       "      <td>556</td>\n",
       "    </tr>\n",
       "    <tr>\n",
       "      <th>1</th>\n",
       "      <td>X51700.1</td>\n",
       "      <td>emb|X51700.1|</td>\n",
       "      <td>9913</td>\n",
       "      <td>Bos taurus</td>\n",
       "      <td>437</td>\n",
       "    </tr>\n",
       "    <tr>\n",
       "      <th>2</th>\n",
       "      <td>X68321.1</td>\n",
       "      <td>emb|X68321.1|</td>\n",
       "      <td>9913</td>\n",
       "      <td>Bos taurus</td>\n",
       "      <td>1512</td>\n",
       "    </tr>\n",
       "    <tr>\n",
       "      <th>3</th>\n",
       "      <td>X55027.1</td>\n",
       "      <td>emb|X55027.1|</td>\n",
       "      <td>9913</td>\n",
       "      <td>Bos taurus</td>\n",
       "      <td>2367</td>\n",
       "    </tr>\n",
       "    <tr>\n",
       "      <th>4</th>\n",
       "      <td>Z12029.1</td>\n",
       "      <td>emb|Z12029.1|</td>\n",
       "      <td>9915</td>\n",
       "      <td>Bos indicus</td>\n",
       "      <td>540</td>\n",
       "    </tr>\n",
       "    <tr>\n",
       "      <th>...</th>\n",
       "      <td>...</td>\n",
       "      <td>...</td>\n",
       "      <td>...</td>\n",
       "      <td>...</td>\n",
       "      <td>...</td>\n",
       "    </tr>\n",
       "    <tr>\n",
       "      <th>113559304</th>\n",
       "      <td>NM_001384794.1</td>\n",
       "      <td>ref|NM_001384794.1|</td>\n",
       "      <td>9606</td>\n",
       "      <td>Homo sapiens</td>\n",
       "      <td>5511</td>\n",
       "    </tr>\n",
       "    <tr>\n",
       "      <th>113559305</th>\n",
       "      <td>NM_001384831.1</td>\n",
       "      <td>ref|NM_001384831.1|</td>\n",
       "      <td>9606</td>\n",
       "      <td>Homo sapiens</td>\n",
       "      <td>5529</td>\n",
       "    </tr>\n",
       "    <tr>\n",
       "      <th>113559306</th>\n",
       "      <td>MT379648.1</td>\n",
       "      <td>gb|MT379648.1|</td>\n",
       "      <td>2729096</td>\n",
       "      <td>Gluconacetobacter dulcium</td>\n",
       "      <td>1479</td>\n",
       "    </tr>\n",
       "    <tr>\n",
       "      <th>113559307</th>\n",
       "      <td>MT379649.1</td>\n",
       "      <td>gb|MT379649.1|</td>\n",
       "      <td>2729096</td>\n",
       "      <td>Gluconacetobacter dulcium</td>\n",
       "      <td>1479</td>\n",
       "    </tr>\n",
       "    <tr>\n",
       "      <th>113559308</th>\n",
       "      <td>MT379650.1</td>\n",
       "      <td>gb|MT379650.1|</td>\n",
       "      <td>2729096</td>\n",
       "      <td>Gluconacetobacter dulcium</td>\n",
       "      <td>1479</td>\n",
       "    </tr>\n",
       "  </tbody>\n",
       "</table>\n",
       "<p>113559309 rows × 5 columns</p>\n",
       "</div>"
      ],
      "text/plain": [
       "                      acc              gene_id    taxid  \\\n",
       "0                X17276.1        emb|X17276.1|     9646   \n",
       "1                X51700.1        emb|X51700.1|     9913   \n",
       "2                X68321.1        emb|X68321.1|     9913   \n",
       "3                X55027.1        emb|X55027.1|     9913   \n",
       "4                Z12029.1        emb|Z12029.1|     9915   \n",
       "...                   ...                  ...      ...   \n",
       "113559304  NM_001384794.1  ref|NM_001384794.1|     9606   \n",
       "113559305  NM_001384831.1  ref|NM_001384831.1|     9606   \n",
       "113559306      MT379648.1       gb|MT379648.1|  2729096   \n",
       "113559307      MT379649.1       gb|MT379649.1|  2729096   \n",
       "113559308      MT379650.1       gb|MT379650.1|  2729096   \n",
       "\n",
       "                        species_name  seq_len  \n",
       "0             Ailuropoda melanoleuca      556  \n",
       "1                         Bos taurus      437  \n",
       "2                         Bos taurus     1512  \n",
       "3                         Bos taurus     2367  \n",
       "4                        Bos indicus      540  \n",
       "...                              ...      ...  \n",
       "113559304               Homo sapiens     5511  \n",
       "113559305               Homo sapiens     5529  \n",
       "113559306  Gluconacetobacter dulcium     1479  \n",
       "113559307  Gluconacetobacter dulcium     1479  \n",
       "113559308  Gluconacetobacter dulcium     1479  \n",
       "\n",
       "[113559309 rows x 5 columns]"
      ]
     },
     "execution_count": 34,
     "metadata": {},
     "output_type": "execute_result"
    }
   ],
   "source": [
    "p = '../data/nt_seqs_taxid.csv.flt'\n",
    "nt_entries = pd.read_csv(p, header=None, names=cols)\n",
    "nt_entries"
   ]
  },
  {
   "cell_type": "code",
   "execution_count": 36,
   "metadata": {},
   "outputs": [],
   "source": [
    "nt_entries_all = pd.concat([nt_entries, df_bad], ignore_index=True)"
   ]
  },
  {
   "cell_type": "code",
   "execution_count": 41,
   "metadata": {},
   "outputs": [],
   "source": [
    "nt_entries_all.to_csv('../data/nt_seqs_taxid.csv.gz', index=False)"
   ]
  },
  {
   "cell_type": "code",
   "execution_count": 51,
   "metadata": {},
   "outputs": [],
   "source": [
    "cnt = nt_entries_all.groupby('species_name').acc.count()\n",
    "cnt_taxid = nt_entries_all.groupby('taxid').acc.count()"
   ]
  },
  {
   "cell_type": "code",
   "execution_count": 52,
   "metadata": {},
   "outputs": [
    {
     "data": {
      "text/plain": [
       "taxid\n",
       "1594477          1\n",
       "1827219          1\n",
       "1827218          1\n",
       "1827217          1\n",
       "1827216          1\n",
       "            ...   \n",
       "61474       660135\n",
       "11676      1075869\n",
       "9606       1425060\n",
       "77133      5776860\n",
       "2697049    8740422\n",
       "Name: acc, Length: 2108780, dtype: int64"
      ]
     },
     "execution_count": 52,
     "metadata": {},
     "output_type": "execute_result"
    }
   ],
   "source": [
    "cnt_taxid.sort_values()"
   ]
  },
  {
   "cell_type": "code",
   "execution_count": 97,
   "metadata": {},
   "outputs": [],
   "source": [
    "cnt_taxid.rename('nseqs').to_csv('../data/nt_taxid/taxid2nseqs.csv')"
   ]
  },
  {
   "cell_type": "code",
   "execution_count": 86,
   "metadata": {},
   "outputs": [
    {
     "name": "stdout",
     "output_type": "stream",
     "text": [
      ">1 seqs - 881928 taxids\n",
      ">10 seqs - 215352 taxids\n",
      ">100 seqs - 30208 taxids\n",
      ">1000 seqs - 4142 taxids\n",
      ">10000 seqs - 1754 taxids\n",
      ">100000 seqs - 82 taxids\n"
     ]
    }
   ],
   "source": [
    "for thr in np.logspace(0, 5, 6):\n",
    "    ntaxids = cnt_taxid[cnt_taxid > thr].shape[0]\n",
    "    print(f\">{int(thr)} seqs - {ntaxids} taxids\")"
   ]
  },
  {
   "cell_type": "code",
   "execution_count": 91,
   "metadata": {},
   "outputs": [
    {
     "data": {
      "text/plain": [
       "(557435,)"
      ]
     },
     "execution_count": 91,
     "metadata": {},
     "output_type": "execute_result"
    }
   ],
   "source": [
    "cnt_taxid[cnt_taxid > 3].shape"
   ]
  },
  {
   "cell_type": "code",
   "execution_count": 94,
   "metadata": {},
   "outputs": [],
   "source": [
    "cnt_taxid[cnt_taxid > 3].index.to_frame().to_csv(\n",
    "    '../data/nt_taxid/taxids_with_at_least_4_seqs.csv', index=False)"
   ]
  },
  {
   "cell_type": "code",
   "execution_count": 88,
   "metadata": {},
   "outputs": [
    {
     "data": {
      "image/png": "[encoded data removed]",
      "text/plain": [
       "<Figure size 640x480 with 1 Axes>"
      ]
     },
     "metadata": {},
     "output_type": "display_data"
    }
   ],
   "source": [
    "nt_entries_all[nt_entries_all.taxid == 2697049].seq_len.hist(bins=100)\n",
    "plt.title('SARS-CoV-2 entries lentgth');"
   ]
  }
 ],
 "metadata": {
  "kernelspec": {
   "display_name": "env_pipe",
   "language": "python",
   "name": "python3"
  },
  "language_info": {
   "codemirror_mode": {
    "name": "ipython",
    "version": 3
   },
   "file_extension": ".py",
   "mimetype": "text/x-python",
   "name": "python",
   "nbconvert_exporter": "python",
   "pygments_lexer": "ipython3",
   "version": "3.9.18"
  }
 },
 "nbformat": 4,
 "nbformat_minor": 2
}
